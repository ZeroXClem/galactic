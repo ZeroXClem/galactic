{
 "cells": [
  {
   "cell_type": "code",
   "execution_count": 16,
   "metadata": {},
   "outputs": [],
   "source": [
    "from galactic import GalacticDataset\n",
    "import pandas as pd"
   ]
  },
  {
   "cell_type": "code",
   "execution_count": 17,
   "metadata": {},
   "outputs": [
    {
     "data": {
      "application/vnd.jupyter.widget-view+json": {
       "model_id": "33c7d5124f914c86b432713192d94f7a",
       "version_major": 2,
       "version_minor": 0
      },
      "text/plain": [
       "Map:   0%|          | 0/6124 [00:00<?, ? examples/s]"
      ]
     },
     "metadata": {},
     "output_type": "display_data"
    },
    {
     "data": {
      "text/plain": [
       "[{'from': 'human',\n",
       "  'value': \"I want to send a custom PHP file url to a person and once he has visited the URL, I don't want the url to subsequently open on any other device except the one it was opened first on. How do I implement this?\"},\n",
       " {'from': 'gpt',\n",
       "  'value': 'To achieve this, you can implement a one-time URL access system with PHP, which stores the device\\'s fingerprint when the URL is first accessed and then checks for a match in subsequent accesses. Here\\'s an outline of the process:\\n\\n1. Generate a unique ID for the URL and save it in a database along with an initial \"unused\" status.\\n2. When the user visits the URL, check the status of the unique ID in the database.\\n3. If the URL is unused, save the device\\'s fingerprint in the database and update the URL status to \"used.\"\\n4. If the URL has been used, check if the device fingerprint matches the one saved in the database. If it matches, grant access, otherwise deny access.\\n\\nHere\\'s some sample code to help you get started:\\n\\n1. Create a database table to store the URL information:\\n```sql\\nCREATE TABLE unique_urls (\\n  id INT AUTO_INCREMENT PRIMARY KEY,\\n  unique_id VARCHAR(32) NOT NULL UNIQUE,\\n  status ENUM(\\'unused\\', \\'used\\') NOT NULL,\\n  device_fingerprint VARCHAR(255) DEFAULT NULL\\n);\\n```\\n1. Generate a unique URL with a unique ID:\\n```php\\n<?php\\n// Generate a unique ID and save it to the database\\n$unique_id = bin2hex(random_bytes(16));\\n$status = \\'unused\\';\\n\\n// Database connection\\n$db = new PDO(\\'mysql:host=localhost;dbname=mydb\\', \\'username\\', \\'password\\');\\n$stmt = $db->prepare(\"INSERT INTO unique_urls (unique_id, status) VALUES (:unique_id, :status)\");\\n$stmt->bindParam(\\':unique_id\\', $unique_id);\\n$stmt->bindParam(\\':status\\', $status);\\n$stmt->execute();\\n\\n// Share the URL with the user\\n$url = \"https://example.com/one-time-url.php?uid={$unique_id}\";\\necho \"Share this URL: {$url}\";\\n?>\\n```\\n1. Create the PHP script to handle one-time URL access:\\n```php\\n<?php\\n// one-time-url.php\\nif (!isset($_GET[\\'uid\\'])) {\\n  die(\\'Invalid URL\\');\\n}\\n\\n$unique_id = $_GET[\\'uid\\'];\\n\\n// Database connection\\n$db = new PDO(\\'mysql:host=localhost;dbname=mydb\\', \\'username\\', \\'password\\');\\n\\n$stmt = $db->prepare(\"SELECT * FROM unique_urls WHERE unique_id = :unique_id\");\\n$stmt->bindParam(\\':unique_id\\', $unique_id);\\n$stmt->execute();\\n$row = $stmt->fetch(PDO::FETCH_ASSOC);\\n\\nif (!$row) {\\n  die(\\'Invalid URL\\');\\n}\\n\\n// Get the device fingerprint\\n$device_fingerprint = md5($_SERVER[\\'HTTP_USER_AGENT\\'] . $_SERVER[\\'REMOTE_ADDR\\']);\\n\\nif ($row[\\'status\\'] === \\'unused\\') {\\n  // Update the URL status and store the device fingerprint\\n  $stmt = $db->prepare(\"UPDATE unique_urls SET status = \\'used\\', device_fingerprint = :device_fingerprint WHERE unique_id = :unique_id\");\\n  $stmt->bindParam(\\':unique_id\\', $unique_id);\\n  $stmt->bindParam(\\':device_fingerprint\\', $device_fingerprint);\\n  $stmt->execute();\\n\\n  // Show the content\\n  echo \"Welcome! This is your one-time access content.\";\\n} else {\\n  // Check if the device fingerprint matches\\n  if ($row[\\'device_fingerprint\\'] === $device_fingerprint) {\\n    // Show the content\\n    echo \"Welcome back! This is your one-time access content.\";\\n  } else {\\n    die(\\'This URL has already been used on another device.\\');\\n  }\\n}\\n?>\\n```\\nThis implementation uses a simple device fingerprint based on the IP address and User-Agent, but it can be improved by using a more robust fingerprinting library like FingerprintJS. Note that this implementation is just a starting point and should be adapted to'},\n",
       " {'from': 'human',\n",
       "  'value': 'Give me the version that uses the more robust fingerprinting library'},\n",
       " {'from': 'gpt',\n",
       "  'value': 'To use a more robust fingerprinting library like FingerprintJS, you\\'ll need to modify the previous implementation by adding client-side JavaScript to generate the device fingerprint and then send it to the server. Here\\'s how you can do it:\\n\\n1. Include the FingerprintJS library in your project. You can either download it from <https://github.com/fingerprintjs/fingerprintjs> or use the CDN link:\\n```html\\n<script src=\"https://cdnjs.cloudflare.com/ajax/libs/fingerprintjs/3.3.0/fp.min.js\"></script>\\n```\\n1. Modify the `one-time-url.php` file to include the FingerprintJS library, use JavaScript to get the fingerprint, and send it to the server using AJAX:\\n```php\\n<?php\\n// one-time-url.php\\nif (!isset($_GET[\\'uid\\'])) {\\n  die(\\'Invalid URL\\');\\n}\\n\\n$unique_id = $_GET[\\'uid\\'];\\n?>\\n<!DOCTYPE html>\\n<html lang=\"en\">\\n<head>\\n  <meta charset=\"UTF-8\">\\n  <meta name=\"viewport\" content=\"width=device-width, initial-scale=1.0\">\\n  <title>One-Time URL</title>\\n  <script src=\"https://cdnjs.cloudflare.com/ajax/libs/fingerprintjs/3.3.0/fp.min.js\"></script>\\n</head>\\n<body>\\n\\n<div id=\"content\"></div>\\n\\n<script>\\n  async function getFingerprint() {\\n    // Get the device fingerprint using FingerprintJS\\n    const fp = await FingerprintJS.load();\\n    const result = await fp.get();\\n    return result.hash;\\n  }\\n\\n  async function checkAccess() {\\n    const fingerprint = await getFingerprint();\\n    const response = await fetch(\\'check_access.php?uid=<?php echo $unique_id ?>&fingerprint=\\' + fingerprint);\\n    const content = await response.text();\\n    document.getElementById(\\'content\\').innerHTML = content;\\n  }\\n\\n  checkAccess();\\n</script>\\n\\n</body>\\n</html>\\n```\\n1. Create a new PHP file called `check_access.php` to handle the server-side logic:\\n```php\\n<?php\\n// check_access.php\\nif (!isset($_GET[\\'uid\\']) || !isset($_GET[\\'fingerprint\\'])) {\\n  die(\\'Invalid request\\');\\n}\\n\\n$unique_id = $_GET[\\'uid\\'];\\n$device_fingerprint = $_GET[\\'fingerprint\\'];\\n\\n// Database connection\\n$db = new PDO(\\'mysql:host=localhost;dbname=mydb\\', \\'username\\', \\'password\\');\\n\\n$stmt = $db->prepare(\"SELECT * FROM unique_urls WHERE unique_id = :unique_id\");\\n$stmt->bindParam(\\':unique_id\\', $unique_id);\\n$stmt->execute();\\n$row = $stmt->fetch(PDO::FETCH_ASSOC);\\n\\nif (!$row) {\\n  die(\\'Invalid URL\\');\\n}\\n\\nif ($row[\\'status\\'] === \\'unused\\') {\\n  // Update the URL status and store the device fingerprint\\n  $stmt = $db->prepare(\"UPDATE unique_urls SET status = \\'used\\', device_fingerprint = :device_fingerprint WHERE unique_id = :unique_id\");\\n  $stmt->bindParam(\\':unique_id\\', $unique_id);\\n  $stmt->bindParam(\\':device_fingerprint\\', $device_fingerprint);\\n  $stmt->execute();\\n\\n  // Show the content\\n  echo \"Welcome! This is your one-time access content.\";\\n} else {\\n  // Check if the device fingerprint matches\\n  if ($row[\\'device_fingerprint\\'] === $device_fingerprint) {\\n    // Show the content\\n    echo \"Welcome back! This is your one-time access content.\";\\n  } else {\\n    die(\\'This URL has already been used on another device.\\');\\n  }\\n}\\n?>\\n```\\nThis implementation uses FingerprintJS, a more robust device fingerprinting library. It generates the device fingerprint on the client-side and sends it to the server for verification'}]"
      ]
     },
     "execution_count": 17,
     "metadata": {},
     "output_type": "execute_result"
    }
   ],
   "source": [
    "# downloaded from https://huggingface.co/datasets/openchat/openchat_sharegpt4_dataset/tree/main\n",
    "ds = pd.read_json(\"/Users/ben/Downloads/sharegpt_gpt4.json\", orient=\"records\") # extra step because Galactic uses JSONL but not JSON, JSON is cursed\n",
    "ds = GalacticDataset.from_pandas(ds)\n",
    "ds['items'][0]"
   ]
  },
  {
   "cell_type": "markdown",
   "metadata": {},
   "source": [
    "As you can see, we've already got a column that has a nice list of messages, but it's not formatted in a standard way (the \"role\" field is called \"from\", the \"content\" field is \"value\", and the roles are \"human\" and \"gpt\"). Let's fix that."
   ]
  },
  {
   "cell_type": "code",
   "execution_count": 18,
   "metadata": {},
   "outputs": [
    {
     "data": {
      "application/vnd.jupyter.widget-view+json": {
       "model_id": "90d01d1b9b7f4a1c81d0fc04233d1272",
       "version_major": 2,
       "version_minor": 0
      },
      "text/plain": [
       "Map:   0%|          | 0/6124 [00:00<?, ? examples/s]"
      ]
     },
     "metadata": {},
     "output_type": "display_data"
    },
    {
     "data": {
      "text/plain": [
       "[{'content': \"I want to send a custom PHP file url to a person and once he has visited the URL, I don't want the url to subsequently open on any other device except the one it was opened first on. How do I implement this?\",\n",
       "  'metadata': {},\n",
       "  'role': 'user'},\n",
       " {'content': 'To achieve this, you can implement a one-time URL access system with PHP, which stores the device\\'s fingerprint when the URL is first accessed and then checks for a match in subsequent accesses. Here\\'s an outline of the process:\\n\\n1. Generate a unique ID for the URL and save it in a database along with an initial \"unused\" status.\\n2. When the user visits the URL, check the status of the unique ID in the database.\\n3. If the URL is unused, save the device\\'s fingerprint in the database and update the URL status to \"used.\"\\n4. If the URL has been used, check if the device fingerprint matches the one saved in the database. If it matches, grant access, otherwise deny access.\\n\\nHere\\'s some sample code to help you get started:\\n\\n1. Create a database table to store the URL information:\\n```sql\\nCREATE TABLE unique_urls (\\n  id INT AUTO_INCREMENT PRIMARY KEY,\\n  unique_id VARCHAR(32) NOT NULL UNIQUE,\\n  status ENUM(\\'unused\\', \\'used\\') NOT NULL,\\n  device_fingerprint VARCHAR(255) DEFAULT NULL\\n);\\n```\\n1. Generate a unique URL with a unique ID:\\n```php\\n<?php\\n// Generate a unique ID and save it to the database\\n$unique_id = bin2hex(random_bytes(16));\\n$status = \\'unused\\';\\n\\n// Database connection\\n$db = new PDO(\\'mysql:host=localhost;dbname=mydb\\', \\'username\\', \\'password\\');\\n$stmt = $db->prepare(\"INSERT INTO unique_urls (unique_id, status) VALUES (:unique_id, :status)\");\\n$stmt->bindParam(\\':unique_id\\', $unique_id);\\n$stmt->bindParam(\\':status\\', $status);\\n$stmt->execute();\\n\\n// Share the URL with the user\\n$url = \"https://example.com/one-time-url.php?uid={$unique_id}\";\\necho \"Share this URL: {$url}\";\\n?>\\n```\\n1. Create the PHP script to handle one-time URL access:\\n```php\\n<?php\\n// one-time-url.php\\nif (!isset($_GET[\\'uid\\'])) {\\n  die(\\'Invalid URL\\');\\n}\\n\\n$unique_id = $_GET[\\'uid\\'];\\n\\n// Database connection\\n$db = new PDO(\\'mysql:host=localhost;dbname=mydb\\', \\'username\\', \\'password\\');\\n\\n$stmt = $db->prepare(\"SELECT * FROM unique_urls WHERE unique_id = :unique_id\");\\n$stmt->bindParam(\\':unique_id\\', $unique_id);\\n$stmt->execute();\\n$row = $stmt->fetch(PDO::FETCH_ASSOC);\\n\\nif (!$row) {\\n  die(\\'Invalid URL\\');\\n}\\n\\n// Get the device fingerprint\\n$device_fingerprint = md5($_SERVER[\\'HTTP_USER_AGENT\\'] . $_SERVER[\\'REMOTE_ADDR\\']);\\n\\nif ($row[\\'status\\'] === \\'unused\\') {\\n  // Update the URL status and store the device fingerprint\\n  $stmt = $db->prepare(\"UPDATE unique_urls SET status = \\'used\\', device_fingerprint = :device_fingerprint WHERE unique_id = :unique_id\");\\n  $stmt->bindParam(\\':unique_id\\', $unique_id);\\n  $stmt->bindParam(\\':device_fingerprint\\', $device_fingerprint);\\n  $stmt->execute();\\n\\n  // Show the content\\n  echo \"Welcome! This is your one-time access content.\";\\n} else {\\n  // Check if the device fingerprint matches\\n  if ($row[\\'device_fingerprint\\'] === $device_fingerprint) {\\n    // Show the content\\n    echo \"Welcome back! This is your one-time access content.\";\\n  } else {\\n    die(\\'This URL has already been used on another device.\\');\\n  }\\n}\\n?>\\n```\\nThis implementation uses a simple device fingerprint based on the IP address and User-Agent, but it can be improved by using a more robust fingerprinting library like FingerprintJS. Note that this implementation is just a starting point and should be adapted to',\n",
       "  'metadata': {},\n",
       "  'role': 'assistant'},\n",
       " {'content': 'Give me the version that uses the more robust fingerprinting library',\n",
       "  'metadata': {},\n",
       "  'role': 'user'},\n",
       " {'content': 'To use a more robust fingerprinting library like FingerprintJS, you\\'ll need to modify the previous implementation by adding client-side JavaScript to generate the device fingerprint and then send it to the server. Here\\'s how you can do it:\\n\\n1. Include the FingerprintJS library in your project. You can either download it from <https://github.com/fingerprintjs/fingerprintjs> or use the CDN link:\\n```html\\n<script src=\"https://cdnjs.cloudflare.com/ajax/libs/fingerprintjs/3.3.0/fp.min.js\"></script>\\n```\\n1. Modify the `one-time-url.php` file to include the FingerprintJS library, use JavaScript to get the fingerprint, and send it to the server using AJAX:\\n```php\\n<?php\\n// one-time-url.php\\nif (!isset($_GET[\\'uid\\'])) {\\n  die(\\'Invalid URL\\');\\n}\\n\\n$unique_id = $_GET[\\'uid\\'];\\n?>\\n<!DOCTYPE html>\\n<html lang=\"en\">\\n<head>\\n  <meta charset=\"UTF-8\">\\n  <meta name=\"viewport\" content=\"width=device-width, initial-scale=1.0\">\\n  <title>One-Time URL</title>\\n  <script src=\"https://cdnjs.cloudflare.com/ajax/libs/fingerprintjs/3.3.0/fp.min.js\"></script>\\n</head>\\n<body>\\n\\n<div id=\"content\"></div>\\n\\n<script>\\n  async function getFingerprint() {\\n    // Get the device fingerprint using FingerprintJS\\n    const fp = await FingerprintJS.load();\\n    const result = await fp.get();\\n    return result.hash;\\n  }\\n\\n  async function checkAccess() {\\n    const fingerprint = await getFingerprint();\\n    const response = await fetch(\\'check_access.php?uid=<?php echo $unique_id ?>&fingerprint=\\' + fingerprint);\\n    const content = await response.text();\\n    document.getElementById(\\'content\\').innerHTML = content;\\n  }\\n\\n  checkAccess();\\n</script>\\n\\n</body>\\n</html>\\n```\\n1. Create a new PHP file called `check_access.php` to handle the server-side logic:\\n```php\\n<?php\\n// check_access.php\\nif (!isset($_GET[\\'uid\\']) || !isset($_GET[\\'fingerprint\\'])) {\\n  die(\\'Invalid request\\');\\n}\\n\\n$unique_id = $_GET[\\'uid\\'];\\n$device_fingerprint = $_GET[\\'fingerprint\\'];\\n\\n// Database connection\\n$db = new PDO(\\'mysql:host=localhost;dbname=mydb\\', \\'username\\', \\'password\\');\\n\\n$stmt = $db->prepare(\"SELECT * FROM unique_urls WHERE unique_id = :unique_id\");\\n$stmt->bindParam(\\':unique_id\\', $unique_id);\\n$stmt->execute();\\n$row = $stmt->fetch(PDO::FETCH_ASSOC);\\n\\nif (!$row) {\\n  die(\\'Invalid URL\\');\\n}\\n\\nif ($row[\\'status\\'] === \\'unused\\') {\\n  // Update the URL status and store the device fingerprint\\n  $stmt = $db->prepare(\"UPDATE unique_urls SET status = \\'used\\', device_fingerprint = :device_fingerprint WHERE unique_id = :unique_id\");\\n  $stmt->bindParam(\\':unique_id\\', $unique_id);\\n  $stmt->bindParam(\\':device_fingerprint\\', $device_fingerprint);\\n  $stmt->execute();\\n\\n  // Show the content\\n  echo \"Welcome! This is your one-time access content.\";\\n} else {\\n  // Check if the device fingerprint matches\\n  if ($row[\\'device_fingerprint\\'] === $device_fingerprint) {\\n    // Show the content\\n    echo \"Welcome back! This is your one-time access content.\";\\n  } else {\\n    die(\\'This URL has already been used on another device.\\');\\n  }\\n}\\n?>\\n```\\nThis implementation uses FingerprintJS, a more robust device fingerprinting library. It generates the device fingerprint on the client-side and sends it to the server for verification',\n",
       "  'metadata': {},\n",
       "  'role': 'assistant'}]"
      ]
     },
     "execution_count": 18,
     "metadata": {},
     "output_type": "execute_result"
    }
   ],
   "source": [
    "# tell the function what fields are named in the input data\n",
    "input_message_config = {\n",
    "    \"role_field\": \"from\",\n",
    "    \"content_field\": \"value\",\n",
    "    \"user_role\": \"human\",\n",
    "    \"assistant_role\": \"gpt\",\n",
    "    \"system_role\": \"system\",\n",
    "}\n",
    "\n",
    "ds.conversation_from_dicts(\n",
    "    input_column=\"items\",\n",
    "    input_message_config=input_message_config,\n",
    "    output_column=\"conversation\",\n",
    "    # output_message_config -- if omitted, will automatically use the OpenAI \"role\", \"content\", \"user\", \"assistant\" \"system\" format\n",
    "    # conversation_field -- only needed if the list of messages is buried in a sub-field of the input_column\n",
    "    metadata_fields=[],\n",
    ")\n",
    "ds[\"conversation\"][0]"
   ]
  },
  {
   "cell_type": "markdown",
   "metadata": {},
   "source": [
    "Now, we want to generate a dataset for RLHF. We'll use an RLAIF approach: get a critique from a LLM, then use that critique to re-write the last assistant response to be better. We'll use several Galactic utilities along the way. First, we'll make sure all the conversations end with an assistant message. Then, we'll split off that last message, and turn both the previous conversation and the last message into strings that can be used to prompt an LLM."
   ]
  },
  {
   "cell_type": "code",
   "execution_count": 19,
   "metadata": {},
   "outputs": [
    {
     "data": {
      "application/vnd.jupyter.widget-view+json": {
       "model_id": "1ba88c0f1b054f89a5f7f76d3b61e58c",
       "version_major": 2,
       "version_minor": 0
      },
      "text/plain": [
       "Map:   0%|          | 0/6124 [00:00<?, ? examples/s]"
      ]
     },
     "metadata": {},
     "output_type": "display_data"
    },
    {
     "data": {
      "text/plain": [
       "Counter({'assistant': 6123, 'user': 1})"
      ]
     },
     "execution_count": 19,
     "metadata": {},
     "output_type": "execute_result"
    }
   ],
   "source": [
    "# now that we've fixed the format, the input_message_config is the OpenAI format\n",
    "input_message_config = {\n",
    "    \"role_field\": \"role\",\n",
    "    \"content_field\": \"content\",\n",
    "    \"user_role\": \"user\",\n",
    "    \"assistant_role\": \"assistant\",\n",
    "    \"system_role\": \"system\",\n",
    "}\n",
    "ds = ds.get_last_speaker(\n",
    "    \"conversation\",\n",
    "    input_message_config=input_message_config,   \n",
    ")\n",
    "from collections import Counter\n",
    "Counter(ds[\"__last_speaker\"])\n",
    "\n"
   ]
  },
  {
   "cell_type": "markdown",
   "metadata": {},
   "source": [
    "We've only got 1 conversation where the last speaker isn't the assistant, but with messier datasets you might expect more cases like this. Luckily we have a utility to make sure the last speaker of every conversation is the assistant. Then, we'll strip off that last assistant message and put it in a separate column."
   ]
  },
  {
   "cell_type": "code",
   "execution_count": 20,
   "metadata": {},
   "outputs": [
    {
     "data": {
      "application/vnd.jupyter.widget-view+json": {
       "model_id": "05cd89f3ca984c20b52d3efaa0d72d57",
       "version_major": 2,
       "version_minor": 0
      },
      "text/plain": [
       "Map:   0%|          | 0/6124 [00:00<?, ? examples/s]"
      ]
     },
     "metadata": {},
     "output_type": "display_data"
    },
    {
     "data": {
      "application/vnd.jupyter.widget-view+json": {
       "model_id": "b54f1f3a883045439b936dc4c706048c",
       "version_major": 2,
       "version_minor": 0
      },
      "text/plain": [
       "Map:   0%|          | 0/6124 [00:00<?, ? examples/s]"
      ]
     },
     "metadata": {},
     "output_type": "display_data"
    },
    {
     "data": {
      "text/plain": [
       "Counter({'assistant': 6124})"
      ]
     },
     "execution_count": 20,
     "metadata": {},
     "output_type": "execute_result"
    }
   ],
   "source": [
    "ds.standardize_last_turn(\n",
    "    \"conversation\",\n",
    "    input_message_config=input_message_config,\n",
    "    last_speaker_role=\"assistant\"\n",
    ")\n",
    "ds = ds.get_last_speaker(\n",
    "    \"conversation\",\n",
    "    input_message_config=input_message_config,   \n",
    ")\n",
    "Counter(ds[\"__last_speaker\"])"
   ]
  },
  {
   "cell_type": "code",
   "execution_count": 21,
   "metadata": {},
   "outputs": [
    {
     "data": {
      "application/vnd.jupyter.widget-view+json": {
       "model_id": "bb6954fa2fa54f95b69ed2836c06d9e4",
       "version_major": 2,
       "version_minor": 0
      },
      "text/plain": [
       "Map:   0%|          | 0/6124 [00:00<?, ? examples/s]"
      ]
     },
     "metadata": {},
     "output_type": "display_data"
    },
    {
     "data": {
      "text/plain": [
       "'To use a more robust fingerprinting library like FingerprintJS, you\\'ll need to modify the previous implementation by adding client-side JavaScript to generate the device fingerprint and then send it to the server. Here\\'s how you can do it:\\n\\n1. Include the FingerprintJS library in your project. You can either download it from <https://github.com/fingerprintjs/fingerprintjs> or use the CDN link:\\n```html\\n<script src=\"https://cdnjs.cloudflare.com/ajax/libs/fingerprintjs/3.3.0/fp.min.js\"></script>\\n```\\n1. Modify the `one-time-url.php` file to include the FingerprintJS library, use JavaScript to get the fingerprint, and send it to the server using AJAX:\\n```php\\n<?php\\n// one-time-url.php\\nif (!isset($_GET[\\'uid\\'])) {\\n  die(\\'Invalid URL\\');\\n}\\n\\n$unique_id = $_GET[\\'uid\\'];\\n?>\\n<!DOCTYPE html>\\n<html lang=\"en\">\\n<head>\\n  <meta charset=\"UTF-8\">\\n  <meta name=\"viewport\" content=\"width=device-width, initial-scale=1.0\">\\n  <title>One-Time URL</title>\\n  <script src=\"https://cdnjs.cloudflare.com/ajax/libs/fingerprintjs/3.3.0/fp.min.js\"></script>\\n</head>\\n<body>\\n\\n<div id=\"content\"></div>\\n\\n<script>\\n  async function getFingerprint() {\\n    // Get the device fingerprint using FingerprintJS\\n    const fp = await FingerprintJS.load();\\n    const result = await fp.get();\\n    return result.hash;\\n  }\\n\\n  async function checkAccess() {\\n    const fingerprint = await getFingerprint();\\n    const response = await fetch(\\'check_access.php?uid=<?php echo $unique_id ?>&fingerprint=\\' + fingerprint);\\n    const content = await response.text();\\n    document.getElementById(\\'content\\').innerHTML = content;\\n  }\\n\\n  checkAccess();\\n</script>\\n\\n</body>\\n</html>\\n```\\n1. Create a new PHP file called `check_access.php` to handle the server-side logic:\\n```php\\n<?php\\n// check_access.php\\nif (!isset($_GET[\\'uid\\']) || !isset($_GET[\\'fingerprint\\'])) {\\n  die(\\'Invalid request\\');\\n}\\n\\n$unique_id = $_GET[\\'uid\\'];\\n$device_fingerprint = $_GET[\\'fingerprint\\'];\\n\\n// Database connection\\n$db = new PDO(\\'mysql:host=localhost;dbname=mydb\\', \\'username\\', \\'password\\');\\n\\n$stmt = $db->prepare(\"SELECT * FROM unique_urls WHERE unique_id = :unique_id\");\\n$stmt->bindParam(\\':unique_id\\', $unique_id);\\n$stmt->execute();\\n$row = $stmt->fetch(PDO::FETCH_ASSOC);\\n\\nif (!$row) {\\n  die(\\'Invalid URL\\');\\n}\\n\\nif ($row[\\'status\\'] === \\'unused\\') {\\n  // Update the URL status and store the device fingerprint\\n  $stmt = $db->prepare(\"UPDATE unique_urls SET status = \\'used\\', device_fingerprint = :device_fingerprint WHERE unique_id = :unique_id\");\\n  $stmt->bindParam(\\':unique_id\\', $unique_id);\\n  $stmt->bindParam(\\':device_fingerprint\\', $device_fingerprint);\\n  $stmt->execute();\\n\\n  // Show the content\\n  echo \"Welcome! This is your one-time access content.\";\\n} else {\\n  // Check if the device fingerprint matches\\n  if ($row[\\'device_fingerprint\\'] === $device_fingerprint) {\\n    // Show the content\\n    echo \"Welcome back! This is your one-time access content.\";\\n  } else {\\n    die(\\'This URL has already been used on another device.\\');\\n  }\\n}\\n?>\\n```\\nThis implementation uses FingerprintJS, a more robust device fingerprinting library. It generates the device fingerprint on the client-side and sends it to the server for verification'"
      ]
     },
     "execution_count": 21,
     "metadata": {},
     "output_type": "execute_result"
    }
   ],
   "source": [
    "ds.take_last_message(\n",
    "    input_column=\"conversation\",\n",
    "    input_message_config=input_message_config,\n",
    "    output_column=\"last_message\",\n",
    "    output_type=\"string\",\n",
    "    remove_from_input=True,\n",
    ");\n",
    "ds[\"last_message\"][0]"
   ]
  },
  {
   "cell_type": "markdown",
   "metadata": {},
   "source": [
    "Looks good! Now, we'll add the \"Constitutional AI\" style pipeline. We'll first ask for a critique of the last reply. First, however, we should make the \"previous conversation\" a string instead of a JSON list, and also filter ones that are too long so we don't exceed the LLM's context length (and so it doesn't take too long to run)."
   ]
  },
  {
   "cell_type": "code",
   "execution_count": 22,
   "metadata": {},
   "outputs": [
    {
     "data": {
      "application/vnd.jupyter.widget-view+json": {
       "model_id": "6631fb6366304112aaf5b6e2df8c0719",
       "version_major": 2,
       "version_minor": 0
      },
      "text/plain": [
       "Map:   0%|          | 0/6124 [00:00<?, ? examples/s]"
      ]
     },
     "metadata": {},
     "output_type": "display_data"
    },
    {
     "data": {
      "application/vnd.jupyter.widget-view+json": {
       "model_id": "75d19ec28b5345c682c98b8c2e89965b",
       "version_major": 2,
       "version_minor": 0
      },
      "text/plain": [
       "Map:   0%|          | 0/6124 [00:00<?, ? examples/s]"
      ]
     },
     "metadata": {},
     "output_type": "display_data"
    },
    {
     "name": "stderr",
     "output_type": "stream",
     "text": [
      "Token indices sequence length is longer than the specified maximum sequence length for this model (1064 > 1024). Running this sequence through the model will result in indexing errors\n",
      "INFO: Counted tokens in fields: ['conversation_string'], added metadata to __token_count__\n"
     ]
    },
    {
     "data": {
      "application/vnd.jupyter.widget-view+json": {
       "model_id": "f175b2ea137d48cfa71c0ae9a8d6a3fc",
       "version_major": 2,
       "version_minor": 0
      },
      "text/plain": [
       "Filter:   0%|          | 0/6124 [00:00<?, ? examples/s]"
      ]
     },
     "metadata": {},
     "output_type": "display_data"
    },
    {
     "data": {
      "text/plain": [
       "3724"
      ]
     },
     "execution_count": 22,
     "metadata": {},
     "output_type": "execute_result"
    }
   ],
   "source": [
    "ds = ds.convert_conversation_to_string(\n",
    "    input_column=\"conversation\",\n",
    "    input_message_config=input_message_config,\n",
    "    output_column=\"conversation_string\",\n",
    "    user_delimiter=\"\\n\\nUser: \",\n",
    "    assistant_delimiter=\"\\n\\nAssistant: \",\n",
    "    system_delimiter=\"\\n\\nSystem: \",\n",
    ").count_tokens(\n",
    "    fields=[\"conversation_string\"],\n",
    "    tokenizer=\"gpt2\", # close enough\n",
    ").filter(\n",
    "    lambda x: x[\"__token_count__conversation_string\"] < 2500\n",
    ")\n",
    "len(ds)"
   ]
  },
  {
   "cell_type": "code",
   "execution_count": 23,
   "metadata": {},
   "outputs": [
    {
     "data": {
      "application/vnd.jupyter.widget-view+json": {
       "model_id": "16fffb44a1cd42cc8c08c2b244800378",
       "version_major": 2,
       "version_minor": 0
      },
      "text/plain": [
       "Map:   0%|          | 0/3724 [00:00<?, ? examples/s]"
      ]
     },
     "metadata": {},
     "output_type": "display_data"
    },
    {
     "name": "stderr",
     "output_type": "stream",
     "text": [
      "INFO: Example prompt: Below is a JSON representation of a conversation between an AI assistant and a human, including the AI's final reply. The ideal AI reply is helpful, relevant to the user's request, and as short & to-the-point as possible, while avoiding providing any dangerous or harmful information. Please describe where the AI's reply falls short according to these criteria, in short bullets. If you think the AI's reply meets the criteria, don't list reasons, just write 'Perfect' or 'Looks good'. Do not provide any positive feedback--only criticism. If you realize you can't think of serious criticism, just say it looks good.\n",
      "\n",
      "---\n",
      "\n",
      "Previous conversation:\n",
      "User: I want to send a custom PHP file url to a person and once he has visited the URL, I don't want the url to subsequently open on any other device except the one it was opened first on. How do I implement this?\n",
      "\n",
      "Assistant: To achieve this, you can implement a one-time URL access system with PHP, which stores the device's fingerprint when the URL is first accessed and then checks for a match in subsequent accesses. Here's an outline of the process:\n",
      "\n",
      "1. Generate a unique ID for the URL and save it in a database along with an initial \"unused\" status.\n",
      "2. When the user visits the URL, check the status of the unique ID in the database.\n",
      "3. If the URL is unused, save the device's fingerprint in the database and update the URL status to \"used.\"\n",
      "4. If the URL has been used, check if the device fingerprint matches the one saved in the database. If it matches, grant access, otherwise deny access.\n",
      "\n",
      "Here's some sample code to help you get started:\n",
      "\n",
      "1. Create a database table to store the URL information:\n",
      "```sql\n",
      "CREATE TABLE unique_urls (\n",
      "  id INT AUTO_INCREMENT PRIMARY KEY,\n",
      "  unique_id VARCHAR(32) NOT NULL UNIQUE,\n",
      "  status ENUM('unused', 'used') NOT NULL,\n",
      "  device_fingerprint VARCHAR(255) DEFAULT NULL\n",
      ");\n",
      "```\n",
      "1. Generate a unique URL with a unique ID:\n",
      "```php\n",
      "<?php\n",
      "// Generate a unique ID and save it to the database\n",
      "$unique_id = bin2hex(random_bytes(16));\n",
      "$status = 'unused';\n",
      "\n",
      "// Database connection\n",
      "$db = new PDO('mysql:host=localhost;dbname=mydb', 'username', 'password');\n",
      "$stmt = $db->prepare(\"INSERT INTO unique_urls (unique_id, status) VALUES (:unique_id, :status)\");\n",
      "$stmt->bindParam(':unique_id', $unique_id);\n",
      "$stmt->bindParam(':status', $status);\n",
      "$stmt->execute();\n",
      "\n",
      "// Share the URL with the user\n",
      "$url = \"https://example.com/one-time-url.php?uid={$unique_id}\";\n",
      "echo \"Share this URL: {$url}\";\n",
      "?>\n",
      "```\n",
      "1. Create the PHP script to handle one-time URL access:\n",
      "```php\n",
      "<?php\n",
      "// one-time-url.php\n",
      "if (!isset($_GET['uid'])) {\n",
      "  die('Invalid URL');\n",
      "}\n",
      "\n",
      "$unique_id = $_GET['uid'];\n",
      "\n",
      "// Database connection\n",
      "$db = new PDO('mysql:host=localhost;dbname=mydb', 'username', 'password');\n",
      "\n",
      "$stmt = $db->prepare(\"SELECT * FROM unique_urls WHERE unique_id = :unique_id\");\n",
      "$stmt->bindParam(':unique_id', $unique_id);\n",
      "$stmt->execute();\n",
      "$row = $stmt->fetch(PDO::FETCH_ASSOC);\n",
      "\n",
      "if (!$row) {\n",
      "  die('Invalid URL');\n",
      "}\n",
      "\n",
      "// Get the device fingerprint\n",
      "$device_fingerprint = md5($_SERVER['HTTP_USER_AGENT'] . $_SERVER['REMOTE_ADDR']);\n",
      "\n",
      "if ($row['status'] === 'unused') {\n",
      "  // Update the URL status and store the device fingerprint\n",
      "  $stmt = $db->prepare(\"UPDATE unique_urls SET status = 'used', device_fingerprint = :device_fingerprint WHERE unique_id = :unique_id\");\n",
      "  $stmt->bindParam(':unique_id', $unique_id);\n",
      "  $stmt->bindParam(':device_fingerprint', $device_fingerprint);\n",
      "  $stmt->execute();\n",
      "\n",
      "  // Show the content\n",
      "  echo \"Welcome! This is your one-time access content.\";\n",
      "} else {\n",
      "  // Check if the device fingerprint matches\n",
      "  if ($row['device_fingerprint'] === $device_fingerprint) {\n",
      "    // Show the content\n",
      "    echo \"Welcome back! This is your one-time access content.\";\n",
      "  } else {\n",
      "    die('This URL has already been used on another device.');\n",
      "  }\n",
      "}\n",
      "?>\n",
      "```\n",
      "This implementation uses a simple device fingerprint based on the IP address and User-Agent, but it can be improved by using a more robust fingerprinting library like FingerprintJS. Note that this implementation is just a starting point and should be adapted to\n",
      "\n",
      "User: Give me the version that uses the more robust fingerprinting library\n",
      "\n",
      "---\n",
      "\n",
      "AI's reply:\n",
      "To use a more robust fingerprinting library like FingerprintJS, you'll need to modify the previous implementation by adding client-side JavaScript to generate the device fingerprint and then send it to the server. Here's how you can do it:\n",
      "\n",
      "1. Include the FingerprintJS library in your project. You can either download it from <https://github.com/fingerprintjs/fingerprintjs> or use the CDN link:\n",
      "```html\n",
      "<script src=\"https://cdnjs.cloudflare.com/ajax/libs/fingerprintjs/3.3.0/fp.min.js\"></script>\n",
      "```\n",
      "1. Modify the `one-time-url.php` file to include the FingerprintJS library, use JavaScript to get the fingerprint, and send it to the server using AJAX:\n",
      "```php\n",
      "<?php\n",
      "// one-time-url.php\n",
      "if (!isset($_GET['uid'])) {\n",
      "  die('Invalid URL');\n",
      "}\n",
      "\n",
      "$unique_id = $_GET['uid'];\n",
      "?>\n",
      "<!DOCTYPE html>\n",
      "<html lang=\"en\">\n",
      "<head>\n",
      "  <meta charset=\"UTF-8\">\n",
      "  <meta name=\"viewport\" content=\"width=device-width, initial-scale=1.0\">\n",
      "  <title>One-Time URL</title>\n",
      "  <script src=\"https://cdnjs.cloudflare.com/ajax/libs/fingerprintjs/3.3.0/fp.min.js\"></script>\n",
      "</head>\n",
      "<body>\n",
      "\n",
      "<div id=\"content\"></div>\n",
      "\n",
      "<script>\n",
      "  async function getFingerprint() {\n",
      "    // Get the device fingerprint using FingerprintJS\n",
      "    const fp = await FingerprintJS.load();\n",
      "    const result = await fp.get();\n",
      "    return result.hash;\n",
      "  }\n",
      "\n",
      "  async function checkAccess() {\n",
      "    const fingerprint = await getFingerprint();\n",
      "    const response = await fetch('check_access.php?uid=<?php echo $unique_id ?>&fingerprint=' + fingerprint);\n",
      "    const content = await response.text();\n",
      "    document.getElementById('content').innerHTML = content;\n",
      "  }\n",
      "\n",
      "  checkAccess();\n",
      "</script>\n",
      "\n",
      "</body>\n",
      "</html>\n",
      "```\n",
      "1. Create a new PHP file called `check_access.php` to handle the server-side logic:\n",
      "```php\n",
      "<?php\n",
      "// check_access.php\n",
      "if (!isset($_GET['uid']) || !isset($_GET['fingerprint'])) {\n",
      "  die('Invalid request');\n",
      "}\n",
      "\n",
      "$unique_id = $_GET['uid'];\n",
      "$device_fingerprint = $_GET['fingerprint'];\n",
      "\n",
      "// Database connection\n",
      "$db = new PDO('mysql:host=localhost;dbname=mydb', 'username', 'password');\n",
      "\n",
      "$stmt = $db->prepare(\"SELECT * FROM unique_urls WHERE unique_id = :unique_id\");\n",
      "$stmt->bindParam(':unique_id', $unique_id);\n",
      "$stmt->execute();\n",
      "$row = $stmt->fetch(PDO::FETCH_ASSOC);\n",
      "\n",
      "if (!$row) {\n",
      "  die('Invalid URL');\n",
      "}\n",
      "\n",
      "if ($row['status'] === 'unused') {\n",
      "  // Update the URL status and store the device fingerprint\n",
      "  $stmt = $db->prepare(\"UPDATE unique_urls SET status = 'used', device_fingerprint = :device_fingerprint WHERE unique_id = :unique_id\");\n",
      "  $stmt->bindParam(':unique_id', $unique_id);\n",
      "  $stmt->bindParam(':device_fingerprint', $device_fingerprint);\n",
      "  $stmt->execute();\n",
      "\n",
      "  // Show the content\n",
      "  echo \"Welcome! This is your one-time access content.\";\n",
      "} else {\n",
      "  // Check if the device fingerprint matches\n",
      "  if ($row['device_fingerprint'] === $device_fingerprint) {\n",
      "    // Show the content\n",
      "    echo \"Welcome back! This is your one-time access content.\";\n",
      "  } else {\n",
      "    die('This URL has already been used on another device.');\n",
      "  }\n",
      "}\n",
      "?>\n",
      "```\n",
      "This implementation uses FingerprintJS, a more robust device fingerprinting library. It generates the device fingerprint on the client-side and sends it to the server for verification\n",
      "\n",
      "---\n",
      "\n",
      "Critique:\n"
     ]
    },
    {
     "data": {
      "application/vnd.jupyter.widget-view+json": {
       "model_id": "0ca161eaa5b74d92b4e4e43d736dd707",
       "version_major": 2,
       "version_minor": 0
      },
      "text/plain": [
       "  0%|          | 0/3724 [00:00<?, ?it/s]"
      ]
     },
     "metadata": {},
     "output_type": "display_data"
    },
    {
     "name": "stderr",
     "output_type": "stream",
     "text": [
      "ERROR: Exception: \n",
      "ERROR: Exception: \n",
      "ERROR: Exception: \n",
      "INFO: Parallel processing complete.\n"
     ]
    },
    {
     "data": {
      "application/vnd.jupyter.widget-view+json": {
       "model_id": "bb5d156685ce495fb5f079ed12a76034",
       "version_major": 2,
       "version_minor": 0
      },
      "text/plain": [
       "Flattening the indices:   0%|          | 0/3724 [00:00<?, ? examples/s]"
      ]
     },
     "metadata": {},
     "output_type": "display_data"
    },
    {
     "name": "stderr",
     "output_type": "stream",
     "text": [
      "INFO: Added new column critique using prompt Below is a JSON representation of a conversation between an AI assistant and a human, including the AI's final reply. The ideal AI reply is helpful, relevant to the user's request, and as short & to-the-point as possible, while avoiding providing any dangerous or harmful information. Please describe where the AI's reply falls short according to these criteria, in short bullets. If you think the AI's reply meets the criteria, don't list reasons, just write 'Perfect' or 'Looks good'. Do not provide any positive feedback--only criticism. If you realize you can't think of serious criticism, just say it looks good.\n",
      "\n",
      "---\n",
      "\n",
      "Previous conversation:\n",
      "{{conversation_string}}\n",
      "\n",
      "---\n",
      "\n",
      "AI's reply:\n",
      "{{last_message}}\n",
      "\n",
      "---\n",
      "\n",
      "Critique:\n"
     ]
    },
    {
     "data": {
      "text/plain": [
       "                                               items         model  \\\n",
       "0  [{'from': 'human', 'value': 'I want to send a ...  Model: GPT-4   \n",
       "1  [{'from': 'human', 'value': 'Explain the plot ...  Model: GPT-4   \n",
       "2  [{'from': 'human', 'value': 'I have a folder c...  Model: GPT-4   \n",
       "3  [{'from': 'human', 'value': 'I envision a plug...  Model: GPT-4   \n",
       "4  [{'from': 'human', 'value': 'I wish to prepare...  Model: GPT-4   \n",
       "5  [{'from': 'human', 'value': 'Dado este XML:\n",
       "\n",
       "\n",
       "...  Model: GPT-4   \n",
       "6  [{'from': 'human', 'value': 'I'm using react-n...  Model: GPT-4   \n",
       "7  [{'from': 'human', 'value': 'for the sample si...  Model: GPT-4   \n",
       "8  [{'from': 'human', 'value': 'write a markdown ...  Model: GPT-4   \n",
       "9  [{'from': 'human', 'value': '如何开发一个屏蔽百度广告的chro...  Model: GPT-4   \n",
       "\n",
       "                                           avatarUrl       id  views  \\\n",
       "0  data:image/jpeg;base64,/9j/4AAQSkZJRgABAQAAAQA...  oSX74tm     15   \n",
       "1  data:image/jpeg;base64,/9j/4AAQSkZJRgABAQAAAQA...  mwN7As7      1   \n",
       "2  data:image/jpeg;base64,/9j/4AAQSkZJRgABAQAAAQA...  hkcnQFN      3   \n",
       "3  data:image/jpeg;base64,/9j/4AAQSkZJRgABAQAAAQA...  noKRLFY      2   \n",
       "4  data:image/jpeg;base64,/9j/4AAQSkZJRgABAQAAAQA...  kd09DNP      2   \n",
       "5  data:image/jpeg;base64,/9j/4AAQSkZJRgABAQAAAQA...  WWHXyFJ      5   \n",
       "6  data:image/jpeg;base64,/9j/4AAQSkZJRgABAQAAAQA...  B8ZP0Tv      1   \n",
       "7  data:image/jpeg;base64,/9j/4AAQSkZJRgABAQAAAQA...  VbwUxiI      3   \n",
       "8  data:image/jpeg;base64,/9j/4AAQSkZJRgABAQAAAQA...  mDmDqju      7   \n",
       "9  data:image/jpeg;base64,/9j/4AAQSkZJRgABAQAAAQA...  OZSGVGC      7   \n",
       "\n",
       "                         hash title  __id  \\\n",
       "0   [-2373679035436262733, 4]  None     0   \n",
       "1   [-4511584509318649961, 2]  None     1   \n",
       "2  [-6164515554611108396, 10]  None     2   \n",
       "3    [8240095096601146825, 4]  None     3   \n",
       "4    [6165723746589820202, 8]  None     5   \n",
       "5    [7996091293689973811, 6]  None     6   \n",
       "6   [6507846923028883766, 10]  None     9   \n",
       "7    [-957209407340128018, 4]  None    10   \n",
       "8    [8631504201565388780, 4]  None    13   \n",
       "9   [-7783868597734963748, 4]  None    16   \n",
       "\n",
       "                                        conversation __last_speaker  \\\n",
       "0  [{'content': 'I want to send a custom PHP file...      assistant   \n",
       "1  [{'content': 'Explain the plot of Cinderella i...      assistant   \n",
       "2  [{'content': 'I have a folder containing many ...      assistant   \n",
       "3  [{'content': 'I envision a plug-in that offers...      assistant   \n",
       "4  [{'content': 'I wish to prepare a 30 minute lo...      assistant   \n",
       "5  [{'content': 'Dado este XML:\n",
       "\n",
       "\n",
       " \n",
       " rojo\n",
       " Renaul...      assistant   \n",
       "6  [{'content': 'I'm using react-native-ble-manag...      assistant   \n",
       "7  [{'content': 'for the sample size calculation ...      assistant   \n",
       "8  [{'content': 'write a markdown blog article ab...      assistant   \n",
       "9  [{'content': '如何开发一个屏蔽百度广告的chrome插件', 'metadat...      assistant   \n",
       "\n",
       "                                        last_message  \\\n",
       "0  To use a more robust fingerprinting library li...   \n",
       "1  A beautiful Cinderella dreams, eventually find...   \n",
       "2  If you encounter the error `bash: mogrify: com...   \n",
       "3  Here's a list of sample commands for various p...   \n",
       "4  Title: Terraform for DevOps: Leveraging Local ...   \n",
       "5  1. Considere el siguiente fragmento de código ...   \n",
       "6  When scanning for Bluetooth devices using `rea...   \n",
       "7  To calculate the sample size for a negative bi...   \n",
       "8  Serving Apple Pay in an iframe is indeed a cha...   \n",
       "9  按钮。点击它，然后选择你的 BaiduAdBlocker 文件夹。浏览器将为你创建一个 `....   \n",
       "\n",
       "                                 conversation_string  \\\n",
       "0  User: I want to send a custom PHP file url to ...   \n",
       "1  User: Explain the plot of Cinderella in a sent...   \n",
       "2  User: I have a folder containing many subfolde...   \n",
       "3  User: I envision a plug-in that offers a set o...   \n",
       "4  User: I wish to prepare a 30 minute long prese...   \n",
       "5  User: Dado este XML:\\n\\n\\n \\n rojo\\n Renault\\n...   \n",
       "6  User: I'm using react-native-ble-manager for a...   \n",
       "7  User: for the sample size calculation of the n...   \n",
       "8  User: write a markdown blog article about Squa...   \n",
       "9  User: 如何开发一个屏蔽百度广告的chrome插件\\n\\nAssistant: 开发一个...   \n",
       "\n",
       "   __token_count__conversation_string  \\\n",
       "0                                1064   \n",
       "1                                  34   \n",
       "2                                2301   \n",
       "3                                 703   \n",
       "4                                1990   \n",
       "5                                1505   \n",
       "6                                2027   \n",
       "7                                 385   \n",
       "8                                 757   \n",
       "9                                1494   \n",
       "\n",
       "                                            critique  \n",
       "0               - The AI's reply meets the criteria.  \n",
       "1  - The AI's reply doesn't fulfill the user's re...  \n",
       "2  - The AI's reply is too long and includes unne...  \n",
       "3                                        Looks good.  \n",
       "4                                        Looks good.  \n",
       "5  - The AI's response is not helpful because it ...  \n",
       "6  - The AI's reply is too long and could be more...  \n",
       "7  - The AI's reply meets the criteria: it provid...  \n",
       "8  - The AI's reply is very long and detailed, wh...  \n",
       "9  - The AI's reply is too long and includes unne...  "
      ]
     },
     "execution_count": 23,
     "metadata": {},
     "output_type": "execute_result"
    }
   ],
   "source": [
    "import nest_asyncio # have to do this to do API requests from within a notebook\n",
    "nest_asyncio.apply()\n",
    "\n",
    "prompt = (\n",
    "    \"Below is a JSON representation of a conversation between an AI assistant and a human, including the AI's final reply. \"\n",
    "    \"The ideal AI reply is helpful, relevant to the user's request, and as short & to-the-point as possible, while \"\n",
    "    \"avoiding providing any dangerous or harmful information. Please describe where the AI's reply falls short according to \"\n",
    "    \"these criteria, in short bullets. If you think the AI's reply meets the criteria, don't list reasons, just write 'Perfect' or 'Looks good'. \"\n",
    "    \"Do not provide any positive feedback--only criticism. If you realize you can't think of serious criticism, just say it looks good.\"\n",
    "    \"\\n\\n---\\n\\nPrevious conversation:\\n{{conversation_string}}\\n\\n---\\n\\nAI's reply:\\n{{last_message}}\\n\\n---\\n\\nCritique:\"\n",
    ")\n",
    "ds.set_openai_key(open(\"/Users/ben/Desktop/oai_api_key.txt\").read().strip())\n",
    "ds.set_rate_limits(\n",
    "    max_tokens_per_minute=400_000,\n",
    "    max_requests_per_minute=4_000\n",
    ")\n",
    "ds.ai_column(\n",
    "    new_column=\"critique\",\n",
    "    prompt=prompt,\n",
    "    depends_on=[\"conversation_string\", \"last_message\"],\n",
    ")"
   ]
  },
  {
   "cell_type": "markdown",
   "metadata": {},
   "source": [
    "We'll filter out the ones where the critique mentions \"perfect\", as these are unlikely to spur improvement."
   ]
  },
  {
   "cell_type": "code",
   "execution_count": 24,
   "metadata": {},
   "outputs": [
    {
     "data": {
      "application/vnd.jupyter.widget-view+json": {
       "model_id": "fd46abf892354746b8d2a75dd8996ab2",
       "version_major": 2,
       "version_minor": 0
      },
      "text/plain": [
       "Filter:   0%|          | 0/3724 [00:00<?, ? examples/s]"
      ]
     },
     "metadata": {},
     "output_type": "display_data"
    },
    {
     "data": {
      "text/plain": [
       "2157"
      ]
     },
     "execution_count": 24,
     "metadata": {},
     "output_type": "execute_result"
    }
   ],
   "source": [
    "ds = ds.filter(\n",
    "    lambda x: \"perfect\" not in x[\"critique\"].lower() and \"looks good\" not in x[\"critique\"].lower()\n",
    ")\n",
    "len(ds)"
   ]
  },
  {
   "cell_type": "markdown",
   "metadata": {},
   "source": [
    "Great, now based on the critique, we'll use another API call to generate an improved response in a new column. To keep it fast, we'll just do this for 1000 of the critiques."
   ]
  },
  {
   "cell_type": "code",
   "execution_count": 25,
   "metadata": {},
   "outputs": [
    {
     "data": {
      "application/vnd.jupyter.widget-view+json": {
       "model_id": "1c38a0db246f465c9037c1888504497a",
       "version_major": 2,
       "version_minor": 0
      },
      "text/plain": [
       "Map:   0%|          | 0/1000 [00:00<?, ? examples/s]"
      ]
     },
     "metadata": {},
     "output_type": "display_data"
    },
    {
     "name": "stderr",
     "output_type": "stream",
     "text": [
      "INFO: Example prompt: Below is a conversation between an AI assistant and a human. The AI's last reply is accompanied by a critique. Your job is to revise the AI's reply to address the critique. Please only respond with the revised reply, and nothing else. The reply should be concise, and improve the response according to the feedback in the critique.\n",
      "\n",
      "---\n",
      "\n",
      "Previous conversation:\n",
      "User: I want to send a custom PHP file url to a person and once he has visited the URL, I don't want the url to subsequently open on any other device except the one it was opened first on. How do I implement this?\n",
      "\n",
      "Assistant: To achieve this, you can implement a one-time URL access system with PHP, which stores the device's fingerprint when the URL is first accessed and then checks for a match in subsequent accesses. Here's an outline of the process:\n",
      "\n",
      "1. Generate a unique ID for the URL and save it in a database along with an initial \"unused\" status.\n",
      "2. When the user visits the URL, check the status of the unique ID in the database.\n",
      "3. If the URL is unused, save the device's fingerprint in the database and update the URL status to \"used.\"\n",
      "4. If the URL has been used, check if the device fingerprint matches the one saved in the database. If it matches, grant access, otherwise deny access.\n",
      "\n",
      "Here's some sample code to help you get started:\n",
      "\n",
      "1. Create a database table to store the URL information:\n",
      "```sql\n",
      "CREATE TABLE unique_urls (\n",
      "  id INT AUTO_INCREMENT PRIMARY KEY,\n",
      "  unique_id VARCHAR(32) NOT NULL UNIQUE,\n",
      "  status ENUM('unused', 'used') NOT NULL,\n",
      "  device_fingerprint VARCHAR(255) DEFAULT NULL\n",
      ");\n",
      "```\n",
      "1. Generate a unique URL with a unique ID:\n",
      "```php\n",
      "<?php\n",
      "// Generate a unique ID and save it to the database\n",
      "$unique_id = bin2hex(random_bytes(16));\n",
      "$status = 'unused';\n",
      "\n",
      "// Database connection\n",
      "$db = new PDO('mysql:host=localhost;dbname=mydb', 'username', 'password');\n",
      "$stmt = $db->prepare(\"INSERT INTO unique_urls (unique_id, status) VALUES (:unique_id, :status)\");\n",
      "$stmt->bindParam(':unique_id', $unique_id);\n",
      "$stmt->bindParam(':status', $status);\n",
      "$stmt->execute();\n",
      "\n",
      "// Share the URL with the user\n",
      "$url = \"https://example.com/one-time-url.php?uid={$unique_id}\";\n",
      "echo \"Share this URL: {$url}\";\n",
      "?>\n",
      "```\n",
      "1. Create the PHP script to handle one-time URL access:\n",
      "```php\n",
      "<?php\n",
      "// one-time-url.php\n",
      "if (!isset($_GET['uid'])) {\n",
      "  die('Invalid URL');\n",
      "}\n",
      "\n",
      "$unique_id = $_GET['uid'];\n",
      "\n",
      "// Database connection\n",
      "$db = new PDO('mysql:host=localhost;dbname=mydb', 'username', 'password');\n",
      "\n",
      "$stmt = $db->prepare(\"SELECT * FROM unique_urls WHERE unique_id = :unique_id\");\n",
      "$stmt->bindParam(':unique_id', $unique_id);\n",
      "$stmt->execute();\n",
      "$row = $stmt->fetch(PDO::FETCH_ASSOC);\n",
      "\n",
      "if (!$row) {\n",
      "  die('Invalid URL');\n",
      "}\n",
      "\n",
      "// Get the device fingerprint\n",
      "$device_fingerprint = md5($_SERVER['HTTP_USER_AGENT'] . $_SERVER['REMOTE_ADDR']);\n",
      "\n",
      "if ($row['status'] === 'unused') {\n",
      "  // Update the URL status and store the device fingerprint\n",
      "  $stmt = $db->prepare(\"UPDATE unique_urls SET status = 'used', device_fingerprint = :device_fingerprint WHERE unique_id = :unique_id\");\n",
      "  $stmt->bindParam(':unique_id', $unique_id);\n",
      "  $stmt->bindParam(':device_fingerprint', $device_fingerprint);\n",
      "  $stmt->execute();\n",
      "\n",
      "  // Show the content\n",
      "  echo \"Welcome! This is your one-time access content.\";\n",
      "} else {\n",
      "  // Check if the device fingerprint matches\n",
      "  if ($row['device_fingerprint'] === $device_fingerprint) {\n",
      "    // Show the content\n",
      "    echo \"Welcome back! This is your one-time access content.\";\n",
      "  } else {\n",
      "    die('This URL has already been used on another device.');\n",
      "  }\n",
      "}\n",
      "?>\n",
      "```\n",
      "This implementation uses a simple device fingerprint based on the IP address and User-Agent, but it can be improved by using a more robust fingerprinting library like FingerprintJS. Note that this implementation is just a starting point and should be adapted to\n",
      "\n",
      "User: Give me the version that uses the more robust fingerprinting library\n",
      "\n",
      "---\n",
      "\n",
      "AI's reply:\n",
      "To use a more robust fingerprinting library like FingerprintJS, you'll need to modify the previous implementation by adding client-side JavaScript to generate the device fingerprint and then send it to the server. Here's how you can do it:\n",
      "\n",
      "1. Include the FingerprintJS library in your project. You can either download it from <https://github.com/fingerprintjs/fingerprintjs> or use the CDN link:\n",
      "```html\n",
      "<script src=\"https://cdnjs.cloudflare.com/ajax/libs/fingerprintjs/3.3.0/fp.min.js\"></script>\n",
      "```\n",
      "1. Modify the `one-time-url.php` file to include the FingerprintJS library, use JavaScript to get the fingerprint, and send it to the server using AJAX:\n",
      "```php\n",
      "<?php\n",
      "// one-time-url.php\n",
      "if (!isset($_GET['uid'])) {\n",
      "  die('Invalid URL');\n",
      "}\n",
      "\n",
      "$unique_id = $_GET['uid'];\n",
      "?>\n",
      "<!DOCTYPE html>\n",
      "<html lang=\"en\">\n",
      "<head>\n",
      "  <meta charset=\"UTF-8\">\n",
      "  <meta name=\"viewport\" content=\"width=device-width, initial-scale=1.0\">\n",
      "  <title>One-Time URL</title>\n",
      "  <script src=\"https://cdnjs.cloudflare.com/ajax/libs/fingerprintjs/3.3.0/fp.min.js\"></script>\n",
      "</head>\n",
      "<body>\n",
      "\n",
      "<div id=\"content\"></div>\n",
      "\n",
      "<script>\n",
      "  async function getFingerprint() {\n",
      "    // Get the device fingerprint using FingerprintJS\n",
      "    const fp = await FingerprintJS.load();\n",
      "    const result = await fp.get();\n",
      "    return result.hash;\n",
      "  }\n",
      "\n",
      "  async function checkAccess() {\n",
      "    const fingerprint = await getFingerprint();\n",
      "    const response = await fetch('check_access.php?uid=<?php echo $unique_id ?>&fingerprint=' + fingerprint);\n",
      "    const content = await response.text();\n",
      "    document.getElementById('content').innerHTML = content;\n",
      "  }\n",
      "\n",
      "  checkAccess();\n",
      "</script>\n",
      "\n",
      "</body>\n",
      "</html>\n",
      "```\n",
      "1. Create a new PHP file called `check_access.php` to handle the server-side logic:\n",
      "```php\n",
      "<?php\n",
      "// check_access.php\n",
      "if (!isset($_GET['uid']) || !isset($_GET['fingerprint'])) {\n",
      "  die('Invalid request');\n",
      "}\n",
      "\n",
      "$unique_id = $_GET['uid'];\n",
      "$device_fingerprint = $_GET['fingerprint'];\n",
      "\n",
      "// Database connection\n",
      "$db = new PDO('mysql:host=localhost;dbname=mydb', 'username', 'password');\n",
      "\n",
      "$stmt = $db->prepare(\"SELECT * FROM unique_urls WHERE unique_id = :unique_id\");\n",
      "$stmt->bindParam(':unique_id', $unique_id);\n",
      "$stmt->execute();\n",
      "$row = $stmt->fetch(PDO::FETCH_ASSOC);\n",
      "\n",
      "if (!$row) {\n",
      "  die('Invalid URL');\n",
      "}\n",
      "\n",
      "if ($row['status'] === 'unused') {\n",
      "  // Update the URL status and store the device fingerprint\n",
      "  $stmt = $db->prepare(\"UPDATE unique_urls SET status = 'used', device_fingerprint = :device_fingerprint WHERE unique_id = :unique_id\");\n",
      "  $stmt->bindParam(':unique_id', $unique_id);\n",
      "  $stmt->bindParam(':device_fingerprint', $device_fingerprint);\n",
      "  $stmt->execute();\n",
      "\n",
      "  // Show the content\n",
      "  echo \"Welcome! This is your one-time access content.\";\n",
      "} else {\n",
      "  // Check if the device fingerprint matches\n",
      "  if ($row['device_fingerprint'] === $device_fingerprint) {\n",
      "    // Show the content\n",
      "    echo \"Welcome back! This is your one-time access content.\";\n",
      "  } else {\n",
      "    die('This URL has already been used on another device.');\n",
      "  }\n",
      "}\n",
      "?>\n",
      "```\n",
      "This implementation uses FingerprintJS, a more robust device fingerprinting library. It generates the device fingerprint on the client-side and sends it to the server for verification\n",
      "\n",
      "---\n",
      "\n",
      "Critique:\n",
      "- The AI's reply meets the criteria.\n",
      "\n",
      "---\n",
      "\n",
      "Revised reply:\n"
     ]
    },
    {
     "data": {
      "application/vnd.jupyter.widget-view+json": {
       "model_id": "0d888b4157d946bd9eea78105c606648",
       "version_major": 2,
       "version_minor": 0
      },
      "text/plain": [
       "  0%|          | 0/1000 [00:00<?, ?it/s]"
      ]
     },
     "metadata": {},
     "output_type": "display_data"
    },
    {
     "name": "stderr",
     "output_type": "stream",
     "text": [
      "ERROR: Exception: \n",
      "ERROR: Exception: \n",
      "ERROR: Exception: \n",
      "ERROR: Exception: \n",
      "INFO: Parallel processing complete.\n"
     ]
    },
    {
     "data": {
      "application/vnd.jupyter.widget-view+json": {
       "model_id": "b399cc4e146a46758799588ba6f48bf5",
       "version_major": 2,
       "version_minor": 0
      },
      "text/plain": [
       "Flattening the indices:   0%|          | 0/1000 [00:00<?, ? examples/s]"
      ]
     },
     "metadata": {},
     "output_type": "display_data"
    },
    {
     "name": "stderr",
     "output_type": "stream",
     "text": [
      "INFO: Added new column revised_reply using prompt Below is a conversation between an AI assistant and a human. The AI's last reply is accompanied by a critique. Your job is to revise the AI's reply to address the critique. Please only respond with the revised reply, and nothing else. The reply should be concise, and improve the response according to the feedback in the critique.\n",
      "\n",
      "---\n",
      "\n",
      "Previous conversation:\n",
      "{{conversation_string}}\n",
      "\n",
      "---\n",
      "\n",
      "AI's reply:\n",
      "{{last_message}}\n",
      "\n",
      "---\n",
      "\n",
      "Critique:\n",
      "{{critique}}\n",
      "\n",
      "---\n",
      "\n",
      "Revised reply:\n"
     ]
    }
   ],
   "source": [
    "prompt = (\n",
    "    \"Below is a conversation between an AI assistant and a human. The AI's last reply is accompanied by a critique. \"\n",
    "    \"Your job is to revise the AI's reply to address the critique. Please only respond with the revised reply, and nothing else. \"\n",
    "    \"The reply should be concise, and improve the response according to the feedback in the critique.\\n\\n---\\n\\nPrevious conversation:\\n\"\n",
    "    \"{{conversation_string}}\\n\\n---\\n\\nAI's reply:\\n{{last_message}}\\n\\n---\\n\\nCritique:\\n{{critique}}\\n\\n---\\n\\nRevised reply:\"\n",
    ")\n",
    "with_revisions = ds.select(range(1000)).ai_column(\n",
    "    new_column=\"revised_reply\",\n",
    "    prompt=prompt,\n",
    "    depends_on=[\"conversation_string\", \"last_message\", \"critique\"],\n",
    ")"
   ]
  },
  {
   "cell_type": "markdown",
   "metadata": {},
   "source": [
    "Now, we have a collection of conversations, with a \"dispreferred\" (initial) reply, and a \"preferred\" (revised) reply. We can use this to generate a dataset for RLHF-style training."
   ]
  },
  {
   "cell_type": "code",
   "execution_count": 26,
   "metadata": {},
   "outputs": [
    {
     "name": "stdout",
     "output_type": "stream",
     "text": [
      "## Example 0\n",
      "[INITIAL LAST MESSAGE] To use a more robust fingerprinting library like FingerprintJS, you'll need to modify the previous implementation by adding client-side JavaScript to generate the device fingerprint and then send it to the server. Here's how you can do it:\n",
      "\n",
      "1. Include the FingerprintJS library in your project. You can either download it from <https://github.com/fingerprintjs/fingerprintjs> or use the CDN link:\n",
      "```html\n",
      "<script src=\"https://cdnjs.cloudflare.com/ajax/libs/fingerprintjs/3.3.0/fp.min.js\"></script>\n",
      "```\n",
      "1. Modify the `one-time-url.php` file to include the FingerprintJS library, use JavaScript to get the fingerprint, and send it to the server using AJAX:\n",
      "```php\n",
      "<?php\n",
      "// one-time-url.php\n",
      "if (!isset($_GET['uid'])) {\n",
      "  die('Invalid URL');\n",
      "}\n",
      "\n",
      "$unique_id = $_GET['uid'];\n",
      "?>\n",
      "<!DOCTYPE html>\n",
      "<html lang=\"en\">\n",
      "<head>\n",
      "  <meta charset=\"UTF-8\">\n",
      "  <meta name=\"viewport\" content=\"width=device-width, initial-scale=1.0\">\n",
      "  <title>One-Time URL</title>\n",
      "  <script src=\"https://cdnjs.cloudflare.com/ajax/libs/fingerprintjs/3.3.0/fp.min.js\"></script>\n",
      "</head>\n",
      "<body>\n",
      "\n",
      "<div id=\"content\"></div>\n",
      "\n",
      "<script>\n",
      "  async function getFingerprint() {\n",
      "    // Get the device fingerprint using FingerprintJS\n",
      "    const fp = await FingerprintJS.load();\n",
      "    const result = await fp.get();\n",
      "    return result.hash;\n",
      "  }\n",
      "\n",
      "  async function checkAccess() {\n",
      "    const fingerprint = await getFingerprint();\n",
      "    const response = await fetch('check_access.php?uid=<?php echo $unique_id ?>&fingerprint=' + fingerprint);\n",
      "    const content = await response.text();\n",
      "    document.getElementById('content').innerHTML = content;\n",
      "  }\n",
      "\n",
      "  checkAccess();\n",
      "</script>\n",
      "\n",
      "</body>\n",
      "</html>\n",
      "```\n",
      "1. Create a new PHP file called `check_access.php` to handle the server-side logic:\n",
      "```php\n",
      "<?php\n",
      "// check_access.php\n",
      "if (!isset($_GET['uid']) || !isset($_GET['fingerprint'])) {\n",
      "  die('Invalid request');\n",
      "}\n",
      "\n",
      "$unique_id = $_GET['uid'];\n",
      "$device_fingerprint = $_GET['fingerprint'];\n",
      "\n",
      "// Database connection\n",
      "$db = new PDO('mysql:host=localhost;dbname=mydb', 'username', 'password');\n",
      "\n",
      "$stmt = $db->prepare(\"SELECT * FROM unique_urls WHERE unique_id = :unique_id\");\n",
      "$stmt->bindParam(':unique_id', $unique_id);\n",
      "$stmt->execute();\n",
      "$row = $stmt->fetch(PDO::FETCH_ASSOC);\n",
      "\n",
      "if (!$row) {\n",
      "  die('Invalid URL');\n",
      "}\n",
      "\n",
      "if ($row['status'] === 'unused') {\n",
      "  // Update the URL status and store the device fingerprint\n",
      "  $stmt = $db->prepare(\"UPDATE unique_urls SET status = 'used', device_fingerprint = :device_fingerprint WHERE unique_id = :unique_id\");\n",
      "  $stmt->bindParam(':unique_id', $unique_id);\n",
      "  $stmt->bindParam(':device_fingerprint', $device_fingerprint);\n",
      "  $stmt->execute();\n",
      "\n",
      "  // Show the content\n",
      "  echo \"Welcome! This is your one-time access content.\";\n",
      "} else {\n",
      "  // Check if the device fingerprint matches\n",
      "  if ($row['device_fingerprint'] === $device_fingerprint) {\n",
      "    // Show the content\n",
      "    echo \"Welcome back! This is your one-time access content.\";\n",
      "  } else {\n",
      "    die('This URL has already been used on another device.');\n",
      "  }\n",
      "}\n",
      "?>\n",
      "```\n",
      "This implementation uses FingerprintJS, a more robust device fingerprinting library. It generates the device fingerprint on the client-side and sends it to the server for verification\n",
      "[CRITIQUE] - The AI's reply meets the criteria.\n",
      "[REVISION] To use a more robust fingerprinting library like FingerprintJS, you'll need to modify the previous implementation by adding client-side JavaScript to generate the device fingerprint and then send it to the server. Here's how you can do it:\n",
      "\n",
      "1. Include the FingerprintJS library in your project. You can either download it from <https://github.com/fingerprintjs/fingerprintjs> or use the CDN link:\n",
      "```html\n",
      "<script src=\"https://cdnjs.cloudflare.com/ajax/libs/fingerprintjs/3.3.0/fp.min.js\"></script>\n",
      "```\n",
      "2. Modify the `one-time-url.php` file to include the FingerprintJS library, use JavaScript to get the fingerprint, and send it to the server using AJAX.\n",
      "\n",
      "## Example 1\n",
      "[INITIAL LAST MESSAGE] A beautiful Cinderella dreams, eventually finds glass heel; instantly, jubilant kingdom loves magical night; opulent prince quickly rescues, soon transforms unassuming, vexed woman; xenial, youthful zeal.\n",
      "[CRITIQUE] - The AI's reply doesn't fulfill the user's request to explain the plot of Cinderella in a sentence where each word has to begin with the next letter in the alphabet from A to Z.\n",
      "- The AI's reply is not concise and could be more to-the-point.\n",
      "[REVISION] Beautiful Cinderella dances, endures fairy godmother's help; incognito, just kind lady meets prince.\n",
      "\n",
      "## Example 2\n",
      "[INITIAL LAST MESSAGE] If you encounter the error `bash: mogrify: command not found`, it means that the ImageMagick suite (which includes the `mogrify` command) is not installed on your system or not in your system's `PATH`.\n",
      "\n",
      "To install ImageMagick and make the `mogrify` command available, follow the instructions for your operating system:\n",
      "\n",
      "1. **macOS**:\n",
      "\n",
      "You can install ImageMagick using Homebrew, a package manager for macOS. First, install Homebrew if you haven't already by following the instructions on the [Homebrew website](https://brew.sh/). Then, run the following command to install ImageMagick:\n",
      "```\n",
      "brew install imagemagick\n",
      "```\n",
      "2. **Ubuntu/Debian-based Linux distributions**:\n",
      "\n",
      "To install ImageMagick on Ubuntu or other Debian-based Linux distributions, run the following command in your terminal:\n",
      "```sql\n",
      "sudo apt-get update && sudo apt-get install imagemagick\n",
      "```\n",
      "3. **Fedora/RHEL-based Linux distributions**:\n",
      "\n",
      "To install ImageMagick on Fedora or other RHEL-based Linux distributions, run the following command in your terminal:\n",
      "```\n",
      "sudo dnf install ImageMagick\n",
      "```\n",
      "4. **Windows**:\n",
      "\n",
      "For Windows, you can download the ImageMagick installer from the [official website](https://imagemagick.org/script/download.php). Choose the appropriate version for your system, download it, and follow the installation steps. After installation, you may need to add the ImageMagick installation directory to your system's `PATH`. You can find instructions on how to do that [here](https://imagemagick.org/script/resources.php#environment).\n",
      "\n",
      "After you have installed ImageMagick, open a new terminal session to ensure that the `mogrify` command is available. You should now be able to run the `mogrify` command without encountering the \"command not found\" error.\n",
      "[CRITIQUE] - The AI's reply is too long and includes unnecessary information about macOS, Ubuntu, Fedora, and Windows installation instructions, when the user only asked about resolving the `bash: mogrify: command not found` error. \n",
      "- The AI's reply should focus on providing a concise solution to the error without overwhelming the user with irrelevant information.\n",
      "[REVISION] To resolve the `bash: mogrify: command not found` error, you need to install the ImageMagick suite on your system and make sure it's in your system's `PATH`. \n",
      "\n",
      "Here are the general steps to install ImageMagick on different operating systems:\n",
      "\n",
      "1. **macOS**: Install ImageMagick using Homebrew. Open a terminal and run:\n",
      "   ```\n",
      "   brew install imagemagick\n",
      "   ```\n",
      "\n",
      "2. **Ubuntu/Debian-based Linux distributions**: Install ImageMagick via the package manager. Open a terminal and run:\n",
      "   ```\n",
      "   sudo apt-get update && sudo apt-get install imagemagick\n",
      "   ```\n",
      "\n",
      "3. **Windows**: Download the ImageMagick installer from the official website, run it, and follow the installation steps. Make sure to add the ImageMagick installation directory to your system's `PATH`.\n",
      "\n",
      "After installing ImageMagick, open a new terminal session to ensure that the `mogrify` command is available. You should now be able to run `mogrify` without encountering the \"command not found\" error.\n",
      "\n"
     ]
    }
   ],
   "source": [
    "for i in range(3):\n",
    "    print(\"## Example \" + str(i))\n",
    "    print(\"[INITIAL LAST MESSAGE] \" + with_revisions[\"last_message\"][i])\n",
    "    print(\"[CRITIQUE] \" + with_revisions[\"critique\"][i])\n",
    "    print(\"[REVISION] \" + with_revisions[\"revised_reply\"][i])\n",
    "    print()"
   ]
  },
  {
   "cell_type": "code",
   "execution_count": 27,
   "metadata": {},
   "outputs": [
    {
     "data": {
      "application/vnd.jupyter.widget-view+json": {
       "model_id": "83724313776c4159bb529f6cce628ffc",
       "version_major": 2,
       "version_minor": 0
      },
      "text/plain": [
       "Map:   0%|          | 0/1000 [00:00<?, ? examples/s]"
      ]
     },
     "metadata": {},
     "output_type": "display_data"
    },
    {
     "data": {
      "application/vnd.jupyter.widget-view+json": {
       "model_id": "2189f40156244eeba2e22fbeb93619eb",
       "version_major": 2,
       "version_minor": 0
      },
      "text/plain": [
       "Map:   0%|          | 0/1000 [00:00<?, ? examples/s]"
      ]
     },
     "metadata": {},
     "output_type": "display_data"
    },
    {
     "data": {
      "text/plain": [
       "{'conversation_string': 'User: I want to send a custom PHP file url to a person and once he has visited the URL, I don\\'t want the url to subsequently open on any other device except the one it was opened first on. How do I implement this?\\n\\nAssistant: To achieve this, you can implement a one-time URL access system with PHP, which stores the device\\'s fingerprint when the URL is first accessed and then checks for a match in subsequent accesses. Here\\'s an outline of the process:\\n\\n1. Generate a unique ID for the URL and save it in a database along with an initial \"unused\" status.\\n2. When the user visits the URL, check the status of the unique ID in the database.\\n3. If the URL is unused, save the device\\'s fingerprint in the database and update the URL status to \"used.\"\\n4. If the URL has been used, check if the device fingerprint matches the one saved in the database. If it matches, grant access, otherwise deny access.\\n\\nHere\\'s some sample code to help you get started:\\n\\n1. Create a database table to store the URL information:\\n```sql\\nCREATE TABLE unique_urls (\\n  id INT AUTO_INCREMENT PRIMARY KEY,\\n  unique_id VARCHAR(32) NOT NULL UNIQUE,\\n  status ENUM(\\'unused\\', \\'used\\') NOT NULL,\\n  device_fingerprint VARCHAR(255) DEFAULT NULL\\n);\\n```\\n1. Generate a unique URL with a unique ID:\\n```php\\n<?php\\n// Generate a unique ID and save it to the database\\n$unique_id = bin2hex(random_bytes(16));\\n$status = \\'unused\\';\\n\\n// Database connection\\n$db = new PDO(\\'mysql:host=localhost;dbname=mydb\\', \\'username\\', \\'password\\');\\n$stmt = $db->prepare(\"INSERT INTO unique_urls (unique_id, status) VALUES (:unique_id, :status)\");\\n$stmt->bindParam(\\':unique_id\\', $unique_id);\\n$stmt->bindParam(\\':status\\', $status);\\n$stmt->execute();\\n\\n// Share the URL with the user\\n$url = \"https://example.com/one-time-url.php?uid={$unique_id}\";\\necho \"Share this URL: {$url}\";\\n?>\\n```\\n1. Create the PHP script to handle one-time URL access:\\n```php\\n<?php\\n// one-time-url.php\\nif (!isset($_GET[\\'uid\\'])) {\\n  die(\\'Invalid URL\\');\\n}\\n\\n$unique_id = $_GET[\\'uid\\'];\\n\\n// Database connection\\n$db = new PDO(\\'mysql:host=localhost;dbname=mydb\\', \\'username\\', \\'password\\');\\n\\n$stmt = $db->prepare(\"SELECT * FROM unique_urls WHERE unique_id = :unique_id\");\\n$stmt->bindParam(\\':unique_id\\', $unique_id);\\n$stmt->execute();\\n$row = $stmt->fetch(PDO::FETCH_ASSOC);\\n\\nif (!$row) {\\n  die(\\'Invalid URL\\');\\n}\\n\\n// Get the device fingerprint\\n$device_fingerprint = md5($_SERVER[\\'HTTP_USER_AGENT\\'] . $_SERVER[\\'REMOTE_ADDR\\']);\\n\\nif ($row[\\'status\\'] === \\'unused\\') {\\n  // Update the URL status and store the device fingerprint\\n  $stmt = $db->prepare(\"UPDATE unique_urls SET status = \\'used\\', device_fingerprint = :device_fingerprint WHERE unique_id = :unique_id\");\\n  $stmt->bindParam(\\':unique_id\\', $unique_id);\\n  $stmt->bindParam(\\':device_fingerprint\\', $device_fingerprint);\\n  $stmt->execute();\\n\\n  // Show the content\\n  echo \"Welcome! This is your one-time access content.\";\\n} else {\\n  // Check if the device fingerprint matches\\n  if ($row[\\'device_fingerprint\\'] === $device_fingerprint) {\\n    // Show the content\\n    echo \"Welcome back! This is your one-time access content.\";\\n  } else {\\n    die(\\'This URL has already been used on another device.\\');\\n  }\\n}\\n?>\\n```\\nThis implementation uses a simple device fingerprint based on the IP address and User-Agent, but it can be improved by using a more robust fingerprinting library like FingerprintJS. Note that this implementation is just a starting point and should be adapted to\\n\\nUser: Give me the version that uses the more robust fingerprinting library\\n\\nAssistant:',\n",
       " 'last_message': ' To use a more robust fingerprinting library like FingerprintJS, you\\'ll need to modify the previous implementation by adding client-side JavaScript to generate the device fingerprint and then send it to the server. Here\\'s how you can do it:\\n\\n1. Include the FingerprintJS library in your project. You can either download it from <https://github.com/fingerprintjs/fingerprintjs> or use the CDN link:\\n```html\\n<script src=\"https://cdnjs.cloudflare.com/ajax/libs/fingerprintjs/3.3.0/fp.min.js\"></script>\\n```\\n1. Modify the `one-time-url.php` file to include the FingerprintJS library, use JavaScript to get the fingerprint, and send it to the server using AJAX:\\n```php\\n<?php\\n// one-time-url.php\\nif (!isset($_GET[\\'uid\\'])) {\\n  die(\\'Invalid URL\\');\\n}\\n\\n$unique_id = $_GET[\\'uid\\'];\\n?>\\n<!DOCTYPE html>\\n<html lang=\"en\">\\n<head>\\n  <meta charset=\"UTF-8\">\\n  <meta name=\"viewport\" content=\"width=device-width, initial-scale=1.0\">\\n  <title>One-Time URL</title>\\n  <script src=\"https://cdnjs.cloudflare.com/ajax/libs/fingerprintjs/3.3.0/fp.min.js\"></script>\\n</head>\\n<body>\\n\\n<div id=\"content\"></div>\\n\\n<script>\\n  async function getFingerprint() {\\n    // Get the device fingerprint using FingerprintJS\\n    const fp = await FingerprintJS.load();\\n    const result = await fp.get();\\n    return result.hash;\\n  }\\n\\n  async function checkAccess() {\\n    const fingerprint = await getFingerprint();\\n    const response = await fetch(\\'check_access.php?uid=<?php echo $unique_id ?>&fingerprint=\\' + fingerprint);\\n    const content = await response.text();\\n    document.getElementById(\\'content\\').innerHTML = content;\\n  }\\n\\n  checkAccess();\\n</script>\\n\\n</body>\\n</html>\\n```\\n1. Create a new PHP file called `check_access.php` to handle the server-side logic:\\n```php\\n<?php\\n// check_access.php\\nif (!isset($_GET[\\'uid\\']) || !isset($_GET[\\'fingerprint\\'])) {\\n  die(\\'Invalid request\\');\\n}\\n\\n$unique_id = $_GET[\\'uid\\'];\\n$device_fingerprint = $_GET[\\'fingerprint\\'];\\n\\n// Database connection\\n$db = new PDO(\\'mysql:host=localhost;dbname=mydb\\', \\'username\\', \\'password\\');\\n\\n$stmt = $db->prepare(\"SELECT * FROM unique_urls WHERE unique_id = :unique_id\");\\n$stmt->bindParam(\\':unique_id\\', $unique_id);\\n$stmt->execute();\\n$row = $stmt->fetch(PDO::FETCH_ASSOC);\\n\\nif (!$row) {\\n  die(\\'Invalid URL\\');\\n}\\n\\nif ($row[\\'status\\'] === \\'unused\\') {\\n  // Update the URL status and store the device fingerprint\\n  $stmt = $db->prepare(\"UPDATE unique_urls SET status = \\'used\\', device_fingerprint = :device_fingerprint WHERE unique_id = :unique_id\");\\n  $stmt->bindParam(\\':unique_id\\', $unique_id);\\n  $stmt->bindParam(\\':device_fingerprint\\', $device_fingerprint);\\n  $stmt->execute();\\n\\n  // Show the content\\n  echo \"Welcome! This is your one-time access content.\";\\n} else {\\n  // Check if the device fingerprint matches\\n  if ($row[\\'device_fingerprint\\'] === $device_fingerprint) {\\n    // Show the content\\n    echo \"Welcome back! This is your one-time access content.\";\\n  } else {\\n    die(\\'This URL has already been used on another device.\\');\\n  }\\n}\\n?>\\n```\\nThis implementation uses FingerprintJS, a more robust device fingerprinting library. It generates the device fingerprint on the client-side and sends it to the server for verification',\n",
       " 'revised_reply': ' To use a more robust fingerprinting library like FingerprintJS, you\\'ll need to modify the previous implementation by adding client-side JavaScript to generate the device fingerprint and then send it to the server. Here\\'s how you can do it:\\n\\n1. Include the FingerprintJS library in your project. You can either download it from <https://github.com/fingerprintjs/fingerprintjs> or use the CDN link:\\n```html\\n<script src=\"https://cdnjs.cloudflare.com/ajax/libs/fingerprintjs/3.3.0/fp.min.js\"></script>\\n```\\n2. Modify the `one-time-url.php` file to include the FingerprintJS library, use JavaScript to get the fingerprint, and send it to the server using AJAX.',\n",
       " '__id': 0}"
      ]
     },
     "execution_count": 27,
     "metadata": {},
     "output_type": "execute_result"
    }
   ],
   "source": [
    "# all we have to do is add an \"\\n\\nAssistant:\" to the conversation string, and space to the start of the replies, \n",
    "# so that the replies are a natural continuation for ML training.\n",
    "rlhf_dataset = with_revisions.select_columns([\"conversation_string\", \"last_message\", \"revised_reply\"]).map(\n",
    "    lambda x: {\n",
    "        \"conversation_string\": x[\"conversation_string\"] + \"\\n\\nAssistant:\",\n",
    "        \"last_message\": \" \" + x[\"last_message\"],\n",
    "        \"revised_reply\": \" \" + x[\"revised_reply\"]\n",
    "    }\n",
    ")\n",
    "rlhf_dataset[0]\n"
   ]
  },
  {
   "cell_type": "code",
   "execution_count": 29,
   "metadata": {},
   "outputs": [],
   "source": [
    "rlhf_dataset.save(\"/Users/ben/Desktop/rlhf_dataset.jsonl\", overwrite=True)"
   ]
  }
 ],
 "metadata": {
  "kernelspec": {
   "display_name": "nlp",
   "language": "python",
   "name": "python3"
  },
  "language_info": {
   "codemirror_mode": {
    "name": "ipython",
    "version": 3
   },
   "file_extension": ".py",
   "mimetype": "text/x-python",
   "name": "python",
   "nbconvert_exporter": "python",
   "pygments_lexer": "ipython3",
   "version": "3.10.8"
  },
  "orig_nbformat": 4
 },
 "nbformat": 4,
 "nbformat_minor": 2
}
