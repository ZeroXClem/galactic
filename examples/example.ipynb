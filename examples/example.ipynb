{
 "cells": [
  {
   "cell_type": "code",
   "execution_count": 2,
   "metadata": {},
   "outputs": [
    {
     "name": "stderr",
     "output_type": "stream",
     "text": [
      "None of PyTorch, TensorFlow >= 2.0, or Flax have been found. Models won't be available and only tokenizers, configuration and file/data utilities can be used.\n"
     ]
    }
   ],
   "source": [
    "from galactic import GalacticDataset"
   ]
  },
  {
   "cell_type": "markdown",
   "metadata": {},
   "source": [
    "## Loading Data\n",
    "\n",
    "Galactic can load datasets from typical file formats (CSV, JSONL, Parquet), as well as from HuggingFace. If you're loading a massive dataset from HuggingFace, you can even filter data as it streams in, ensuring you don't load any duplicates, and you only hang on to data you want. For instance, here we will load the Falcon RefinedWeb dataset, but automatically deduplicate it, and only keep examples with fewer than 1024 characters. Let's get 5000 samples that meet our requirements."
   ]
  },
  {
   "cell_type": "code",
   "execution_count": 3,
   "metadata": {},
   "outputs": [
    {
     "data": {
      "application/vnd.jupyter.widget-view+json": {
       "model_id": "dd8dd70b7a464a81bb64f3f08dbf3bd7",
       "version_major": 2,
       "version_minor": 0
      },
      "text/plain": [
       "Resolving data files:   0%|          | 0/5534 [00:00<?, ?it/s]"
      ]
     },
     "metadata": {},
     "output_type": "display_data"
    },
    {
     "data": {
      "application/vnd.jupyter.widget-view+json": {
       "model_id": "4a27472926924cc58ae36088fe3d676a",
       "version_major": 2,
       "version_minor": 0
      },
      "text/plain": [
       "Loading samples from tiiuae/falcon-refinedweb:   0%|          | 0/5000 [00:00<?, ?it/s]"
      ]
     },
     "metadata": {},
     "output_type": "display_data"
    },
    {
     "name": "stderr",
     "output_type": "stream",
     "text": [
      "INFO: Loaded 5000 samples from tiiuae/falcon-refinedweb. \n"
     ]
    },
    {
     "data": {
      "application/vnd.jupyter.widget-view+json": {
       "model_id": "773c107082b34130a96bd32fca22703c",
       "version_major": 2,
       "version_minor": 0
      },
      "text/plain": [
       "Map:   0%|          | 0/5000 [00:00<?, ? examples/s]"
      ]
     },
     "metadata": {},
     "output_type": "display_data"
    }
   ],
   "source": [
    "filter_func = lambda x: len(x['content']) < 1024\n",
    "dataset = GalacticDataset.from_hugging_face_stream(\n",
    "    \"tiiuae/falcon-refinedweb\",\n",
    "    split=\"train\",\n",
    "    filters=[filter_func],\n",
    "    dedup_fields=[\"content\"],\n",
    "    max_samples=5000\n",
    ")"
   ]
  },
  {
   "cell_type": "markdown",
   "metadata": {},
   "source": [
    "## Understanding the Data\n",
    "Galactic is designed to help you understand unstructured text datasets. Let's start with some basics: we'll get the lengths of the texts using our tokenizer of choice, detect the language of the text, and scan for PII."
   ]
  },
  {
   "cell_type": "code",
   "execution_count": 4,
   "metadata": {},
   "outputs": [
    {
     "data": {
      "application/vnd.jupyter.widget-view+json": {
       "model_id": "77e8fcbe831a401fbce5176924dc0d59",
       "version_major": 2,
       "version_minor": 0
      },
      "text/plain": [
       "Map:   0%|          | 0/5000 [00:00<?, ? examples/s]"
      ]
     },
     "metadata": {},
     "output_type": "display_data"
    },
    {
     "name": "stderr",
     "output_type": "stream",
     "text": [
      "INFO: Counted tokens in fields: ['content'], added metadata to __token_count__\n"
     ]
    },
    {
     "data": {
      "image/png": "[encoded data removed]",
      "text/plain": [
       "<Figure size 640x480 with 1 Axes>"
      ]
     },
     "metadata": {},
     "output_type": "display_data"
    }
   ],
   "source": [
    "import matplotlib.pyplot as plt\n",
    "dataset = dataset.count_tokens(fields=[\"content\"], tokenizer=\"gpt2\")\n",
    "plt.hist(dataset[\"__token_count__content\"], bins=50);"
   ]
  },
  {
   "cell_type": "code",
   "execution_count": 5,
   "metadata": {},
   "outputs": [
    {
     "name": "stderr",
     "output_type": "stream",
     "text": [
      "Warning : `load_model` does not return WordVectorModel or SupervisedModel any more, but a `FastText` object which is very similar.\n",
      "Parameter 'function'=<function detect_language.<locals>.detect_ at 0x137578f70> of the transform datasets.arrow_dataset.Dataset._map_single couldn't be hashed properly, a random hash was used instead. Make sure your transforms and parameters are serializable with pickle or dill for the dataset fingerprinting and caching to work. If you reuse this transform, the caching mechanism will consider it to be different from the previous calls and recompute everything. This warning is only showed once. Subsequent hashing failures won't be showed.\n"
     ]
    },
    {
     "data": {
      "application/vnd.jupyter.widget-view+json": {
       "model_id": "da69e08c8d404bf2b69e9e8702f3d21f",
       "version_major": 2,
       "version_minor": 0
      },
      "text/plain": [
       "Map:   0%|          | 0/5000 [00:00<?, ? examples/s]"
      ]
     },
     "metadata": {},
     "output_type": "display_data"
    },
    {
     "name": "stderr",
     "output_type": "stream",
     "text": [
      "INFO: Detected language in field content, added language metadata to '__language'.\n"
     ]
    },
    {
     "data": {
      "text/plain": [
       "Counter({'en': 4975,\n",
       "         'es': 7,\n",
       "         'fr': 7,\n",
       "         'de': 3,\n",
       "         'da': 2,\n",
       "         'ru': 1,\n",
       "         'nl': 1,\n",
       "         'pt': 1,\n",
       "         'sh': 1,\n",
       "         'eo': 1,\n",
       "         'ceb': 1})"
      ]
     },
     "execution_count": 5,
     "metadata": {},
     "output_type": "execute_result"
    }
   ],
   "source": [
    "from collections import Counter\n",
    "dataset.detect_language(field=\"content\")\n",
    "Counter(dataset[\"__language\"])"
   ]
  },
  {
   "cell_type": "code",
   "execution_count": 6,
   "metadata": {},
   "outputs": [
    {
     "data": {
      "application/vnd.jupyter.widget-view+json": {
       "model_id": "20b02aa82c9f4effa77a75c9e1483173",
       "version_major": 2,
       "version_minor": 0
      },
      "text/plain": [
       "Map:   0%|          | 0/5000 [00:00<?, ? examples/s]"
      ]
     },
     "metadata": {},
     "output_type": "display_data"
    },
    {
     "name": "stderr",
     "output_type": "stream",
     "text": [
      "INFO: Detected PII in fields: ['content']; added __pii__email, __pii__phone, __pii__credential, and __pii__any metadata.\n"
     ]
    },
    {
     "name": "stdout",
     "output_type": "stream",
     "text": [
      "Email: 285\n",
      "Phone: 242\n",
      "Username/Password: 9\n"
     ]
    }
   ],
   "source": [
    "dataset.detect_pii(\n",
    "    fields=[\"content\"]\n",
    ")\n",
    "print(\"Email:\", sum(dataset[\"__pii__email\"]))\n",
    "print(\"Phone:\", sum(dataset[\"__pii__phone\"]))\n",
    "print(\"Username/Password:\", sum(dataset[\"__pii__credential\"]))"
   ]
  },
  {
   "cell_type": "markdown",
   "metadata": {},
   "source": [
    "## Custom Tagging & Filtering\n",
    "The built-in functions are just to get you started--Galactic allows you to tag and filter your data however you want. For instance, here we'll do the following:\n",
    "* Filter out all examples that have \"blogspot\" in the URL.\n",
    "* Tag all examples that mention fruit or vegetables."
   ]
  },
  {
   "cell_type": "code",
   "execution_count": 7,
   "metadata": {},
   "outputs": [
    {
     "data": {
      "application/vnd.jupyter.widget-view+json": {
       "model_id": "d35e1e38f2094e69ab8b3da50bd3a69b",
       "version_major": 2,
       "version_minor": 0
      },
      "text/plain": [
       "Filter:   0%|          | 0/5000 [00:00<?, ? examples/s]"
      ]
     },
     "metadata": {},
     "output_type": "display_data"
    },
    {
     "name": "stderr",
     "output_type": "stream",
     "text": [
      "INFO: Filtered dataset in-place with exact string matching on fields: ['url']\n"
     ]
    },
    {
     "data": {
      "text/plain": [
       "4902"
      ]
     },
     "execution_count": 7,
     "metadata": {},
     "output_type": "execute_result"
    }
   ],
   "source": [
    "dataset = dataset.filter_string(\n",
    "    fields=[\"url\"],\n",
    "    values=[\"blogspot\"]\n",
    ")\n",
    "len(dataset)"
   ]
  },
  {
   "cell_type": "code",
   "execution_count": 8,
   "metadata": {},
   "outputs": [
    {
     "data": {
      "application/vnd.jupyter.widget-view+json": {
       "model_id": "ee1e896e4ff1467b86cbf326fa1e552a",
       "version_major": 2,
       "version_minor": 0
      },
      "text/plain": [
       "Map:   0%|          | 0/4902 [00:00<?, ? examples/s]"
      ]
     },
     "metadata": {},
     "output_type": "display_data"
    },
    {
     "name": "stderr",
     "output_type": "stream",
     "text": [
      "INFO: Tagged dataset in-place with tag '__tag__fruit_veggie', using regex matching on fields: ['content']\n"
     ]
    },
    {
     "data": {
      "text/plain": [
       "'38 records tagged with __tag__fruit_veggie'"
      ]
     },
     "execution_count": 8,
     "metadata": {},
     "output_type": "execute_result"
    }
   ],
   "source": [
    "dataset = dataset.tag_regex(\n",
    "    fields=[\"content\"],\n",
    "    regex=\"fruit|Fruit|vegetable|Vegetable|veggie|Veggie\",\n",
    "    tag=\"fruit_veggie\"\n",
    ")\n",
    "f'{sum(dataset[\"__tag__fruit_veggie\"])} records tagged with __tag__fruit_veggie'\n"
   ]
  },
  {
   "cell_type": "markdown",
   "metadata": {},
   "source": [
    "## Embeddings & Clustering\n",
    "\n",
    "Text embeddings are a great way to explore and understand unstructured data. Galactic can compute embeddings right on your CPU with the `gte-small` model, and then use them to cluster and deduplicate your data. (You also have the option to use OpenAI API embeddings as the backend--they're faster, but each embedding is larger, and you have to provide an API key.) On my Intel Macbook (no fancy M1 or M2), I can compute 1000 embeddings in a couple minutes. Longer texts also take longer since they have to be chunked into 512-token segments."
   ]
  },
  {
   "cell_type": "code",
   "execution_count": 9,
   "metadata": {},
   "outputs": [
    {
     "data": {
      "application/vnd.jupyter.widget-view+json": {
       "model_id": "df71e184505e4200a2f21e89d8d4cd33",
       "version_major": 2,
       "version_minor": 0
      },
      "text/plain": [
       "Map:   0%|          | 0/4902 [00:00<?, ? examples/s]"
      ]
     },
     "metadata": {},
     "output_type": "display_data"
    },
    {
     "name": "stderr",
     "output_type": "stream",
     "text": [
      "INFO: Created embeddings on field 'content'\n"
     ]
    },
    {
     "data": {
      "text/plain": [
       "                                             content  \\\n",
       "0  these birches can be found in many places in E...   \n",
       "1  Pesky?\\nthis was a high school project for a p...   \n",
       "2  metalkingdom.net [ 80′s @ 8 Feature Video – Bi...   \n",
       "3  Splice Review\\nBlack Ops Escalation Map Pack [...   \n",
       "4  Billy Gibbons & Co., ‘Oh Well’ – Song Review\\n...   \n",
       "5  Stay Curious Alpro\\nWe created the 'interactiv...   \n",
       "6  I got off the plane, grabbed my bags, I saw sh...   \n",
       "7  Call for Speakers!\\nThis is it! Finally we’re ...   \n",
       "8                           Posts Tagged frequency »   \n",
       "9  Get a trade-in offer for your vehicle.\\nREADY ...   \n",
       "\n",
       "                                                 url           timestamp  \\\n",
       "0  http://100parts.wordpress.com/2012/08/04/astra... 2013-05-18 10:42:00   \n",
       "1  http://101squadron.com/blog/2007/05/pesky-pecu... 2013-05-18 10:21:35   \n",
       "2             http://1037theloon.com/tags/scorpions/ 2013-05-18 10:21:51   \n",
       "3    http://1063thebuzz.com/category/reviews/page/7/ 2013-05-18 10:31:09   \n",
       "4  http://1069therock.com/billy-gibbons-co-oh-wel... 2013-05-18 10:32:50   \n",
       "5        http://1md.be/works/alpro-soya-stay-curious 2013-05-18 11:01:55   \n",
       "6                  http://1sorrowmadeyou.tumblr.com/ 2013-05-18 10:21:03   \n",
       "7  http://2010.nyc.wordcamp.org/2010/09/07/call-f... 2013-05-18 10:41:52   \n",
       "8  http://2languages2worlds.wordpress.com/tag/fre... 2013-05-18 10:12:07   \n",
       "9  http://7316.arrivesafeautos.com/web_display/vi... 2013-05-18 10:32:12   \n",
       "\n",
       "              dump        segment  \\\n",
       "0  CC-MAIN-2013-20  1368696382261   \n",
       "1  CC-MAIN-2013-20  1368696382261   \n",
       "2  CC-MAIN-2013-20  1368696382261   \n",
       "3  CC-MAIN-2013-20  1368696382261   \n",
       "4  CC-MAIN-2013-20  1368696382261   \n",
       "5  CC-MAIN-2013-20  1368696382261   \n",
       "6  CC-MAIN-2013-20  1368696382261   \n",
       "7  CC-MAIN-2013-20  1368696382261   \n",
       "8  CC-MAIN-2013-20  1368696382261   \n",
       "9  CC-MAIN-2013-20  1368696382261   \n",
       "\n",
       "                                          image_urls  __id  \\\n",
       "0                                                 []     0   \n",
       "1  [[http://101squadron.com/uploaded_images/Conge...     1   \n",
       "2                                                 []     2   \n",
       "3  [[https://s3.amazonaws.com/tsm-images/global/1...     3   \n",
       "4  [[http://wac.450f.edgecastcdn.net/80450F/ultim...     4   \n",
       "5  [[http://1md.be/assets/uploads/case-alpro-nons...     5   \n",
       "6                                                 []     6   \n",
       "7                                                 []     7   \n",
       "8                                                 []     8   \n",
       "9                                                 []     9   \n",
       "\n",
       "   __token_count__content __language  __pii__email  __pii__phone  \\\n",
       "0                     155         en         False         False   \n",
       "1                      47         en         False         False   \n",
       "2                     125         en         False         False   \n",
       "3                      64         en         False         False   \n",
       "4                     231         en         False         False   \n",
       "5                      98         en         False         False   \n",
       "6                     109         en         False         False   \n",
       "7                     200         en         False         False   \n",
       "8                       5         en         False         False   \n",
       "9                      85         en         False         False   \n",
       "\n",
       "   __pii__credential  __pii__any  __tag__fruit_veggie  \\\n",
       "0              False       False                False   \n",
       "1              False       False                False   \n",
       "2              False       False                False   \n",
       "3              False       False                False   \n",
       "4              False       False                False   \n",
       "5              False       False                False   \n",
       "6              False       False                False   \n",
       "7              False       False                False   \n",
       "8              False       False                False   \n",
       "9              False       False                False   \n",
       "\n",
       "                                         __embedding  \n",
       "0  [-0.0248191449791193, -0.009422107599675655, 0...  \n",
       "1  [-0.02623739466071129, 0.009688593447208405, 0...  \n",
       "2  [-0.024436384439468384, 0.01379689946770668, 0...  \n",
       "3  [-0.05517961457371712, -0.011679009534418583, ...  \n",
       "4  [-0.02650717832148075, -0.023218870162963867, ...  \n",
       "5  [-0.03653920069336891, 0.013458125293254852, 0...  \n",
       "6  [-0.02717425674200058, 0.005048892926424742, 0...  \n",
       "7  [-0.027585914358496666, -0.018640683963894844,...  \n",
       "8  [-0.026318827643990517, -0.04129411280155182, ...  \n",
       "9  [-0.02051403559744358, -0.003729952499270439, ...  "
      ]
     },
     "execution_count": 9,
     "metadata": {},
     "output_type": "execute_result"
    }
   ],
   "source": [
    "# to use openai, set dataset.openai_api_key = [...], and use backend=\"openai\"\n",
    "dataset.get_embeddings(field=\"content\", backend=\"cpu\")"
   ]
  },
  {
   "cell_type": "markdown",
   "metadata": {},
   "source": [
    "Once we've computed embeddings for a dataset, we can cluster it with k-means. Clusters can help discover domains in the data, or subsets that we might want to remove. They can also be used downstream for intra-cluster semantic deduplication (i.e. removing examples that share a cluster and are very close by in the embedding space)."
   ]
  },
  {
   "cell_type": "code",
   "execution_count": 10,
   "metadata": {},
   "outputs": [
    {
     "name": "stderr",
     "output_type": "stream",
     "text": [
      "/Users/ben/.pyenv/versions/3.9.5/envs/docent/lib/python3.9/site-packages/threadpoolctl.py:1019: RuntimeWarning: libc not found. The ctypes module in Python 3.9 is maybe too old for this OS.\n",
      "  warnings.warn(\n"
     ]
    },
    {
     "name": "stdout",
     "output_type": "stream",
     "text": [
      "huggingface/tokenizers: The current process just got forked, after parallelism has already been used. Disabling parallelism to avoid deadlocks...\n",
      "To disable this warning, you can either:\n",
      "\t- Avoid using `tokenizers` before the fork if possible\n",
      "\t- Explicitly set the environment variable TOKENIZERS_PARALLELISM=(true | false)\n"
     ]
    },
    {
     "data": {
      "application/vnd.jupyter.widget-view+json": {
       "model_id": "c4ad371c27474b27b0124b3e078d2d89",
       "version_major": 2,
       "version_minor": 0
      },
      "text/plain": [
       "Map:   0%|          | 0/4902 [00:00<?, ? examples/s]"
      ]
     },
     "metadata": {},
     "output_type": "display_data"
    },
    {
     "name": "stdout",
     "output_type": "stream",
     "text": [
      "Cluster 0 (550 items)\n",
      "\t, advisers, activists, and policy makers can make their voices:\n",
      "---\n",
      "\tQUICK LINKS\n",
      "About\n",
      "Meeting Schedule\n",
      "Outreach & Other Coordination Efforts\n",
      "Guidance Documents/Publications\n",
      "Strategic Action Plans.\n",
      "---\n",
      "\tHow to Bring about Change - CIDSE discussion paper (Available in EN - FR)\n",
      "The Busan High Level Forum on Aid Effectiveness (HLF4) resulted in a non-binding Global Partnership for Effective Development Cooperation (GP), endorsed by all the stakeholders involved, including emerging countries and civil society organizations (CSOs).\n",
      "In the work-area ‘Rethinking Development’ we critically consider the wider framework in which policies to promote development and the fight against poverty are designed and implemented.\n",
      "---\n",
      "Cluster 1 (549 items)\n",
      "\t.\n",
      "Wow!...the holiday season is already upon us, and I, as I'm sure most people do, give thought to their purchases and have many questions needing to...Read More ->\n",
      "I've recently returned to my boyhood obsession...no, not Farrah's \"nips\" poster... magic, of course. With things having changed drastically (from...Read More ->\n",
      "---\n",
      "\tCreate a Site\n",
      "Tell me more\n",
      "All That's Fab Funny in Showbiz\n",
      "Submit Create\n",
      "220.5k\n",
      "-Parks and Recreation\n",
      "-Pixar\n",
      "Original artwork by Chris Thornley.\n",
      "Nicolas Cage collage because he is the greatest actor of all time.\n",
      "How much crappier can your life be?\n",
      "(\"Twilight\" fan)\n",
      "Pick Your Site Name\n",
      "Tell me more\n",
      "---\n",
      "\tBugs!\n",
      "Once Upon a Time in the Midlands\n",
      "Get Real\n",
      "Babymother\n",
      "The Wisdom of Crocodiles\n",
      "Don't just sit there, join the conversation! No need to register to comment, just let us know what you think. Have fun, but please keep it clean and stay on topic — inappropriate remarks will be removed.\n",
      "Advertise on ReelzChannel\n",
      "---\n",
      "Cluster 2 (673 items)\n",
      "\tThe other you\n",
      "Illamasqua dares women of all ages to come to its counters and rediscover themselves\n",
      "- Published: 27 Nov 2012 at 00.00\n",
      "-.\n",
      "---\n",
      "\t>>IMAGE spock\n",
      "More at Boing Boing\n",
      "- John Hudgens\n",
      "- Ted8305\n",
      "- Anonymous\n",
      "- benher\n",
      "- eagleapex\n",
      "- semiotix\n",
      "- Anonymous\n",
      "- Anonymous\n",
      "- Antinous / Moderator\n",
      "- Pinary\n",
      "- lesbessant\n",
      "- sam1148\n",
      "- Josh Larios\n",
      "- adorhino\n",
      "- RadioGuy\n",
      "- planettom\n",
      "- spokanarama\n",
      "- _OM_\n",
      "- Phikus\n",
      "- Antinous / Moderator\n",
      "- 3lbFlax\n",
      "- Andrew Katz\n",
      "- Halloween Jack\n",
      "- spocko\n",
      "- jackie31337\n",
      "- Anonymous\n",
      "- John Coulthart\n",
      "---\n",
      "\t“I\n",
      "It doesn’t give much away, does it?\n",
      "---\n",
      "Cluster 3 (468 items)\n",
      "\tSYS-CON UK:\n",
      "Newsletters\n",
      "Get SYS-CON UK:\n",
      "Mobile\n",
      "SYS-CON UK Authors: Salvatore Genovese, Jeremy Geelan, Jamie Matusow\n",
      "News Feed Item\n",
      "NEW is a free tool that allows them to search the database, retrieve matches, negotiate direct and hire accordingly. EverydayActors.com does not take a cut in any deals made on the site, making this far less expensive and less time consuming than dealing with a third-party representative. Alyson@AMP3pr.com.\n",
      "SOURCE EverydayActors.com\n",
      "Published December 12,.\n",
      "---\n",
      "\tPlease enter your email address\n",
      "Send\n",
      "Proceed to registration page.\n",
      "Today, we see the resurrection of circuit city in an online video from the CEO of Systemax/Tigerdirect\n",
      "Today, we speak with Steve Kovsky from Dynamite Data. Their app installs as a Firefox add-on and captures the lowest prices for tech goods and lets you know if the price you are looking at is indeed the lowest price.\n",
      "Thanks for reading BSN*\n",
      "---\n",
      "\tTest-built\n",
      "Posted by geth , 17 April 2012 -\n",
      "·\n",
      "My next step was to build a working core (lpc17) with some DINs and DOUTs. After some troubles ... I succeded.I am really astonished, this device is the least troublesome device I have encountered so far. No extra drivers, just plug and play, and the controller can be unlugged and reconnected while traktor is running, no crash, not even a lag!By the w...\n",
      "---\n",
      "Cluster 4 (403 items)\n",
      "\tSpend 2 months in Nordrhein Westfalen and it was magical and amazing. The people make the trip, they were welcoming, friendly and generous.\n",
      "i went to köln and detmold and many other cities like bielefeld,lemgo…i lived one host family couple of weeks and i can tell nordrhein-westphalia is really beutiful place to go.detmold is definetely a worth of visiting :)\n",
      "I’ve lived here for 6 years and I think it’s ok!\n",
      "---\n",
      "\tI don't know if the people with the 5 Star ratings stayed in the \"Sorrento\" part of the apartment building but our experience in our room in the Portofino was definitely not worth a 5* review.\n",
      "The good\n",
      "-------------\n",
      "The apartments themselves are spacious and we were on the 4th floor with partial ocean views.\n",
      "Our Apartment had one bedroom...\n",
      "More\n",
      "\n",
      "---\n",
      "\tHi guys\n",
      "Just came back from this amazing trip. .. indeed it was as expected. Ambience was excellent specially for people from cities. The way to the resort was itself a memorable one, though it was a tricky one. Food was excellent. Had good coordination with all the staff members. Missed the water stream, unlucky. Good place to visit especially...\n",
      "More\n",
      "\n",
      "---\n",
      "Cluster 5 (592 items)\n",
      "\tFor ( Web Site), the manufacturer's website, or the iPLEDGE program website ( Web Site).:.\n",
      "---\n",
      "\tComment: Re:Netbooks! (Score 1) 138\n",
      "by jb.cancer (#31919510) Attached to: Job Ad Hints At Microsoft Move To ARM Servers\n",
      "They're probably consolidating Bing down to a netbook to better serve the dozen or so people who use Bing.\n",
      "And most of them are related to Steve Ballmer.\n",
      "And most of them are Steve Ballmer.\n",
      "---\n",
      "\t).\n",
      "I\n",
      ".\n",
      "\n",
      "---\n",
      "Cluster 6 (290 items)\n",
      "\tthe just released schedules were a flat-out statement that the B10 doesn't believe SOS will matter in playoff selection\n",
      "Diaries.\n",
      "..\n",
      "---\n",
      "\tMichael Floyd Is In Football For The Long Haul\n",
      "Michael Floyd is living the football dream – especially after being a first-round draft pick by the Arizona Cardinals, Mike Max reports (1:52).\n",
      "Posted Jul 2 2012\n",
      "HBO Real Sports: Holley Mangold\n",
      "Holley Mangold won a spot on the U.S. Olympic weightlifting team after hoisting 320 pounds in the clean-and-jerk event. Cheering her on is brother Nick Mangold, center for the New York Jets.\n",
      "Posted Jul 3 2012\n",
      "Rams' rookie class, cheerleaders head to Joplin to help rebuilding efforts\n",
      "ST. LOUIS (KMOV) - The St. Louis Rams rookie class joined cheerleaders and staff in traveling to Joplin on Friday to help rebuilding efforts after las…\n",
      "Posted Jun 21 2012\n",
      "---\n",
      "\t. The replay will also be available at..\n",
      "---\n",
      "Cluster 7 (616 items)\n",
      "\t. Newsletters Weekly newsletter Get a weekly newsletter with the latest news and reviews from the big metropolis of movies. First name * Last name * Word verification * (verify using audio) Type the characters you see in the picture above; if you can't read them, submit the form and a new image will be generated. Not case sensitive.\n",
      "---\n",
      "\tSomething to say? Drop a line and say what’s up.. I try to respond to every email, but sometimes that’s just not possible, so no guarantees on those random troubleshooting questions. If you need professional help with a project, I may be available for hire via my official business site, Monzilla Media.\n",
      "Note: Name and email are required, and always kept private. Also, this form destroys code, so if you need to include a script or something, please send via direct email to jeff at this domain. Thanks.\n",
      "---\n",
      "\t.\n",
      "are are currently unavailable. Sign up and be among the first who are notified once they are. By providing your name and e-mail address below, you will be added to our priority mailing list!!\n",
      "Your private information will not be shared with third party vendors.\n",
      "All fields with an * are required.\n",
      "---\n",
      "Cluster 8 (461 items)\n",
      "\tPrices and availability are subject to change from the time and date that you print this page.\n",
      "5/18/2013 7:04:27 AM. For Customer Service, please call 800.933.9904\n",
      "$6.95 reg. $19.00\n",
      "A bed of cheerful printed tulips covers our Wooden Shoes Optional duvet. Pink branch sheets and green branch shams make the perfect partners.\n",
      "- A Suzy Ultman design\n",
      "- 200-thread count\n",
      "- Duvet cover is no longer available\n",
      "- Sheet Set is no longer available\n",
      "- Imported\n",
      "- Throw pillows are no longer available\n",
      "- To order complimentary swatches, please email customerservice@landofnod.com\n",
      "- 100% cotton percale\n",
      "- Machine washable\n",
      "- Pink branch curtain panels also available\n",
      "-.\n",
      "---\n",
      "\t- Shopping Bag ( 0 items )\n",
      "Movies, music, and page-turning bestsellers are just some of the gifts we have in store. Not to mention our acclaimed NOOK tablets and more unique electronics. It's easy to find something he'll love.\n",
      "A Red Herring Without Mustard\n",
      "Alan Bradley\n",
      "orig$23.00\n",
      "now$4.48\n",
      "You Save $18.52\n",
      "---\n",
      "\t.\n",
      "- 52% cotton 15% acrylic 13% acetate 12% alpaca 6% wool 2% nylon\n",
      "- Hand wash cold\n",
      "- Styled with Current/Elliott The Ankle Skinny in Pebble Leather.\n",
      "- Styled with House of Harlow Bone Wrapped Ring in Gold.\n",
      "- Styled with House of Harlow Faceted Metal Cross Ring in Rose Gold.\n",
      "- Modeled in size 40/S. See fit guide for model's dimensions.\n",
      "- Revolve Style No. SEEB-WK8\n",
      "- Manufacturer Style No. LS19R00\n",
      "---\n",
      "Cluster 9 (300 items)\n",
      "\tHomicide charges filed in Wisconsin car-surfing deathBurnett County authorities have charged a Minnesota man with three felonies — including two counts of homicide — for an August incident in which a companion was fatally injured while taking part in the high-thrill practice of car-surfing.\n",
      "By: Steve Kuchera, Duluth News Tribune\n",
      "---\n",
      "\tSweet.\n",
      "Links:\n",
      "[1] mailto:editor@sweetwaterreporter.com\n",
      "[2]\n",
      "---\n",
      "\tYou must be a registered user and signed in to comment on this article.\n",
      "Editor's Picks\n",
      "Rothsay says ‘yes’ to new school [UPDATED]\n",
      "Supporters of a new school in Rothsay have reason to celebrate this morning. Despite divided opinion and a referendum that failed by 12 votes in ... Read more | 2 comments\n",
      "High school artwork on display at Blondeau Festival\n",
      "It’s the time of the year at Kennedy Secondary School when students finish their last tests and papers before the summer break. But on Monday, ... Read more\n",
      "Race track opens, Shriners in town this weekend\n",
      "Rev up your engines. Friday evening is the season opener for the I-94 Speedway races. The speedway is fun for the whole family as racers ... Read more\n",
      "Point of law clarified in Cox custody case\n",
      "Attorneys in the custody case of two-year-old Emma Cox were part of a telephone hearing Thursday in Otter Tail County District Court to clarify a ... Read more\n",
      "---\n"
     ]
    }
   ],
   "source": [
    "dataset.cluster(n_clusters=10)\n",
    "dataset.get_cluster_info(field=\"content\")"
   ]
  },
  {
   "cell_type": "markdown",
   "metadata": {},
   "source": [
    "Semantic deduplication within clusters is carried out with `semdedup`. You can provide a target retention rate for what percent of data you want to keep (the threshold will be tuned to achieve roughly this rate), or you can provide a cosine similarity threshold, and pairs within a cluster whose similarity is above the threshold will be considered duplicates."
   ]
  },
  {
   "cell_type": "code",
   "execution_count": 11,
   "metadata": {},
   "outputs": [
    {
     "name": "stderr",
     "output_type": "stream",
     "text": [
      "INFO: Tuning threshold on 3 clusters...\n"
     ]
    },
    {
     "data": {
      "application/vnd.jupyter.widget-view+json": {
       "model_id": "2a3e62aa87f04a6eb67c48c5c5d11ccc",
       "version_major": 2,
       "version_minor": 0
      },
      "text/plain": [
       "Filter:   0%|          | 0/4902 [00:00<?, ? examples/s]"
      ]
     },
     "metadata": {},
     "output_type": "display_data"
    },
    {
     "name": "stdout",
     "output_type": "stream",
     "text": [
      "Threshold: 0.861, Retention: 0.011\n",
      "Threshold: 0.931, Retention: 0.964\n",
      "Threshold: 0.896, Retention: 0.073\n",
      "Threshold: 0.913, Retention: 0.489\n",
      "Threshold: 0.922, Retention: 0.827\n",
      "Threshold: 0.917, Retention: 0.647\n",
      "Threshold: 0.92, Retention: 0.739\n",
      "Threshold: 0.921, Retention: 0.776\n",
      "Threshold: 0.92, Retention: 0.759\n"
     ]
    },
    {
     "data": {
      "application/vnd.jupyter.widget-view+json": {
       "model_id": "803217d7c6b9422084d592c5019cc3dc",
       "version_major": 2,
       "version_minor": 0
      },
      "text/plain": [
       "Filter:   0%|          | 0/4902 [00:00<?, ? examples/s]"
      ]
     },
     "metadata": {},
     "output_type": "display_data"
    },
    {
     "name": "stdout",
     "output_type": "stream",
     "text": [
      "Threshold: 0.878, Retention: 0.009\n",
      "Threshold: 0.939, Retention: 0.996\n",
      "Threshold: 0.908, Retention: 0.321\n",
      "Threshold: 0.924, Retention: 0.891\n",
      "Threshold: 0.916, Retention: 0.625\n",
      "Threshold: 0.92, Retention: 0.774\n",
      "Threshold: 0.918, Retention: 0.709\n",
      "Threshold: 0.919, Retention: 0.745\n"
     ]
    },
    {
     "data": {
      "application/vnd.jupyter.widget-view+json": {
       "model_id": "4341ddfe840448748c872b2bd447677a",
       "version_major": 2,
       "version_minor": 0
      },
      "text/plain": [
       "Filter:   0%|          | 0/4902 [00:00<?, ? examples/s]"
      ]
     },
     "metadata": {},
     "output_type": "display_data"
    },
    {
     "name": "stdout",
     "output_type": "stream",
     "text": [
      "Threshold: 0.884, Retention: 0.02\n",
      "Threshold: 0.942, Retention: 0.993\n",
      "Threshold: 0.913, Retention: 0.571\n",
      "Threshold: 0.928, Retention: 0.933\n",
      "Threshold: 0.92, Retention: 0.792\n",
      "Threshold: 0.917, Retention: 0.687\n",
      "Threshold: 0.919, Retention: 0.752\n"
     ]
    },
    {
     "name": "stderr",
     "output_type": "stream",
     "text": [
      "INFO: Threshold: 0.92\n"
     ]
    },
    {
     "data": {
      "application/vnd.jupyter.widget-view+json": {
       "model_id": "2b849ae2f2f540d0998ace6997f73bda",
       "version_major": 2,
       "version_minor": 0
      },
      "text/plain": [
       "Filter:   0%|          | 0/4902 [00:00<?, ? examples/s]"
      ]
     },
     "metadata": {},
     "output_type": "display_data"
    },
    {
     "name": "stderr",
     "output_type": "stream",
     "text": [
      "INFO: Cluster 0 has 106 duplicates (19.3%).\n",
      "\n"
     ]
    },
    {
     "data": {
      "application/vnd.jupyter.widget-view+json": {
       "model_id": "cae689af372b44a2b0f2de8a55ad2313",
       "version_major": 2,
       "version_minor": 0
      },
      "text/plain": [
       "Filter:   0%|          | 0/4902 [00:00<?, ? examples/s]"
      ]
     },
     "metadata": {},
     "output_type": "display_data"
    },
    {
     "name": "stderr",
     "output_type": "stream",
     "text": [
      "INFO: Cluster 1 has 133 duplicates (24.2%).\n",
      "\n"
     ]
    },
    {
     "data": {
      "application/vnd.jupyter.widget-view+json": {
       "model_id": "c843a132325f425cacb8675b115863fe",
       "version_major": 2,
       "version_minor": 0
      },
      "text/plain": [
       "Filter:   0%|          | 0/4902 [00:00<?, ? examples/s]"
      ]
     },
     "metadata": {},
     "output_type": "display_data"
    },
    {
     "name": "stderr",
     "output_type": "stream",
     "text": [
      "INFO: Cluster 2 has 489 duplicates (72.7%).\n",
      "\n"
     ]
    },
    {
     "data": {
      "application/vnd.jupyter.widget-view+json": {
       "model_id": "307378280e35441f9b1f68a4ed1d5213",
       "version_major": 2,
       "version_minor": 0
      },
      "text/plain": [
       "Filter:   0%|          | 0/4902 [00:00<?, ? examples/s]"
      ]
     },
     "metadata": {},
     "output_type": "display_data"
    },
    {
     "name": "stderr",
     "output_type": "stream",
     "text": [
      "INFO: Cluster 3 has 125 duplicates (26.7%).\n",
      "\n"
     ]
    },
    {
     "data": {
      "application/vnd.jupyter.widget-view+json": {
       "model_id": "c3bde0e4161d404aa4724a2ec425ee4c",
       "version_major": 2,
       "version_minor": 0
      },
      "text/plain": [
       "Filter:   0%|          | 0/4902 [00:00<?, ? examples/s]"
      ]
     },
     "metadata": {},
     "output_type": "display_data"
    },
    {
     "name": "stderr",
     "output_type": "stream",
     "text": [
      "INFO: Cluster 4 has 96 duplicates (23.8%).\n",
      "\n"
     ]
    },
    {
     "data": {
      "application/vnd.jupyter.widget-view+json": {
       "model_id": "79d3dee9a6ee4b50a44cd2fd97a72bb9",
       "version_major": 2,
       "version_minor": 0
      },
      "text/plain": [
       "Filter:   0%|          | 0/4902 [00:00<?, ? examples/s]"
      ]
     },
     "metadata": {},
     "output_type": "display_data"
    },
    {
     "name": "stderr",
     "output_type": "stream",
     "text": [
      "INFO: Cluster 5 has 354 duplicates (59.8%).\n",
      "\n"
     ]
    },
    {
     "data": {
      "application/vnd.jupyter.widget-view+json": {
       "model_id": "abefd0d7eac44509ad41f5b40e61ffb3",
       "version_major": 2,
       "version_minor": 0
      },
      "text/plain": [
       "Filter:   0%|          | 0/4902 [00:00<?, ? examples/s]"
      ]
     },
     "metadata": {},
     "output_type": "display_data"
    },
    {
     "name": "stderr",
     "output_type": "stream",
     "text": [
      "INFO: Cluster 6 has 80 duplicates (27.6%).\n",
      "\n"
     ]
    },
    {
     "data": {
      "application/vnd.jupyter.widget-view+json": {
       "model_id": "7d884068718a4680a46ad8695302e384",
       "version_major": 2,
       "version_minor": 0
      },
      "text/plain": [
       "Filter:   0%|          | 0/4902 [00:00<?, ? examples/s]"
      ]
     },
     "metadata": {},
     "output_type": "display_data"
    },
    {
     "name": "stderr",
     "output_type": "stream",
     "text": [
      "INFO: Cluster 7 has 96 duplicates (15.6%).\n",
      "\n"
     ]
    },
    {
     "data": {
      "application/vnd.jupyter.widget-view+json": {
       "model_id": "579702f6cbd14ab0acb3a13c24187668",
       "version_major": 2,
       "version_minor": 0
      },
      "text/plain": [
       "Filter:   0%|          | 0/4902 [00:00<?, ? examples/s]"
      ]
     },
     "metadata": {},
     "output_type": "display_data"
    },
    {
     "name": "stderr",
     "output_type": "stream",
     "text": [
      "INFO: Cluster 8 has 174 duplicates (37.7%).\n",
      "\n"
     ]
    },
    {
     "data": {
      "application/vnd.jupyter.widget-view+json": {
       "model_id": "7ff7d9f4ace34022aec26cfa1f59eb98",
       "version_major": 2,
       "version_minor": 0
      },
      "text/plain": [
       "Filter:   0%|          | 0/4902 [00:00<?, ? examples/s]"
      ]
     },
     "metadata": {},
     "output_type": "display_data"
    },
    {
     "name": "stderr",
     "output_type": "stream",
     "text": [
      "INFO: Cluster 9 has 25 duplicates (8.3%).\n",
      "\n"
     ]
    },
    {
     "data": {
      "application/vnd.jupyter.widget-view+json": {
       "model_id": "d08a3a12e4e9453488eff6f0d36bcc34",
       "version_major": 2,
       "version_minor": 0
      },
      "text/plain": [
       "Filter:   0%|          | 0/4902 [00:00<?, ? examples/s]"
      ]
     },
     "metadata": {},
     "output_type": "display_data"
    },
    {
     "name": "stderr",
     "output_type": "stream",
     "text": [
      "INFO: Removed 1678 / 4902 items flagged as semantic near-duplicates (34.23%).\n"
     ]
    },
    {
     "data": {
      "text/plain": [
       "                                             content  \\\n",
       "0  these birches can be found in many places in E...   \n",
       "1  Pesky?\\nthis was a high school project for a p...   \n",
       "2  metalkingdom.net [ 80′s @ 8 Feature Video – Bi...   \n",
       "3  Billy Gibbons & Co., ‘Oh Well’ – Song Review\\n...   \n",
       "4  Stay Curious Alpro\\nWe created the 'interactiv...   \n",
       "5  I got off the plane, grabbed my bags, I saw sh...   \n",
       "6  Call for Speakers!\\nThis is it! Finally we’re ...   \n",
       "7                           Posts Tagged frequency »   \n",
       "8  Get a trade-in offer for your vehicle.\\nREADY ...   \n",
       "9  Professional/Career: Student\\nBasic Interests:...   \n",
       "\n",
       "                                                 url           timestamp  \\\n",
       "0  http://100parts.wordpress.com/2012/08/04/astra... 2013-05-18 10:42:00   \n",
       "1  http://101squadron.com/blog/2007/05/pesky-pecu... 2013-05-18 10:21:35   \n",
       "2             http://1037theloon.com/tags/scorpions/ 2013-05-18 10:21:51   \n",
       "3  http://1069therock.com/billy-gibbons-co-oh-wel... 2013-05-18 10:32:50   \n",
       "4        http://1md.be/works/alpro-soya-stay-curious 2013-05-18 11:01:55   \n",
       "5                  http://1sorrowmadeyou.tumblr.com/ 2013-05-18 10:21:03   \n",
       "6  http://2010.nyc.wordcamp.org/2010/09/07/call-f... 2013-05-18 10:41:52   \n",
       "7  http://2languages2worlds.wordpress.com/tag/fre... 2013-05-18 10:12:07   \n",
       "8  http://7316.arrivesafeautos.com/web_display/vi... 2013-05-18 10:32:12   \n",
       "9           http://977music.com/users/cloudsword654/ 2013-05-18 11:02:27   \n",
       "\n",
       "              dump        segment  \\\n",
       "0  CC-MAIN-2013-20  1368696382261   \n",
       "1  CC-MAIN-2013-20  1368696382261   \n",
       "2  CC-MAIN-2013-20  1368696382261   \n",
       "3  CC-MAIN-2013-20  1368696382261   \n",
       "4  CC-MAIN-2013-20  1368696382261   \n",
       "5  CC-MAIN-2013-20  1368696382261   \n",
       "6  CC-MAIN-2013-20  1368696382261   \n",
       "7  CC-MAIN-2013-20  1368696382261   \n",
       "8  CC-MAIN-2013-20  1368696382261   \n",
       "9  CC-MAIN-2013-20  1368696382261   \n",
       "\n",
       "                                          image_urls  __id  \\\n",
       "0                                                 []     0   \n",
       "1  [[http://101squadron.com/uploaded_images/Conge...     1   \n",
       "2                                                 []     2   \n",
       "3  [[http://wac.450f.edgecastcdn.net/80450F/ultim...     4   \n",
       "4  [[http://1md.be/assets/uploads/case-alpro-nons...     5   \n",
       "5                                                 []     6   \n",
       "6                                                 []     7   \n",
       "7                                                 []     8   \n",
       "8                                                 []     9   \n",
       "9                                                 []    11   \n",
       "\n",
       "   __token_count__content __language  __pii__email  __pii__phone  \\\n",
       "0                     155         en         False         False   \n",
       "1                      47         en         False         False   \n",
       "2                     125         en         False         False   \n",
       "3                     231         en         False         False   \n",
       "4                      98         en         False         False   \n",
       "5                     109         en         False         False   \n",
       "6                     200         en         False         False   \n",
       "7                       5         en         False         False   \n",
       "8                      85         en         False         False   \n",
       "9                     117         en         False         False   \n",
       "\n",
       "   __pii__credential  __pii__any  __tag__fruit_veggie  \\\n",
       "0              False       False                False   \n",
       "1              False       False                False   \n",
       "2              False       False                False   \n",
       "3              False       False                False   \n",
       "4              False       False                False   \n",
       "5              False       False                False   \n",
       "6              False       False                False   \n",
       "7              False       False                False   \n",
       "8              False       False                False   \n",
       "9              False       False                False   \n",
       "\n",
       "                                         __embedding  __cluster  \n",
       "0  [-0.0248191449791193, -0.009422107599675655, 0...          4  \n",
       "1  [-0.02623739466071129, 0.009688593447208405, 0...          1  \n",
       "2  [-0.024436384439468384, 0.01379689946770668, 0...          1  \n",
       "3  [-0.02650717832148075, -0.023218870162963867, ...          1  \n",
       "4  [-0.03653920069336891, 0.013458125293254852, 0...          7  \n",
       "5  [-0.02717425674200058, 0.005048892926424742, 0...          1  \n",
       "6  [-0.027585914358496666, -0.018640683963894844,...          0  \n",
       "7  [-0.026318827643990517, -0.04129411280155182, ...          5  \n",
       "8  [-0.02051403559744358, -0.003729952499270439, ...          7  \n",
       "9  [-0.023878322914242744, 0.019768832251429558, ...          7  "
      ]
     },
     "execution_count": 11,
     "metadata": {},
     "output_type": "execute_result"
    }
   ],
   "source": [
    "dataset.semdedup(target_retention=0.75)"
   ]
  },
  {
   "cell_type": "markdown",
   "metadata": {},
   "source": [
    "## Saving the result\n",
    "\n",
    "Finally, let's save this data--either for more Galactic goodness later on (who wants to compute those embeddings again?), or so we can use it downstream for retrieval or fine-tuning."
   ]
  },
  {
   "cell_type": "code",
   "execution_count": 14,
   "metadata": {},
   "outputs": [
    {
     "data": {
      "application/vnd.jupyter.widget-view+json": {
       "model_id": "4165d8faa7d844ac8c0be865d9163b21",
       "version_major": 2,
       "version_minor": 0
      },
      "text/plain": [
       "Fetching 3 files:   0%|          | 0/3 [00:00<?, ?it/s]"
      ]
     },
     "metadata": {},
     "output_type": "display_data"
    },
    {
     "name": "stderr",
     "output_type": "stream",
     "text": [
      "[2023-09-15 17:09:41.585] [ctranslate2] [thread 6659588] [warning] The compute type inferred from the saved model is int8_float16, but the target device or backend do not support efficient int8_float16 computation. The model weights have been automatically converted to use the int8_float32 compute type instead.\n"
     ]
    },
    {
     "data": {
      "application/vnd.jupyter.widget-view+json": {
       "model_id": "f577af6e37ce4330be7ce55f1653e478",
       "version_major": 2,
       "version_minor": 0
      },
      "text/plain": [
       "Map:   0%|          | 0/3224 [00:00<?, ? examples/s]"
      ]
     },
     "metadata": {},
     "output_type": "display_data"
    },
    {
     "name": "stderr",
     "output_type": "stream",
     "text": [
      "INFO: Calculated perplexity-per-byte in field input, added perplexity metadata to '__perplexity'.\n"
     ]
    },
    {
     "data": {
      "text/plain": [
       "                                             content  \\\n",
       "0  these birches can be found in many places in E...   \n",
       "1  Pesky?\\nthis was a high school project for a p...   \n",
       "2  metalkingdom.net [ 80′s @ 8 Feature Video – Bi...   \n",
       "3  Billy Gibbons & Co., ‘Oh Well’ – Song Review\\n...   \n",
       "4  Stay Curious Alpro\\nWe created the 'interactiv...   \n",
       "5  I got off the plane, grabbed my bags, I saw sh...   \n",
       "6  Call for Speakers!\\nThis is it! Finally we’re ...   \n",
       "7                           Posts Tagged frequency »   \n",
       "8  Get a trade-in offer for your vehicle.\\nREADY ...   \n",
       "9  Professional/Career: Student\\nBasic Interests:...   \n",
       "\n",
       "                                                 url           timestamp  \\\n",
       "0  http://100parts.wordpress.com/2012/08/04/astra... 2013-05-18 10:42:00   \n",
       "1  http://101squadron.com/blog/2007/05/pesky-pecu... 2013-05-18 10:21:35   \n",
       "2             http://1037theloon.com/tags/scorpions/ 2013-05-18 10:21:51   \n",
       "3  http://1069therock.com/billy-gibbons-co-oh-wel... 2013-05-18 10:32:50   \n",
       "4        http://1md.be/works/alpro-soya-stay-curious 2013-05-18 11:01:55   \n",
       "5                  http://1sorrowmadeyou.tumblr.com/ 2013-05-18 10:21:03   \n",
       "6  http://2010.nyc.wordcamp.org/2010/09/07/call-f... 2013-05-18 10:41:52   \n",
       "7  http://2languages2worlds.wordpress.com/tag/fre... 2013-05-18 10:12:07   \n",
       "8  http://7316.arrivesafeautos.com/web_display/vi... 2013-05-18 10:32:12   \n",
       "9           http://977music.com/users/cloudsword654/ 2013-05-18 11:02:27   \n",
       "\n",
       "              dump        segment  \\\n",
       "0  CC-MAIN-2013-20  1368696382261   \n",
       "1  CC-MAIN-2013-20  1368696382261   \n",
       "2  CC-MAIN-2013-20  1368696382261   \n",
       "3  CC-MAIN-2013-20  1368696382261   \n",
       "4  CC-MAIN-2013-20  1368696382261   \n",
       "5  CC-MAIN-2013-20  1368696382261   \n",
       "6  CC-MAIN-2013-20  1368696382261   \n",
       "7  CC-MAIN-2013-20  1368696382261   \n",
       "8  CC-MAIN-2013-20  1368696382261   \n",
       "9  CC-MAIN-2013-20  1368696382261   \n",
       "\n",
       "                                          image_urls  __id  \\\n",
       "0                                                 []     0   \n",
       "1  [[http://101squadron.com/uploaded_images/Conge...     1   \n",
       "2                                                 []     2   \n",
       "3  [[http://wac.450f.edgecastcdn.net/80450F/ultim...     4   \n",
       "4  [[http://1md.be/assets/uploads/case-alpro-nons...     5   \n",
       "5                                                 []     6   \n",
       "6                                                 []     7   \n",
       "7                                                 []     8   \n",
       "8                                                 []     9   \n",
       "9                                                 []    11   \n",
       "\n",
       "   __token_count__content __language  __pii__email  __pii__phone  \\\n",
       "0                     155         en         False         False   \n",
       "1                      47         en         False         False   \n",
       "2                     125         en         False         False   \n",
       "3                     231         en         False         False   \n",
       "4                      98         en         False         False   \n",
       "5                     109         en         False         False   \n",
       "6                     200         en         False         False   \n",
       "7                       5         en         False         False   \n",
       "8                      85         en         False         False   \n",
       "9                     117         en         False         False   \n",
       "\n",
       "   __pii__credential  __pii__any  __tag__fruit_veggie  \\\n",
       "0              False       False                False   \n",
       "1              False       False                False   \n",
       "2              False       False                False   \n",
       "3              False       False                False   \n",
       "4              False       False                False   \n",
       "5              False       False                False   \n",
       "6              False       False                False   \n",
       "7              False       False                False   \n",
       "8              False       False                False   \n",
       "9              False       False                False   \n",
       "\n",
       "                                         __embedding  __cluster __perplexity  \n",
       "0  [-0.0248191449791193, -0.009422107599675655, 0...          4         None  \n",
       "1  [-0.02623739466071129, 0.009688593447208405, 0...          1         None  \n",
       "2  [-0.024436384439468384, 0.01379689946770668, 0...          1         None  \n",
       "3  [-0.02650717832148075, -0.023218870162963867, ...          1         None  \n",
       "4  [-0.03653920069336891, 0.013458125293254852, 0...          7         None  \n",
       "5  [-0.02717425674200058, 0.005048892926424742, 0...          1         None  \n",
       "6  [-0.027585914358496666, -0.018640683963894844,...          0         None  \n",
       "7  [-0.026318827643990517, -0.04129411280155182, ...          5         None  \n",
       "8  [-0.02051403559744358, -0.003729952499270439, ...          7         None  \n",
       "9  [-0.023878322914242744, 0.019768832251429558, ...          7         None  "
      ]
     },
     "execution_count": 14,
     "metadata": {},
     "output_type": "execute_result"
    }
   ],
   "source": [
    "dataset.calc_perplexity(\"input\")"
   ]
  },
  {
   "cell_type": "code",
   "execution_count": 15,
   "metadata": {},
   "outputs": [
    {
     "data": {
      "text/plain": [
       "                                             content  \\\n",
       "0  these birches can be found in many places in E...   \n",
       "1  Pesky?\\nthis was a high school project for a p...   \n",
       "2  metalkingdom.net [ 80′s @ 8 Feature Video – Bi...   \n",
       "3  Billy Gibbons & Co., ‘Oh Well’ – Song Review\\n...   \n",
       "4  Stay Curious Alpro\\nWe created the 'interactiv...   \n",
       "5  I got off the plane, grabbed my bags, I saw sh...   \n",
       "6  Call for Speakers!\\nThis is it! Finally we’re ...   \n",
       "7                           Posts Tagged frequency »   \n",
       "8  Get a trade-in offer for your vehicle.\\nREADY ...   \n",
       "9  Professional/Career: Student\\nBasic Interests:...   \n",
       "\n",
       "                                                 url           timestamp  \\\n",
       "0  http://100parts.wordpress.com/2012/08/04/astra... 2013-05-18 10:42:00   \n",
       "1  http://101squadron.com/blog/2007/05/pesky-pecu... 2013-05-18 10:21:35   \n",
       "2             http://1037theloon.com/tags/scorpions/ 2013-05-18 10:21:51   \n",
       "3  http://1069therock.com/billy-gibbons-co-oh-wel... 2013-05-18 10:32:50   \n",
       "4        http://1md.be/works/alpro-soya-stay-curious 2013-05-18 11:01:55   \n",
       "5                  http://1sorrowmadeyou.tumblr.com/ 2013-05-18 10:21:03   \n",
       "6  http://2010.nyc.wordcamp.org/2010/09/07/call-f... 2013-05-18 10:41:52   \n",
       "7  http://2languages2worlds.wordpress.com/tag/fre... 2013-05-18 10:12:07   \n",
       "8  http://7316.arrivesafeautos.com/web_display/vi... 2013-05-18 10:32:12   \n",
       "9           http://977music.com/users/cloudsword654/ 2013-05-18 11:02:27   \n",
       "\n",
       "              dump        segment  \\\n",
       "0  CC-MAIN-2013-20  1368696382261   \n",
       "1  CC-MAIN-2013-20  1368696382261   \n",
       "2  CC-MAIN-2013-20  1368696382261   \n",
       "3  CC-MAIN-2013-20  1368696382261   \n",
       "4  CC-MAIN-2013-20  1368696382261   \n",
       "5  CC-MAIN-2013-20  1368696382261   \n",
       "6  CC-MAIN-2013-20  1368696382261   \n",
       "7  CC-MAIN-2013-20  1368696382261   \n",
       "8  CC-MAIN-2013-20  1368696382261   \n",
       "9  CC-MAIN-2013-20  1368696382261   \n",
       "\n",
       "                                          image_urls  __id  \\\n",
       "0                                                 []     0   \n",
       "1  [[http://101squadron.com/uploaded_images/Conge...     1   \n",
       "2                                                 []     2   \n",
       "3  [[http://wac.450f.edgecastcdn.net/80450F/ultim...     4   \n",
       "4  [[http://1md.be/assets/uploads/case-alpro-nons...     5   \n",
       "5                                                 []     6   \n",
       "6                                                 []     7   \n",
       "7                                                 []     8   \n",
       "8                                                 []     9   \n",
       "9                                                 []    11   \n",
       "\n",
       "   __token_count__content __language  __pii__email  __pii__phone  \\\n",
       "0                     155         en         False         False   \n",
       "1                      47         en         False         False   \n",
       "2                     125         en         False         False   \n",
       "3                     231         en         False         False   \n",
       "4                      98         en         False         False   \n",
       "5                     109         en         False         False   \n",
       "6                     200         en         False         False   \n",
       "7                       5         en         False         False   \n",
       "8                      85         en         False         False   \n",
       "9                     117         en         False         False   \n",
       "\n",
       "   __pii__credential  __pii__any  __tag__fruit_veggie  \\\n",
       "0              False       False                False   \n",
       "1              False       False                False   \n",
       "2              False       False                False   \n",
       "3              False       False                False   \n",
       "4              False       False                False   \n",
       "5              False       False                False   \n",
       "6              False       False                False   \n",
       "7              False       False                False   \n",
       "8              False       False                False   \n",
       "9              False       False                False   \n",
       "\n",
       "                                         __embedding  __cluster __perplexity  \n",
       "0  [-0.0248191449791193, -0.009422107599675655, 0...          4         None  \n",
       "1  [-0.02623739466071129, 0.009688593447208405, 0...          1         None  \n",
       "2  [-0.024436384439468384, 0.01379689946770668, 0...          1         None  \n",
       "3  [-0.02650717832148075, -0.023218870162963867, ...          1         None  \n",
       "4  [-0.03653920069336891, 0.013458125293254852, 0...          7         None  \n",
       "5  [-0.02717425674200058, 0.005048892926424742, 0...          1         None  \n",
       "6  [-0.027585914358496666, -0.018640683963894844,...          0         None  \n",
       "7  [-0.026318827643990517, -0.04129411280155182, ...          5         None  \n",
       "8  [-0.02051403559744358, -0.003729952499270439, ...          7         None  \n",
       "9  [-0.023878322914242744, 0.019768832251429558, ...          7         None  "
      ]
     },
     "execution_count": 15,
     "metadata": {},
     "output_type": "execute_result"
    }
   ],
   "source": [
    "dataset"
   ]
  },
  {
   "cell_type": "code",
   "execution_count": 17,
   "metadata": {},
   "outputs": [
    {
     "data": {
      "application/vnd.jupyter.widget-view+json": {
       "model_id": "ec77a3251ba24beb82db6d79e639f933",
       "version_major": 2,
       "version_minor": 0
      },
      "text/plain": [
       "Filter:   0%|          | 0/3224 [00:00<?, ? examples/s]"
      ]
     },
     "metadata": {},
     "output_type": "display_data"
    },
    {
     "data": {
      "text/plain": [
       "galactic.galactic.GalacticDataset"
      ]
     },
     "execution_count": 17,
     "metadata": {},
     "output_type": "execute_result"
    }
   ],
   "source": [
    "ex = dataset.filter(lambda x: x[\"__cluster\"] == 4)\n",
    "type(ex)"
   ]
  },
  {
   "cell_type": "code",
   "execution_count": null,
   "metadata": {},
   "outputs": [],
   "source": []
  }
 ],
 "metadata": {
  "kernelspec": {
   "display_name": "Python 3 (ipykernel)",
   "language": "python",
   "name": "python3"
  },
  "language_info": {
   "codemirror_mode": {
    "name": "ipython",
    "version": 3
   },
   "file_extension": ".py",
   "mimetype": "text/x-python",
   "name": "python",
   "nbconvert_exporter": "python",
   "pygments_lexer": "ipython3",
   "version": "3.9.5"
  }
 },
 "nbformat": 4,
 "nbformat_minor": 4
}
