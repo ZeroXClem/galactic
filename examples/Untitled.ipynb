{
 "cells": [
  {
   "cell_type": "code",
   "execution_count": 1,
   "id": "0de2b717",
   "metadata": {},
   "outputs": [
    {
     "name": "stdout",
     "output_type": "stream",
     "text": [
      "/Users/briankim/docent\r\n"
     ]
    }
   ],
   "source": [
    "!pwd"
   ]
  },
  {
   "cell_type": "code",
   "execution_count": 2,
   "id": "24115063",
   "metadata": {},
   "outputs": [
    {
     "name": "stdout",
     "output_type": "stream",
     "text": [
      "Requirement already satisfied: pybloom-live in /Users/briankim/anaconda3/lib/python3.11/site-packages (4.0.0)\n",
      "Requirement already satisfied: bitarray>=0.3.4 in /Users/briankim/anaconda3/lib/python3.11/site-packages (from pybloom-live) (2.8.1)\n",
      "Requirement already satisfied: xxhash>=3.0.0 in /Users/briankim/anaconda3/lib/python3.11/site-packages (from pybloom-live) (3.3.0)\n",
      "Note: you may need to restart the kernel to use updated packages.\n"
     ]
    }
   ],
   "source": [
    "pip install pybloom-live"
   ]
  },
  {
   "cell_type": "code",
   "execution_count": 3,
   "id": "d769b577",
   "metadata": {
    "scrolled": true
   },
   "outputs": [
    {
     "name": "stdout",
     "output_type": "stream",
     "text": [
      "Requirement already satisfied: onnxruntime in /Users/briankim/anaconda3/lib/python3.11/site-packages (1.15.1)\n",
      "Requirement already satisfied: coloredlogs in /Users/briankim/anaconda3/lib/python3.11/site-packages (from onnxruntime) (15.0.1)\n",
      "Requirement already satisfied: flatbuffers in /Users/briankim/anaconda3/lib/python3.11/site-packages (from onnxruntime) (23.5.26)\n",
      "Requirement already satisfied: numpy>=1.24.2 in /Users/briankim/anaconda3/lib/python3.11/site-packages (from onnxruntime) (1.24.3)\n",
      "Requirement already satisfied: packaging in /Users/briankim/anaconda3/lib/python3.11/site-packages (from onnxruntime) (23.0)\n",
      "Requirement already satisfied: protobuf in /Users/briankim/anaconda3/lib/python3.11/site-packages (from onnxruntime) (4.24.3)\n",
      "Requirement already satisfied: sympy in /Users/briankim/anaconda3/lib/python3.11/site-packages (from onnxruntime) (1.11.1)\n",
      "Requirement already satisfied: humanfriendly>=9.1 in /Users/briankim/anaconda3/lib/python3.11/site-packages (from coloredlogs->onnxruntime) (10.0)\n",
      "Requirement already satisfied: mpmath>=0.19 in /Users/briankim/anaconda3/lib/python3.11/site-packages (from sympy->onnxruntime) (1.3.0)\n",
      "Note: you may need to restart the kernel to use updated packages.\n"
     ]
    }
   ],
   "source": [
    "pip install onnxruntime"
   ]
  },
  {
   "cell_type": "code",
   "execution_count": 4,
   "id": "00d7b84d",
   "metadata": {},
   "outputs": [
    {
     "name": "stdout",
     "output_type": "stream",
     "text": [
      "Requirement already satisfied: ctranslate2 in /Users/briankim/anaconda3/lib/python3.11/site-packages (3.19.0)\n",
      "Requirement already satisfied: numpy in /Users/briankim/anaconda3/lib/python3.11/site-packages (from ctranslate2) (1.24.3)\n",
      "Requirement already satisfied: pyyaml<7,>=5.3 in /Users/briankim/anaconda3/lib/python3.11/site-packages (from ctranslate2) (6.0)\n",
      "Note: you may need to restart the kernel to use updated packages.\n"
     ]
    }
   ],
   "source": [
    "pip install ctranslate2"
   ]
  },
  {
   "cell_type": "code",
   "execution_count": 25,
   "id": "2a3dda86",
   "metadata": {},
   "outputs": [
    {
     "name": "stdout",
     "output_type": "stream",
     "text": [
      "huggingface/tokenizers: The current process just got forked, after parallelism has already been used. Disabling parallelism to avoid deadlocks...\n",
      "To disable this warning, you can either:\n",
      "\t- Avoid using `tokenizers` before the fork if possible\n",
      "\t- Explicitly set the environment variable TOKENIZERS_PARALLELISM=(true | false)\n",
      "Collecting faiss-cpu\n",
      "  Downloading faiss_cpu-1.7.4-cp311-cp311-macosx_11_0_arm64.whl (2.7 MB)\n",
      "\u001b[2K     \u001b[90m━━━━━━━━━━━━━━━━━━━━━━━━━━━━━━━━━━━━━━━━\u001b[0m \u001b[32m2.7/2.7 MB\u001b[0m \u001b[31m1.9 MB/s\u001b[0m eta \u001b[36m0:00:00\u001b[0m00:01\u001b[0m00:01\u001b[0m\n",
      "\u001b[?25hInstalling collected packages: faiss-cpu\n",
      "Successfully installed faiss-cpu-1.7.4\n"
     ]
    }
   ],
   "source": [
    "!pip install faiss-cpu"
   ]
  },
  {
   "cell_type": "code",
   "execution_count": 19,
   "id": "452fed2b",
   "metadata": {
    "scrolled": false
   },
   "outputs": [
    {
     "name": "stdout",
     "output_type": "stream",
     "text": [
      "Collecting py7zr\n",
      "  Obtaining dependency information for py7zr from https://files.pythonhosted.org/packages/2c/da/155bb1f692c067b9213c9c7b8c19a012a65027399606d623a25dfb1d3af1/py7zr-0.20.6-py3-none-any.whl.metadata\n",
      "  Downloading py7zr-0.20.6-py3-none-any.whl.metadata (16 kB)\n",
      "Collecting texttable (from py7zr)\n",
      "  Downloading texttable-1.6.7-py2.py3-none-any.whl (10 kB)\n",
      "Collecting pycryptodomex>=3.6.6 (from py7zr)\n",
      "  Obtaining dependency information for pycryptodomex>=3.6.6 from https://files.pythonhosted.org/packages/46/e6/7dbe57f21195e9f85c4d77ae995aa2a39dc45a2e34a978d98099c6ed43ce/pycryptodomex-3.18.0-cp35-abi3-macosx_10_9_universal2.whl.metadata\n",
      "  Downloading pycryptodomex-3.18.0-cp35-abi3-macosx_10_9_universal2.whl.metadata (3.4 kB)\n",
      "Collecting pyzstd>=0.14.4 (from py7zr)\n",
      "  Obtaining dependency information for pyzstd>=0.14.4 from https://files.pythonhosted.org/packages/13/46/7b4d3b1d2383026b6a53fbaf5e1e7c27b329a4a02b755389e4d131b085db/pyzstd-0.15.9-cp311-cp311-macosx_11_0_arm64.whl.metadata\n",
      "  Downloading pyzstd-0.15.9-cp311-cp311-macosx_11_0_arm64.whl.metadata (7.5 kB)\n",
      "Collecting pyppmd<1.1.0,>=0.18.1 (from py7zr)\n",
      "  Downloading pyppmd-1.0.0-cp311-cp311-macosx_11_0_arm64.whl (46 kB)\n",
      "\u001b[2K     \u001b[90m━━━━━━━━━━━━━━━━━━━━━━━━━━━━━━━━━━━━━━━━\u001b[0m \u001b[32m46.4/46.4 kB\u001b[0m \u001b[31m1.9 MB/s\u001b[0m eta \u001b[36m0:00:00\u001b[0m\n",
      "\u001b[?25hCollecting pybcj>=0.6.0 (from py7zr)\n",
      "  Downloading pybcj-1.0.1-cp311-cp311-macosx_11_0_arm64.whl (23 kB)\n",
      "Collecting multivolumefile>=0.2.3 (from py7zr)\n",
      "  Downloading multivolumefile-0.2.3-py3-none-any.whl (17 kB)\n",
      "Collecting brotli>=1.0.9 (from py7zr)\n",
      "  Obtaining dependency information for brotli>=1.0.9 from https://files.pythonhosted.org/packages/96/12/ad41e7fadd5db55459c4c401842b47f7fee51068f86dd2894dd0dcfc2d2a/Brotli-1.1.0-cp311-cp311-macosx_10_9_universal2.whl.metadata\n",
      "  Downloading Brotli-1.1.0-cp311-cp311-macosx_10_9_universal2.whl.metadata (5.5 kB)\n",
      "Collecting inflate64>=0.3.1 (from py7zr)\n",
      "  Downloading inflate64-0.3.1-cp311-cp311-macosx_11_0_arm64.whl (35 kB)\n",
      "Requirement already satisfied: psutil in /Users/briankim/anaconda3/lib/python3.11/site-packages (from py7zr) (5.9.0)\n",
      "Downloading py7zr-0.20.6-py3-none-any.whl (66 kB)\n",
      "\u001b[2K   \u001b[90m━━━━━━━━━━━━━━━━━━━━━━━━━━━━━━━━━━━━━━━━\u001b[0m \u001b[32m66.7/66.7 kB\u001b[0m \u001b[31m7.9 MB/s\u001b[0m eta \u001b[36m0:00:00\u001b[0m\n",
      "\u001b[?25hDownloading Brotli-1.1.0-cp311-cp311-macosx_10_9_universal2.whl (873 kB)\n",
      "\u001b[2K   \u001b[90m━━━━━━━━━━━━━━━━━━━━━━━━━━━━━━━━━━━━━━━━\u001b[0m \u001b[32m873.1/873.1 kB\u001b[0m \u001b[31m16.3 MB/s\u001b[0m eta \u001b[36m0:00:00\u001b[0ma \u001b[36m0:00:01\u001b[0m\n",
      "\u001b[?25hDownloading pycryptodomex-3.18.0-cp35-abi3-macosx_10_9_universal2.whl (2.4 MB)\n",
      "\u001b[2K   \u001b[90m━━━━━━━━━━━━━━━━━━━━━━━━━━━━━━━━━━━━━━━━\u001b[0m \u001b[32m2.4/2.4 MB\u001b[0m \u001b[31m38.3 MB/s\u001b[0m eta \u001b[36m0:00:00\u001b[0ma \u001b[36m0:00:01\u001b[0m\n",
      "\u001b[?25hDownloading pyzstd-0.15.9-cp311-cp311-macosx_11_0_arm64.whl (330 kB)\n",
      "\u001b[2K   \u001b[90m━━━━━━━━━━━━━━━━━━━━━━━━━━━━━━━━━━━━━━━━\u001b[0m \u001b[32m330.4/330.4 kB\u001b[0m \u001b[31m42.3 MB/s\u001b[0m eta \u001b[36m0:00:00\u001b[0m\n",
      "\u001b[?25hInstalling collected packages: texttable, brotli, pyzstd, pyppmd, pycryptodomex, pybcj, multivolumefile, inflate64, py7zr\n",
      "Successfully installed brotli-1.1.0 inflate64-0.3.1 multivolumefile-0.2.3 py7zr-0.20.6 pybcj-1.0.1 pycryptodomex-3.18.0 pyppmd-1.0.0 pyzstd-0.15.9 texttable-1.6.7\n"
     ]
    }
   ],
   "source": [
    "!pip install py7zr"
   ]
  },
  {
   "cell_type": "code",
   "execution_count": 5,
   "id": "b7250837",
   "metadata": {
    "scrolled": true
   },
   "outputs": [
    {
     "name": "stdout",
     "output_type": "stream",
     "text": [
      "Requirement already satisfied: scrubadub in /Users/briankim/anaconda3/lib/python3.11/site-packages (2.0.1)\n",
      "Requirement already satisfied: textblob==0.15.3 in /Users/briankim/anaconda3/lib/python3.11/site-packages (from scrubadub) (0.15.3)\n",
      "Requirement already satisfied: phonenumbers in /Users/briankim/anaconda3/lib/python3.11/site-packages (from scrubadub) (8.13.20)\n",
      "Requirement already satisfied: python-stdnum in /Users/briankim/anaconda3/lib/python3.11/site-packages (from scrubadub) (1.19)\n",
      "Requirement already satisfied: dateparser in /Users/briankim/anaconda3/lib/python3.11/site-packages (from scrubadub) (1.1.8)\n",
      "Requirement already satisfied: catalogue in /Users/briankim/anaconda3/lib/python3.11/site-packages (from scrubadub) (2.0.9)\n",
      "Requirement already satisfied: scikit-learn in /Users/briankim/anaconda3/lib/python3.11/site-packages (from scrubadub) (1.3.0)\n",
      "Requirement already satisfied: typing-extensions in /Users/briankim/anaconda3/lib/python3.11/site-packages (from scrubadub) (4.7.1)\n",
      "Requirement already satisfied: faker in /Users/briankim/anaconda3/lib/python3.11/site-packages (from scrubadub) (19.6.1)\n",
      "Requirement already satisfied: nltk>=3.1 in /Users/briankim/anaconda3/lib/python3.11/site-packages (from textblob==0.15.3->scrubadub) (3.8.1)\n",
      "Requirement already satisfied: python-dateutil in /Users/briankim/anaconda3/lib/python3.11/site-packages (from dateparser->scrubadub) (2.8.2)\n",
      "Requirement already satisfied: pytz in /Users/briankim/anaconda3/lib/python3.11/site-packages (from dateparser->scrubadub) (2022.7)\n",
      "Requirement already satisfied: regex!=2019.02.19,!=2021.8.27 in /Users/briankim/anaconda3/lib/python3.11/site-packages (from dateparser->scrubadub) (2022.7.9)\n",
      "Requirement already satisfied: tzlocal in /Users/briankim/anaconda3/lib/python3.11/site-packages (from dateparser->scrubadub) (5.0.1)\n",
      "Requirement already satisfied: numpy>=1.17.3 in /Users/briankim/anaconda3/lib/python3.11/site-packages (from scikit-learn->scrubadub) (1.24.3)\n",
      "Requirement already satisfied: scipy>=1.5.0 in /Users/briankim/anaconda3/lib/python3.11/site-packages (from scikit-learn->scrubadub) (1.10.1)\n",
      "Requirement already satisfied: joblib>=1.1.1 in /Users/briankim/anaconda3/lib/python3.11/site-packages (from scikit-learn->scrubadub) (1.2.0)\n",
      "Requirement already satisfied: threadpoolctl>=2.0.0 in /Users/briankim/anaconda3/lib/python3.11/site-packages (from scikit-learn->scrubadub) (2.2.0)\n",
      "Requirement already satisfied: click in /Users/briankim/anaconda3/lib/python3.11/site-packages (from nltk>=3.1->textblob==0.15.3->scrubadub) (8.0.4)\n",
      "Requirement already satisfied: tqdm in /Users/briankim/anaconda3/lib/python3.11/site-packages (from nltk>=3.1->textblob==0.15.3->scrubadub) (4.65.0)\n",
      "Requirement already satisfied: six>=1.5 in /Users/briankim/anaconda3/lib/python3.11/site-packages (from python-dateutil->dateparser->scrubadub) (1.16.0)\n",
      "Note: you may need to restart the kernel to use updated packages.\n"
     ]
    }
   ],
   "source": [
    "pip install scrubadub"
   ]
  },
  {
   "cell_type": "code",
   "execution_count": 6,
   "id": "827efe89",
   "metadata": {
    "scrolled": true
   },
   "outputs": [
    {
     "name": "stdout",
     "output_type": "stream",
     "text": [
      "Requirement already satisfied: fasttext in /Users/briankim/anaconda3/lib/python3.11/site-packages (0.9.2)\n",
      "Requirement already satisfied: pybind11>=2.2 in /Users/briankim/anaconda3/lib/python3.11/site-packages (from fasttext) (2.11.1)\n",
      "Requirement already satisfied: setuptools>=0.7.0 in /Users/briankim/anaconda3/lib/python3.11/site-packages (from fasttext) (68.0.0)\n",
      "Requirement already satisfied: numpy in /Users/briankim/anaconda3/lib/python3.11/site-packages (from fasttext) (1.24.3)\n",
      "Note: you may need to restart the kernel to use updated packages.\n"
     ]
    }
   ],
   "source": [
    "pip install fasttext"
   ]
  },
  {
   "cell_type": "code",
   "execution_count": 3,
   "id": "681a16f5",
   "metadata": {
    "scrolled": true
   },
   "outputs": [],
   "source": [
    "from dataset import Docent"
   ]
  },
  {
   "cell_type": "code",
   "execution_count": 4,
   "id": "b5e37ef8",
   "metadata": {},
   "outputs": [
    {
     "name": "stderr",
     "output_type": "stream",
     "text": [
      "WARNING:datasets.builder:Found cached dataset samsum (/Users/briankim/.cache/huggingface/datasets/samsum/samsum/0.0.0/f1d7c6b7353e6de335d444e424dc002ef70d1277109031327bc9cc6af5d3d46e)\n",
      "WARNING:datasets.arrow_dataset:Loading cached processed dataset at /Users/briankim/.cache/huggingface/datasets/samsum/samsum/0.0.0/f1d7c6b7353e6de335d444e424dc002ef70d1277109031327bc9cc6af5d3d46e/cache-2980d12db03ff140.arrow\n"
     ]
    },
    {
     "data": {
      "text/plain": [
       "         id                                           dialogue  \\\n",
       "0  13818513  Amanda: I baked  cookies. Do you want some?\\r\\...   \n",
       "1  13728867  Olivia: Who are you voting for in this electio...   \n",
       "2  13681000  Tim: Hi, what's up?\\r\\nKim: Bad mood tbh, I wa...   \n",
       "3  13730747  Edward: Rachel, I think I'm in ove with Bella....   \n",
       "4  13728094  Sam: hey  overheard rick say something\\r\\nSam:...   \n",
       "\n",
       "                                             summary  __id  \n",
       "0  Amanda baked cookies and will bring Jerry some...     0  \n",
       "1  Olivia and Olivier are voting for liberals in ...     1  \n",
       "2  Kim may try the pomodoro technique recommended...     2  \n",
       "3  Edward thinks he is in love with Bella. Rachel...     3  \n",
       "4  Sam is confused, because he overheard Rick com...     4  "
      ]
     },
     "execution_count": 4,
     "metadata": {},
     "output_type": "execute_result"
    }
   ],
   "source": [
    "ds = Docent.from_hugging_face(\"samsum\", split=\"train\")\n",
    "ds"
   ]
  },
  {
   "cell_type": "code",
   "execution_count": 5,
   "id": "848d148d",
   "metadata": {},
   "outputs": [],
   "source": [
    "ds.dataset = ds.dataset.select(range(1000))"
   ]
  },
  {
   "cell_type": "code",
   "execution_count": 6,
   "id": "9192adc8",
   "metadata": {
    "scrolled": true
   },
   "outputs": [
    {
     "name": "stderr",
     "output_type": "stream",
     "text": [
      "WARNING:datasets.fingerprint:Parameter 'function'=<function Docent.get_embeddings.<locals>.<lambda> at 0x167b8ce00> of the transform datasets.arrow_dataset.Dataset._map_single couldn't be hashed properly, a random hash was used instead. Make sure your transforms and parameters are serializable with pickle or dill for the dataset fingerprinting and caching to work. If you reuse this transform, the caching mechanism will consider it to be different from the previous calls and recompute everything. This warning is only showed once. Subsequent hashing failures won't be showed.\n"
     ]
    },
    {
     "data": {
      "application/vnd.jupyter.widget-view+json": {
       "model_id": "",
       "version_major": 2,
       "version_minor": 0
      },
      "text/plain": [
       "Map:   0%|          | 0/1000 [00:00<?, ? examples/s]"
      ]
     },
     "metadata": {},
     "output_type": "display_data"
    },
    {
     "name": "stderr",
     "output_type": "stream",
     "text": [
      "INFO:faiss.loader:Loading faiss.\n",
      "INFO:faiss.loader:Successfully loaded faiss.\n"
     ]
    },
    {
     "data": {
      "application/vnd.jupyter.widget-view+json": {
       "model_id": "6dd17f6adaee438b9d54c823e987444e",
       "version_major": 2,
       "version_minor": 0
      },
      "text/plain": [
       "  0%|          | 0/1 [00:00<?, ?it/s]"
      ]
     },
     "metadata": {},
     "output_type": "display_data"
    },
    {
     "name": "stderr",
     "output_type": "stream",
     "text": [
      "INFO:root:Created embeddings & FAISS index on field summary\n"
     ]
    }
   ],
   "source": [
    "ds.get_embeddings(\"summary\")"
   ]
  },
  {
   "cell_type": "code",
   "execution_count": 25,
   "id": "0d93e5e8",
   "metadata": {},
   "outputs": [
    {
     "name": "stdout",
     "output_type": "stream",
     "text": [
      "(1000, 384)\n"
     ]
    },
    {
     "name": "stderr",
     "output_type": "stream",
     "text": [
      "/Users/briankim/anaconda3/lib/python3.11/site-packages/sklearn/cluster/_kmeans.py:1412: FutureWarning: The default value of `n_init` will change from 10 to 'auto' in 1.4. Set the value of `n_init` explicitly to suppress the warning\n",
      "  super()._check_params_vs_input(X, default_n_init=10)\n"
     ]
    },
    {
     "data": {
      "application/vnd.jupyter.widget-view+json": {
       "model_id": "",
       "version_major": 2,
       "version_minor": 0
      },
      "text/plain": [
       "Map:   0%|          | 0/1000 [00:00<?, ? examples/s]"
      ]
     },
     "metadata": {},
     "output_type": "display_data"
    }
   ],
   "source": [
    "ds.cluster(20)"
   ]
  },
  {
   "cell_type": "code",
   "execution_count": 26,
   "id": "caced366",
   "metadata": {},
   "outputs": [
    {
     "data": {
      "text/plain": [
       "         id                                           dialogue  \\\n",
       "0  13818513  Amanda: I baked  cookies. Do you want some?\\r\\...   \n",
       "1  13728867  Olivia: Who are you voting for in this electio...   \n",
       "2  13681000  Tim: Hi, what's up?\\r\\nKim: Bad mood tbh, I wa...   \n",
       "3  13730747  Edward: Rachel, I think I'm in ove with Bella....   \n",
       "4  13728094  Sam: hey  overheard rick say something\\r\\nSam:...   \n",
       "\n",
       "                                             summary  __id  \\\n",
       "0  Amanda baked cookies and will bring Jerry some...     0   \n",
       "1  Olivia and Olivier are voting for liberals in ...     1   \n",
       "2  Kim may try the pomodoro technique recommended...     2   \n",
       "3  Edward thinks he is in love with Bella. Rachel...     3   \n",
       "4  Sam is confused, because he overheard Rick com...     4   \n",
       "\n",
       "                                         __embedding  __cluster  \n",
       "0  [-0.05959724634885788, 0.0029223232995718718, ...         19  \n",
       "1  [-0.015787096694111824, -0.005762444343417883,...         13  \n",
       "2  [-0.026195725426077843, 0.009015928022563457, ...          4  \n",
       "3  [-0.03077833727002144, -0.01849907636642456, 0...         13  \n",
       "4  [-0.021387705579400063, 0.002792720915749669, ...         12  "
      ]
     },
     "execution_count": 26,
     "metadata": {},
     "output_type": "execute_result"
    }
   ],
   "source": [
    "ds"
   ]
  },
  {
   "cell_type": "code",
   "execution_count": 29,
   "id": "b7f9118c",
   "metadata": {},
   "outputs": [
    {
     "data": {
      "application/vnd.jupyter.widget-view+json": {
       "model_id": "",
       "version_major": 2,
       "version_minor": 0
      },
      "text/plain": [
       "Map:   0%|          | 0/1000 [00:00<?, ? examples/s]"
      ]
     },
     "metadata": {},
     "output_type": "display_data"
    }
   ],
   "source": [
    "ds.detect_pii([\"summary\"])"
   ]
  },
  {
   "cell_type": "code",
   "execution_count": 30,
   "id": "6497887e",
   "metadata": {},
   "outputs": [
    {
     "data": {
      "text/plain": [
       "         id                                           dialogue  \\\n",
       "0  13818513  Amanda: I baked  cookies. Do you want some?\\r\\...   \n",
       "1  13728867  Olivia: Who are you voting for in this electio...   \n",
       "2  13681000  Tim: Hi, what's up?\\r\\nKim: Bad mood tbh, I wa...   \n",
       "3  13730747  Edward: Rachel, I think I'm in ove with Bella....   \n",
       "4  13728094  Sam: hey  overheard rick say something\\r\\nSam:...   \n",
       "\n",
       "                                             summary  __id  \\\n",
       "0  Amanda baked cookies and will bring Jerry some...     0   \n",
       "1  Olivia and Olivier are voting for liberals in ...     1   \n",
       "2  Kim may try the pomodoro technique recommended...     2   \n",
       "3  Edward thinks he is in love with Bella. Rachel...     3   \n",
       "4  Sam is confused, because he overheard Rick com...     4   \n",
       "\n",
       "                                         __embedding  __cluster  __pii__email  \\\n",
       "0  [-0.05959724634885788, 0.0029223232995718718, ...         19         False   \n",
       "1  [-0.015787096694111824, -0.005762444343417883,...         13         False   \n",
       "2  [-0.026195725426077843, 0.009015928022563457, ...          4         False   \n",
       "3  [-0.03077833727002144, -0.01849907636642456, 0...         13         False   \n",
       "4  [-0.021387705579400063, 0.002792720915749669, ...         12         False   \n",
       "\n",
       "   __pii__phone  __pii__credential  __pii__any  \n",
       "0         False              False       False  \n",
       "1         False              False       False  \n",
       "2         False              False       False  \n",
       "3         False              False       False  \n",
       "4         False              False       False  "
      ]
     },
     "execution_count": 30,
     "metadata": {},
     "output_type": "execute_result"
    }
   ],
   "source": [
    "ds"
   ]
  },
  {
   "cell_type": "code",
   "execution_count": 31,
   "id": "e7f8710d",
   "metadata": {},
   "outputs": [
    {
     "data": {
      "application/vnd.jupyter.widget-view+json": {
       "model_id": "",
       "version_major": 2,
       "version_minor": 0
      },
      "text/plain": [
       "Map:   0%|          | 0/1000 [00:00<?, ? examples/s]"
      ]
     },
     "metadata": {},
     "output_type": "display_data"
    },
    {
     "name": "stderr",
     "output_type": "stream",
     "text": [
      "INFO:root:Counted tokens in fields: ['summary']\n"
     ]
    }
   ],
   "source": [
    "ds.count_tokens([\"summary\"])"
   ]
  },
  {
   "cell_type": "code",
   "execution_count": 32,
   "id": "3b8d7726",
   "metadata": {},
   "outputs": [
    {
     "data": {
      "text/plain": [
       "         id                                           dialogue  \\\n",
       "0  13818513  Amanda: I baked  cookies. Do you want some?\\r\\...   \n",
       "1  13728867  Olivia: Who are you voting for in this electio...   \n",
       "2  13681000  Tim: Hi, what's up?\\r\\nKim: Bad mood tbh, I wa...   \n",
       "3  13730747  Edward: Rachel, I think I'm in ove with Bella....   \n",
       "4  13728094  Sam: hey  overheard rick say something\\r\\nSam:...   \n",
       "\n",
       "                                             summary  __id  \\\n",
       "0  Amanda baked cookies and will bring Jerry some...     0   \n",
       "1  Olivia and Olivier are voting for liberals in ...     1   \n",
       "2  Kim may try the pomodoro technique recommended...     2   \n",
       "3  Edward thinks he is in love with Bella. Rachel...     3   \n",
       "4  Sam is confused, because he overheard Rick com...     4   \n",
       "\n",
       "                                         __embedding  __cluster  __pii__email  \\\n",
       "0  [-0.05959724634885788, 0.0029223232995718718, ...         19         False   \n",
       "1  [-0.015787096694111824, -0.005762444343417883,...         13         False   \n",
       "2  [-0.026195725426077843, 0.009015928022563457, ...          4         False   \n",
       "3  [-0.03077833727002144, -0.01849907636642456, 0...         13         False   \n",
       "4  [-0.021387705579400063, 0.002792720915749669, ...         12         False   \n",
       "\n",
       "   __pii__phone  __pii__credential  __pii__any  __token_count_summary  \n",
       "0         False              False       False                     56  \n",
       "1         False              False       False                     61  \n",
       "2         False              False       False                     77  \n",
       "3         False              False       False                     97  \n",
       "4         False              False       False                    145  "
      ]
     },
     "execution_count": 32,
     "metadata": {},
     "output_type": "execute_result"
    }
   ],
   "source": [
    "ds"
   ]
  },
  {
   "cell_type": "code",
   "execution_count": 34,
   "id": "7435edb7",
   "metadata": {},
   "outputs": [
    {
     "name": "stderr",
     "output_type": "stream",
     "text": [
      "Warning : `load_model` does not return WordVectorModel or SupervisedModel any more, but a `FastText` object which is very similar.\n"
     ]
    },
    {
     "data": {
      "application/vnd.jupyter.widget-view+json": {
       "model_id": "",
       "version_major": 2,
       "version_minor": 0
      },
      "text/plain": [
       "Map:   0%|          | 0/1000 [00:00<?, ? examples/s]"
      ]
     },
     "metadata": {},
     "output_type": "display_data"
    }
   ],
   "source": [
    "ds.detect_language(\"summary\")"
   ]
  },
  {
   "cell_type": "code",
   "execution_count": 35,
   "id": "8a7948fb",
   "metadata": {},
   "outputs": [
    {
     "data": {
      "text/plain": [
       "         id                                           dialogue  \\\n",
       "0  13818513  Amanda: I baked  cookies. Do you want some?\\r\\...   \n",
       "1  13728867  Olivia: Who are you voting for in this electio...   \n",
       "2  13681000  Tim: Hi, what's up?\\r\\nKim: Bad mood tbh, I wa...   \n",
       "3  13730747  Edward: Rachel, I think I'm in ove with Bella....   \n",
       "4  13728094  Sam: hey  overheard rick say something\\r\\nSam:...   \n",
       "\n",
       "                                             summary  __id  \\\n",
       "0  Amanda baked cookies and will bring Jerry some...     0   \n",
       "1  Olivia and Olivier are voting for liberals in ...     1   \n",
       "2  Kim may try the pomodoro technique recommended...     2   \n",
       "3  Edward thinks he is in love with Bella. Rachel...     3   \n",
       "4  Sam is confused, because he overheard Rick com...     4   \n",
       "\n",
       "                                         __embedding  __cluster  __pii__email  \\\n",
       "0  [-0.05959724634885788, 0.0029223232995718718, ...         19         False   \n",
       "1  [-0.015787096694111824, -0.005762444343417883,...         13         False   \n",
       "2  [-0.026195725426077843, 0.009015928022563457, ...          4         False   \n",
       "3  [-0.03077833727002144, -0.01849907636642456, 0...         13         False   \n",
       "4  [-0.021387705579400063, 0.002792720915749669, ...         12         False   \n",
       "\n",
       "   __pii__phone  __pii__credential  __pii__any  __token_count_summary  \\\n",
       "0         False              False       False                     56   \n",
       "1         False              False       False                     61   \n",
       "2         False              False       False                     77   \n",
       "3         False              False       False                     97   \n",
       "4         False              False       False                    145   \n",
       "\n",
       "  __language  \n",
       "0         en  \n",
       "1         en  \n",
       "2         en  \n",
       "3         en  \n",
       "4         en  "
      ]
     },
     "execution_count": 35,
     "metadata": {},
     "output_type": "execute_result"
    }
   ],
   "source": [
    "ds"
   ]
  },
  {
   "cell_type": "code",
   "execution_count": 40,
   "id": "5e6516f8",
   "metadata": {},
   "outputs": [
    {
     "data": {
      "application/vnd.jupyter.widget-view+json": {
       "model_id": "27253d7dcb2244f0a64558797246af4e",
       "version_major": 2,
       "version_minor": 0
      },
      "text/plain": [
       "Semantic deduplication:   0%|          | 0/20 [00:00<?, ?it/s]"
      ]
     },
     "metadata": {},
     "output_type": "display_data"
    },
    {
     "name": "stderr",
     "output_type": "stream",
     "text": [
      "WARNING:datasets.arrow_dataset:Loading cached processed dataset at /Users/briankim/.cache/huggingface/datasets/samsum/samsum/0.0.0/f1d7c6b7353e6de335d444e424dc002ef70d1277109031327bc9cc6af5d3d46e/cache-b8df15768f974d63.arrow\n",
      "WARNING:datasets.arrow_dataset:Loading cached processed dataset at /Users/briankim/.cache/huggingface/datasets/samsum/samsum/0.0.0/f1d7c6b7353e6de335d444e424dc002ef70d1277109031327bc9cc6af5d3d46e/cache-95308bee81af7b0a.arrow\n",
      "WARNING:datasets.arrow_dataset:Loading cached processed dataset at /Users/briankim/.cache/huggingface/datasets/samsum/samsum/0.0.0/f1d7c6b7353e6de335d444e424dc002ef70d1277109031327bc9cc6af5d3d46e/cache-3f0761c28c4d21da.arrow\n",
      "WARNING:datasets.arrow_dataset:Loading cached processed dataset at /Users/briankim/.cache/huggingface/datasets/samsum/samsum/0.0.0/f1d7c6b7353e6de335d444e424dc002ef70d1277109031327bc9cc6af5d3d46e/cache-cb511b92a28c8e8f.arrow\n",
      "WARNING:datasets.arrow_dataset:Loading cached processed dataset at /Users/briankim/.cache/huggingface/datasets/samsum/samsum/0.0.0/f1d7c6b7353e6de335d444e424dc002ef70d1277109031327bc9cc6af5d3d46e/cache-a69c229f4a5eb5da.arrow\n",
      "WARNING:datasets.arrow_dataset:Loading cached processed dataset at /Users/briankim/.cache/huggingface/datasets/samsum/samsum/0.0.0/f1d7c6b7353e6de335d444e424dc002ef70d1277109031327bc9cc6af5d3d46e/cache-ec18be5c8405cbb9.arrow\n",
      "WARNING:datasets.arrow_dataset:Loading cached processed dataset at /Users/briankim/.cache/huggingface/datasets/samsum/samsum/0.0.0/f1d7c6b7353e6de335d444e424dc002ef70d1277109031327bc9cc6af5d3d46e/cache-1526f46a19c662d6.arrow\n",
      "WARNING:datasets.arrow_dataset:Loading cached processed dataset at /Users/briankim/.cache/huggingface/datasets/samsum/samsum/0.0.0/f1d7c6b7353e6de335d444e424dc002ef70d1277109031327bc9cc6af5d3d46e/cache-bb73d97f9e6fe1dd.arrow\n",
      "WARNING:datasets.arrow_dataset:Loading cached processed dataset at /Users/briankim/.cache/huggingface/datasets/samsum/samsum/0.0.0/f1d7c6b7353e6de335d444e424dc002ef70d1277109031327bc9cc6af5d3d46e/cache-1f9bb1628f6cc0a1.arrow\n",
      "WARNING:datasets.arrow_dataset:Loading cached processed dataset at /Users/briankim/.cache/huggingface/datasets/samsum/samsum/0.0.0/f1d7c6b7353e6de335d444e424dc002ef70d1277109031327bc9cc6af5d3d46e/cache-917cc1eadc6a38b8.arrow\n",
      "WARNING:datasets.arrow_dataset:Loading cached processed dataset at /Users/briankim/.cache/huggingface/datasets/samsum/samsum/0.0.0/f1d7c6b7353e6de335d444e424dc002ef70d1277109031327bc9cc6af5d3d46e/cache-6170b2ea60c1f17f.arrow\n",
      "WARNING:datasets.arrow_dataset:Loading cached processed dataset at /Users/briankim/.cache/huggingface/datasets/samsum/samsum/0.0.0/f1d7c6b7353e6de335d444e424dc002ef70d1277109031327bc9cc6af5d3d46e/cache-2c9b9eb3cf9529fe.arrow\n",
      "WARNING:datasets.arrow_dataset:Loading cached processed dataset at /Users/briankim/.cache/huggingface/datasets/samsum/samsum/0.0.0/f1d7c6b7353e6de335d444e424dc002ef70d1277109031327bc9cc6af5d3d46e/cache-5680eeafa3e745d7.arrow\n",
      "WARNING:datasets.arrow_dataset:Loading cached processed dataset at /Users/briankim/.cache/huggingface/datasets/samsum/samsum/0.0.0/f1d7c6b7353e6de335d444e424dc002ef70d1277109031327bc9cc6af5d3d46e/cache-e125a49455a3aa19.arrow\n",
      "WARNING:datasets.arrow_dataset:Loading cached processed dataset at /Users/briankim/.cache/huggingface/datasets/samsum/samsum/0.0.0/f1d7c6b7353e6de335d444e424dc002ef70d1277109031327bc9cc6af5d3d46e/cache-edafeab88509af22.arrow\n",
      "WARNING:datasets.arrow_dataset:Loading cached processed dataset at /Users/briankim/.cache/huggingface/datasets/samsum/samsum/0.0.0/f1d7c6b7353e6de335d444e424dc002ef70d1277109031327bc9cc6af5d3d46e/cache-16c6f66308867b8b.arrow\n",
      "WARNING:datasets.arrow_dataset:Loading cached processed dataset at /Users/briankim/.cache/huggingface/datasets/samsum/samsum/0.0.0/f1d7c6b7353e6de335d444e424dc002ef70d1277109031327bc9cc6af5d3d46e/cache-57af021e6b671b66.arrow\n",
      "WARNING:datasets.arrow_dataset:Loading cached processed dataset at /Users/briankim/.cache/huggingface/datasets/samsum/samsum/0.0.0/f1d7c6b7353e6de335d444e424dc002ef70d1277109031327bc9cc6af5d3d46e/cache-9397ec962d3862e4.arrow\n",
      "WARNING:datasets.arrow_dataset:Loading cached processed dataset at /Users/briankim/.cache/huggingface/datasets/samsum/samsum/0.0.0/f1d7c6b7353e6de335d444e424dc002ef70d1277109031327bc9cc6af5d3d46e/cache-0a019d1eb609b51b.arrow\n",
      "WARNING:datasets.arrow_dataset:Loading cached processed dataset at /Users/briankim/.cache/huggingface/datasets/samsum/samsum/0.0.0/f1d7c6b7353e6de335d444e424dc002ef70d1277109031327bc9cc6af5d3d46e/cache-47bc423aa19ef1e7.arrow\n"
     ]
    }
   ],
   "source": [
    "ds.semdedup()"
   ]
  },
  {
   "cell_type": "code",
   "execution_count": 41,
   "id": "efd70f77",
   "metadata": {},
   "outputs": [
    {
     "data": {
      "text/plain": [
       "         id                                           dialogue  \\\n",
       "0  13818513  Amanda: I baked  cookies. Do you want some?\\r\\...   \n",
       "1  13728867  Olivia: Who are you voting for in this electio...   \n",
       "2  13681000  Tim: Hi, what's up?\\r\\nKim: Bad mood tbh, I wa...   \n",
       "3  13730747  Edward: Rachel, I think I'm in ove with Bella....   \n",
       "4  13728094  Sam: hey  overheard rick say something\\r\\nSam:...   \n",
       "\n",
       "                                             summary  __id  \\\n",
       "0  Amanda baked cookies and will bring Jerry some...     0   \n",
       "1  Olivia and Olivier are voting for liberals in ...     1   \n",
       "2  Kim may try the pomodoro technique recommended...     2   \n",
       "3  Edward thinks he is in love with Bella. Rachel...     3   \n",
       "4  Sam is confused, because he overheard Rick com...     4   \n",
       "\n",
       "                                         __embedding  __cluster  __pii__email  \\\n",
       "0  [-0.05959724634885788, 0.0029223232995718718, ...         19         False   \n",
       "1  [-0.015787096694111824, -0.005762444343417883,...         13         False   \n",
       "2  [-0.026195725426077843, 0.009015928022563457, ...          4         False   \n",
       "3  [-0.03077833727002144, -0.01849907636642456, 0...         13         False   \n",
       "4  [-0.021387705579400063, 0.002792720915749669, ...         12         False   \n",
       "\n",
       "   __pii__phone  __pii__credential  __pii__any  __token_count_summary  \\\n",
       "0         False              False       False                     56   \n",
       "1         False              False       False                     61   \n",
       "2         False              False       False                     77   \n",
       "3         False              False       False                     97   \n",
       "4         False              False       False                    145   \n",
       "\n",
       "  __language  \n",
       "0         en  \n",
       "1         en  \n",
       "2         en  \n",
       "3         en  \n",
       "4         en  "
      ]
     },
     "execution_count": 41,
     "metadata": {},
     "output_type": "execute_result"
    }
   ],
   "source": [
    "ds"
   ]
  },
  {
   "cell_type": "code",
   "execution_count": 42,
   "id": "06a7413e",
   "metadata": {},
   "outputs": [
    {
     "data": {
      "text/plain": [
       "         id                                           dialogue  \\\n",
       "0  13818513  Amanda: I baked  cookies. Do you want some?\\r\\...   \n",
       "1  13728867  Olivia: Who are you voting for in this electio...   \n",
       "2  13681000  Tim: Hi, what's up?\\r\\nKim: Bad mood tbh, I wa...   \n",
       "3  13730747  Edward: Rachel, I think I'm in ove with Bella....   \n",
       "4  13728094  Sam: hey  overheard rick say something\\r\\nSam:...   \n",
       "\n",
       "                                             summary  __id  \\\n",
       "0  Amanda baked cookies and will bring Jerry some...     0   \n",
       "1  Olivia and Olivier are voting for liberals in ...     1   \n",
       "2  Kim may try the pomodoro technique recommended...     2   \n",
       "3  Edward thinks he is in love with Bella. Rachel...     3   \n",
       "4  Sam is confused, because he overheard Rick com...     4   \n",
       "\n",
       "                                         __embedding  __cluster  __pii__email  \\\n",
       "0  [-0.05959724634885788, 0.0029223232995718718, ...         19         False   \n",
       "1  [-0.015787096694111824, -0.005762444343417883,...         13         False   \n",
       "2  [-0.026195725426077843, 0.009015928022563457, ...          4         False   \n",
       "3  [-0.03077833727002144, -0.01849907636642456, 0...         13         False   \n",
       "4  [-0.021387705579400063, 0.002792720915749669, ...         12         False   \n",
       "\n",
       "   __pii__phone  __pii__credential  __pii__any  __token_count_summary  \\\n",
       "0         False              False       False                     56   \n",
       "1         False              False       False                     61   \n",
       "2         False              False       False                     77   \n",
       "3         False              False       False                     97   \n",
       "4         False              False       False                    145   \n",
       "\n",
       "  __language  \n",
       "0         en  \n",
       "1         en  \n",
       "2         en  \n",
       "3         en  \n",
       "4         en  "
      ]
     },
     "execution_count": 42,
     "metadata": {},
     "output_type": "execute_result"
    }
   ],
   "source": [
    "ds"
   ]
  },
  {
   "cell_type": "code",
   "execution_count": 44,
   "id": "344163a8",
   "metadata": {},
   "outputs": [
    {
     "data": {
      "application/vnd.jupyter.widget-view+json": {
       "model_id": "",
       "version_major": 2,
       "version_minor": 0
      },
      "text/plain": [
       "Filter:   0%|          | 0/1000 [00:00<?, ? examples/s]"
      ]
     },
     "metadata": {},
     "output_type": "display_data"
    }
   ],
   "source": [
    "ds.remove_cluster(13)"
   ]
  },
  {
   "cell_type": "code",
   "execution_count": 45,
   "id": "0979c32c",
   "metadata": {},
   "outputs": [
    {
     "data": {
      "text/plain": [
       "         id                                           dialogue  \\\n",
       "0  13818513  Amanda: I baked  cookies. Do you want some?\\r\\...   \n",
       "1  13681000  Tim: Hi, what's up?\\r\\nKim: Bad mood tbh, I wa...   \n",
       "2  13728094  Sam: hey  overheard rick say something\\r\\nSam:...   \n",
       "3  13611672  John: Ave. Was there any homework for tomorrow...   \n",
       "4  13730463  Sarah: I found a song on youtube and I think y...   \n",
       "\n",
       "                                             summary  __id  \\\n",
       "0  Amanda baked cookies and will bring Jerry some...     0   \n",
       "1  Kim may try the pomodoro technique recommended...     2   \n",
       "2  Sam is confused, because he overheard Rick com...     4   \n",
       "3  John didn't show up for class due to some work...     6   \n",
       "4  Sarah sends James an instrumental song he migh...     7   \n",
       "\n",
       "                                         __embedding  __cluster  __pii__email  \\\n",
       "0  [-0.05959724634885788, 0.0029223232995718718, ...         19         False   \n",
       "1  [-0.026195725426077843, 0.009015928022563457, ...          4         False   \n",
       "2  [-0.021387705579400063, 0.002792720915749669, ...         12         False   \n",
       "3  [-0.028335127979516983, 0.008186393417418003, ...          1         False   \n",
       "4  [-0.022432388737797737, -0.010270223021507263,...          1         False   \n",
       "\n",
       "   __pii__phone  __pii__credential  __pii__any  __token_count_summary  \\\n",
       "0         False              False       False                     56   \n",
       "1         False              False       False                     77   \n",
       "2         False              False       False                    145   \n",
       "3         False              False       False                    221   \n",
       "4         False              False       False                    183   \n",
       "\n",
       "  __language  \n",
       "0         en  \n",
       "1         en  \n",
       "2         en  \n",
       "3         en  \n",
       "4         en  "
      ]
     },
     "execution_count": 45,
     "metadata": {},
     "output_type": "execute_result"
    }
   ],
   "source": [
    "ds"
   ]
  },
  {
   "cell_type": "code",
   "execution_count": 46,
   "id": "67580cbb",
   "metadata": {},
   "outputs": [
    {
     "name": "stdout",
     "output_type": "stream",
     "text": [
      "huggingface/tokenizers: The current process just got forked, after parallelism has already been used. Disabling parallelism to avoid deadlocks...\n",
      "To disable this warning, you can either:\n",
      "\t- Avoid using `tokenizers` before the fork if possible\n",
      "\t- Explicitly set the environment variable TOKENIZERS_PARALLELISM=(true | false)\n",
      "Requirement already satisfied: pybloom-live==4.0.0 in /Users/briankim/anaconda3/lib/python3.11/site-packages (from -r requirements.txt (line 1)) (4.0.0)\n",
      "Requirement already satisfied: onnxruntime==1.15.1 in /Users/briankim/anaconda3/lib/python3.11/site-packages (from -r requirements.txt (line 2)) (1.15.1)\n",
      "Requirement already satisfied: ctranslate2==3.19.0 in /Users/briankim/anaconda3/lib/python3.11/site-packages (from -r requirements.txt (line 3)) (3.19.0)\n",
      "Requirement already satisfied: scrubadub==2.0.1 in /Users/briankim/anaconda3/lib/python3.11/site-packages (from -r requirements.txt (line 4)) (2.0.1)\n",
      "Requirement already satisfied: fasttext==0.9.2 in /Users/briankim/anaconda3/lib/python3.11/site-packages (from -r requirements.txt (line 5)) (0.9.2)\n",
      "Requirement already satisfied: bitarray>=0.3.4 in /Users/briankim/anaconda3/lib/python3.11/site-packages (from pybloom-live==4.0.0->-r requirements.txt (line 1)) (2.8.1)\n",
      "Requirement already satisfied: xxhash>=3.0.0 in /Users/briankim/anaconda3/lib/python3.11/site-packages (from pybloom-live==4.0.0->-r requirements.txt (line 1)) (3.3.0)\n",
      "Requirement already satisfied: coloredlogs in /Users/briankim/anaconda3/lib/python3.11/site-packages (from onnxruntime==1.15.1->-r requirements.txt (line 2)) (15.0.1)\n",
      "Requirement already satisfied: flatbuffers in /Users/briankim/anaconda3/lib/python3.11/site-packages (from onnxruntime==1.15.1->-r requirements.txt (line 2)) (23.5.26)\n",
      "Requirement already satisfied: numpy>=1.24.2 in /Users/briankim/anaconda3/lib/python3.11/site-packages (from onnxruntime==1.15.1->-r requirements.txt (line 2)) (1.24.3)\n",
      "Requirement already satisfied: packaging in /Users/briankim/anaconda3/lib/python3.11/site-packages (from onnxruntime==1.15.1->-r requirements.txt (line 2)) (23.0)\n",
      "Requirement already satisfied: protobuf in /Users/briankim/anaconda3/lib/python3.11/site-packages (from onnxruntime==1.15.1->-r requirements.txt (line 2)) (4.24.3)\n",
      "Requirement already satisfied: sympy in /Users/briankim/anaconda3/lib/python3.11/site-packages (from onnxruntime==1.15.1->-r requirements.txt (line 2)) (1.11.1)\n",
      "Requirement already satisfied: pyyaml<7,>=5.3 in /Users/briankim/anaconda3/lib/python3.11/site-packages (from ctranslate2==3.19.0->-r requirements.txt (line 3)) (6.0)\n",
      "Requirement already satisfied: textblob==0.15.3 in /Users/briankim/anaconda3/lib/python3.11/site-packages (from scrubadub==2.0.1->-r requirements.txt (line 4)) (0.15.3)\n",
      "Requirement already satisfied: phonenumbers in /Users/briankim/anaconda3/lib/python3.11/site-packages (from scrubadub==2.0.1->-r requirements.txt (line 4)) (8.13.20)\n",
      "Requirement already satisfied: python-stdnum in /Users/briankim/anaconda3/lib/python3.11/site-packages (from scrubadub==2.0.1->-r requirements.txt (line 4)) (1.19)\n",
      "Requirement already satisfied: dateparser in /Users/briankim/anaconda3/lib/python3.11/site-packages (from scrubadub==2.0.1->-r requirements.txt (line 4)) (1.1.8)\n",
      "Requirement already satisfied: catalogue in /Users/briankim/anaconda3/lib/python3.11/site-packages (from scrubadub==2.0.1->-r requirements.txt (line 4)) (2.0.9)\n",
      "Requirement already satisfied: scikit-learn in /Users/briankim/anaconda3/lib/python3.11/site-packages (from scrubadub==2.0.1->-r requirements.txt (line 4)) (1.3.0)\n",
      "Requirement already satisfied: typing-extensions in /Users/briankim/anaconda3/lib/python3.11/site-packages (from scrubadub==2.0.1->-r requirements.txt (line 4)) (4.7.1)\n",
      "Requirement already satisfied: faker in /Users/briankim/anaconda3/lib/python3.11/site-packages (from scrubadub==2.0.1->-r requirements.txt (line 4)) (19.6.1)\n",
      "Requirement already satisfied: pybind11>=2.2 in /Users/briankim/anaconda3/lib/python3.11/site-packages (from fasttext==0.9.2->-r requirements.txt (line 5)) (2.11.1)\n",
      "Requirement already satisfied: setuptools>=0.7.0 in /Users/briankim/anaconda3/lib/python3.11/site-packages (from fasttext==0.9.2->-r requirements.txt (line 5)) (68.0.0)\n",
      "Requirement already satisfied: nltk>=3.1 in /Users/briankim/anaconda3/lib/python3.11/site-packages (from textblob==0.15.3->scrubadub==2.0.1->-r requirements.txt (line 4)) (3.8.1)\n",
      "Requirement already satisfied: humanfriendly>=9.1 in /Users/briankim/anaconda3/lib/python3.11/site-packages (from coloredlogs->onnxruntime==1.15.1->-r requirements.txt (line 2)) (10.0)\n",
      "Requirement already satisfied: python-dateutil in /Users/briankim/anaconda3/lib/python3.11/site-packages (from dateparser->scrubadub==2.0.1->-r requirements.txt (line 4)) (2.8.2)\n",
      "Requirement already satisfied: pytz in /Users/briankim/anaconda3/lib/python3.11/site-packages (from dateparser->scrubadub==2.0.1->-r requirements.txt (line 4)) (2022.7)\n",
      "Requirement already satisfied: regex!=2019.02.19,!=2021.8.27 in /Users/briankim/anaconda3/lib/python3.11/site-packages (from dateparser->scrubadub==2.0.1->-r requirements.txt (line 4)) (2022.7.9)\n",
      "Requirement already satisfied: tzlocal in /Users/briankim/anaconda3/lib/python3.11/site-packages (from dateparser->scrubadub==2.0.1->-r requirements.txt (line 4)) (5.0.1)\n",
      "Requirement already satisfied: scipy>=1.5.0 in /Users/briankim/anaconda3/lib/python3.11/site-packages (from scikit-learn->scrubadub==2.0.1->-r requirements.txt (line 4)) (1.10.1)\n",
      "Requirement already satisfied: joblib>=1.1.1 in /Users/briankim/anaconda3/lib/python3.11/site-packages (from scikit-learn->scrubadub==2.0.1->-r requirements.txt (line 4)) (1.2.0)\n",
      "Requirement already satisfied: threadpoolctl>=2.0.0 in /Users/briankim/anaconda3/lib/python3.11/site-packages (from scikit-learn->scrubadub==2.0.1->-r requirements.txt (line 4)) (2.2.0)\n",
      "Requirement already satisfied: mpmath>=0.19 in /Users/briankim/anaconda3/lib/python3.11/site-packages (from sympy->onnxruntime==1.15.1->-r requirements.txt (line 2)) (1.3.0)\n",
      "Requirement already satisfied: click in /Users/briankim/anaconda3/lib/python3.11/site-packages (from nltk>=3.1->textblob==0.15.3->scrubadub==2.0.1->-r requirements.txt (line 4)) (8.0.4)\n",
      "Requirement already satisfied: tqdm in /Users/briankim/anaconda3/lib/python3.11/site-packages (from nltk>=3.1->textblob==0.15.3->scrubadub==2.0.1->-r requirements.txt (line 4)) (4.65.0)\n",
      "Requirement already satisfied: six>=1.5 in /Users/briankim/anaconda3/lib/python3.11/site-packages (from python-dateutil->dateparser->scrubadub==2.0.1->-r requirements.txt (line 4)) (1.16.0)\n",
      "Note: you may need to restart the kernel to use updated packages.\n"
     ]
    }
   ],
   "source": [
    "pip install -r requirements.txt"
   ]
  },
  {
   "cell_type": "code",
   "execution_count": null,
   "id": "d02658a0",
   "metadata": {},
   "outputs": [],
   "source": []
  }
 ],
 "metadata": {
  "kernelspec": {
   "display_name": "Python 3 (ipykernel)",
   "language": "python",
   "name": "python3"
  },
  "language_info": {
   "codemirror_mode": {
    "name": "ipython",
    "version": 3
   },
   "file_extension": ".py",
   "mimetype": "text/x-python",
   "name": "python",
   "nbconvert_exporter": "python",
   "pygments_lexer": "ipython3",
   "version": "3.11.4"
  }
 },
 "nbformat": 4,
 "nbformat_minor": 5
}
