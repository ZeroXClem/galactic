{
 "cells": [
  {
   "cell_type": "code",
   "execution_count": 1,
   "id": "2703dae4",
   "metadata": {},
   "outputs": [
    {
     "name": "stdout",
     "output_type": "stream",
     "text": [
      "/Users/briankim/docent\r\n"
     ]
    }
   ],
   "source": [
    "!pwd"
   ]
  },
  {
   "cell_type": "code",
   "execution_count": 2,
   "id": "87a0c1c3",
   "metadata": {},
   "outputs": [
    {
     "name": "stdout",
     "output_type": "stream",
     "text": [
      "Requirement already satisfied: pybloom-live in /Users/briankim/anaconda3/lib/python3.11/site-packages (4.0.0)\n",
      "Requirement already satisfied: bitarray>=0.3.4 in /Users/briankim/anaconda3/lib/python3.11/site-packages (from pybloom-live) (2.8.1)\n",
      "Requirement already satisfied: xxhash>=3.0.0 in /Users/briankim/anaconda3/lib/python3.11/site-packages (from pybloom-live) (3.3.0)\n",
      "Note: you may need to restart the kernel to use updated packages.\n"
     ]
    }
   ],
   "source": [
    "pip install pybloom-live"
   ]
  },
  {
   "cell_type": "code",
   "execution_count": 3,
   "id": "4cd87a1d",
   "metadata": {
    "scrolled": true
   },
   "outputs": [
    {
     "name": "stdout",
     "output_type": "stream",
     "text": [
      "Requirement already satisfied: onnxruntime in /Users/briankim/anaconda3/lib/python3.11/site-packages (1.15.1)\n",
      "Requirement already satisfied: coloredlogs in /Users/briankim/anaconda3/lib/python3.11/site-packages (from onnxruntime) (15.0.1)\n",
      "Requirement already satisfied: flatbuffers in /Users/briankim/anaconda3/lib/python3.11/site-packages (from onnxruntime) (23.5.26)\n",
      "Requirement already satisfied: numpy>=1.24.2 in /Users/briankim/anaconda3/lib/python3.11/site-packages (from onnxruntime) (1.24.3)\n",
      "Requirement already satisfied: packaging in /Users/briankim/anaconda3/lib/python3.11/site-packages (from onnxruntime) (23.0)\n",
      "Requirement already satisfied: protobuf in /Users/briankim/anaconda3/lib/python3.11/site-packages (from onnxruntime) (4.24.3)\n",
      "Requirement already satisfied: sympy in /Users/briankim/anaconda3/lib/python3.11/site-packages (from onnxruntime) (1.11.1)\n",
      "Requirement already satisfied: humanfriendly>=9.1 in /Users/briankim/anaconda3/lib/python3.11/site-packages (from coloredlogs->onnxruntime) (10.0)\n",
      "Requirement already satisfied: mpmath>=0.19 in /Users/briankim/anaconda3/lib/python3.11/site-packages (from sympy->onnxruntime) (1.3.0)\n",
      "Note: you may need to restart the kernel to use updated packages.\n"
     ]
    }
   ],
   "source": [
    "pip install onnxruntime"
   ]
  },
  {
   "cell_type": "code",
   "execution_count": 4,
   "id": "3b52c647",
   "metadata": {},
   "outputs": [
    {
     "name": "stdout",
     "output_type": "stream",
     "text": [
      "Requirement already satisfied: ctranslate2 in /Users/briankim/anaconda3/lib/python3.11/site-packages (3.19.0)\n",
      "Requirement already satisfied: numpy in /Users/briankim/anaconda3/lib/python3.11/site-packages (from ctranslate2) (1.24.3)\n",
      "Requirement already satisfied: pyyaml<7,>=5.3 in /Users/briankim/anaconda3/lib/python3.11/site-packages (from ctranslate2) (6.0)\n",
      "Note: you may need to restart the kernel to use updated packages.\n"
     ]
    }
   ],
   "source": [
    "pip install ctranslate2"
   ]
  },
  {
   "cell_type": "code",
   "execution_count": 5,
   "id": "df21dcf4",
   "metadata": {},
   "outputs": [
    {
     "name": "stdout",
     "output_type": "stream",
     "text": [
      "Requirement already satisfied: scrubadub in /Users/briankim/anaconda3/lib/python3.11/site-packages (2.0.1)\n",
      "Requirement already satisfied: textblob==0.15.3 in /Users/briankim/anaconda3/lib/python3.11/site-packages (from scrubadub) (0.15.3)\n",
      "Requirement already satisfied: phonenumbers in /Users/briankim/anaconda3/lib/python3.11/site-packages (from scrubadub) (8.13.20)\n",
      "Requirement already satisfied: python-stdnum in /Users/briankim/anaconda3/lib/python3.11/site-packages (from scrubadub) (1.19)\n",
      "Requirement already satisfied: dateparser in /Users/briankim/anaconda3/lib/python3.11/site-packages (from scrubadub) (1.1.8)\n",
      "Requirement already satisfied: catalogue in /Users/briankim/anaconda3/lib/python3.11/site-packages (from scrubadub) (2.0.9)\n",
      "Requirement already satisfied: scikit-learn in /Users/briankim/anaconda3/lib/python3.11/site-packages (from scrubadub) (1.3.0)\n",
      "Requirement already satisfied: typing-extensions in /Users/briankim/anaconda3/lib/python3.11/site-packages (from scrubadub) (4.7.1)\n",
      "Requirement already satisfied: faker in /Users/briankim/anaconda3/lib/python3.11/site-packages (from scrubadub) (19.6.1)\n",
      "Requirement already satisfied: nltk>=3.1 in /Users/briankim/anaconda3/lib/python3.11/site-packages (from textblob==0.15.3->scrubadub) (3.8.1)\n",
      "Requirement already satisfied: python-dateutil in /Users/briankim/anaconda3/lib/python3.11/site-packages (from dateparser->scrubadub) (2.8.2)\n",
      "Requirement already satisfied: pytz in /Users/briankim/anaconda3/lib/python3.11/site-packages (from dateparser->scrubadub) (2022.7)\n",
      "Requirement already satisfied: regex!=2019.02.19,!=2021.8.27 in /Users/briankim/anaconda3/lib/python3.11/site-packages (from dateparser->scrubadub) (2022.7.9)\n",
      "Requirement already satisfied: tzlocal in /Users/briankim/anaconda3/lib/python3.11/site-packages (from dateparser->scrubadub) (5.0.1)\n",
      "Requirement already satisfied: numpy>=1.17.3 in /Users/briankim/anaconda3/lib/python3.11/site-packages (from scikit-learn->scrubadub) (1.24.3)\n",
      "Requirement already satisfied: scipy>=1.5.0 in /Users/briankim/anaconda3/lib/python3.11/site-packages (from scikit-learn->scrubadub) (1.10.1)\n",
      "Requirement already satisfied: joblib>=1.1.1 in /Users/briankim/anaconda3/lib/python3.11/site-packages (from scikit-learn->scrubadub) (1.2.0)\n",
      "Requirement already satisfied: threadpoolctl>=2.0.0 in /Users/briankim/anaconda3/lib/python3.11/site-packages (from scikit-learn->scrubadub) (2.2.0)\n",
      "Requirement already satisfied: click in /Users/briankim/anaconda3/lib/python3.11/site-packages (from nltk>=3.1->textblob==0.15.3->scrubadub) (8.0.4)\n",
      "Requirement already satisfied: tqdm in /Users/briankim/anaconda3/lib/python3.11/site-packages (from nltk>=3.1->textblob==0.15.3->scrubadub) (4.65.0)\n",
      "Requirement already satisfied: six>=1.5 in /Users/briankim/anaconda3/lib/python3.11/site-packages (from python-dateutil->dateparser->scrubadub) (1.16.0)\n",
      "Note: you may need to restart the kernel to use updated packages.\n"
     ]
    }
   ],
   "source": [
    "pip install scrubadub"
   ]
  },
  {
   "cell_type": "code",
   "execution_count": 6,
   "id": "05c54b93",
   "metadata": {
    "scrolled": true
   },
   "outputs": [
    {
     "name": "stdout",
     "output_type": "stream",
     "text": [
      "Requirement already satisfied: fasttext in /Users/briankim/anaconda3/lib/python3.11/site-packages (0.9.2)\n",
      "Requirement already satisfied: pybind11>=2.2 in /Users/briankim/anaconda3/lib/python3.11/site-packages (from fasttext) (2.11.1)\n",
      "Requirement already satisfied: setuptools>=0.7.0 in /Users/briankim/anaconda3/lib/python3.11/site-packages (from fasttext) (68.0.0)\n",
      "Requirement already satisfied: numpy in /Users/briankim/anaconda3/lib/python3.11/site-packages (from fasttext) (1.24.3)\n",
      "Note: you may need to restart the kernel to use updated packages.\n"
     ]
    }
   ],
   "source": [
    "pip install fasttext"
   ]
  },
  {
   "cell_type": "code",
   "execution_count": 11,
   "id": "7a4eb020",
   "metadata": {
    "scrolled": true
   },
   "outputs": [],
   "source": [
    "from dataset import Docent"
   ]
  },
  {
   "cell_type": "code",
   "execution_count": 16,
   "id": "92fcc2ba",
   "metadata": {},
   "outputs": [
    {
     "name": "stdout",
     "output_type": "stream",
     "text": [
      "Name: pybloom-live\n",
      "Version: 4.0.0\n",
      "Summary: Bloom filter: A Probabilistic data structure\n",
      "Home-page: https://github.com/joseph-fox/python-bloomfilter\n",
      "Author: Jay Baird\n",
      "Author-email: jay.baird@me.com\n",
      "License: MIT License\n",
      "Location: /Users/briankim/anaconda3/lib/python3.11/site-packages\n",
      "Requires: bitarray, xxhash\n",
      "Required-by: \n",
      "Name: onnxruntime\n",
      "Version: 1.15.1\n",
      "Summary: ONNX Runtime is a runtime accelerator for Machine Learning models\n",
      "Home-page: https://onnxruntime.ai\n",
      "Author: Microsoft Corporation\n",
      "Author-email: onnxruntime@microsoft.com\n",
      "License: MIT License\n",
      "Location: /Users/briankim/anaconda3/lib/python3.11/site-packages\n",
      "Requires: coloredlogs, flatbuffers, numpy, packaging, protobuf, sympy\n",
      "Required-by: \n",
      "Name: ctranslate2\n",
      "Version: 3.19.0\n",
      "Summary: Fast inference engine for Transformer models\n",
      "Home-page: https://opennmt.net\n",
      "Author: OpenNMT\n",
      "Author-email: \n",
      "License: MIT\n",
      "Location: /Users/briankim/anaconda3/lib/python3.11/site-packages\n",
      "Requires: numpy, pyyaml\n",
      "Required-by: \n",
      "Name: scrubadub\n",
      "Version: 2.0.1\n",
      "Summary: Clean personally identifiable information from dirty dirty text.\n",
      "Home-page: https://github.com/LeapBeyond/scrubadub\n",
      "Author: Dean Malmgren\n",
      "Author-email: dean.malmgren@datascopeanalytics.com\n",
      "License: MIT\n",
      "Location: /Users/briankim/anaconda3/lib/python3.11/site-packages\n",
      "Requires: catalogue, dateparser, faker, phonenumbers, python-stdnum, scikit-learn, textblob, typing-extensions\n",
      "Required-by: \n",
      "Name: fasttext\n",
      "Version: 0.9.2\n",
      "Summary: fasttext Python bindings\n",
      "Home-page: https://github.com/facebookresearch/fastText\n",
      "Author: Onur Celebi\n",
      "Author-email: celebio@fb.com\n",
      "License: MIT\n",
      "Location: /Users/briankim/anaconda3/lib/python3.11/site-packages\n",
      "Requires: numpy, pybind11, setuptools\n",
      "Required-by: \n"
     ]
    }
   ],
   "source": [
    "!pip show pybloom-live\n",
    "!pip show onnxruntime\n",
    "!pip show ctranslate2\n",
    "!pip show scrubadub\n",
    "!pip show fasttext"
   ]
  },
  {
   "cell_type": "code",
   "execution_count": null,
   "id": "6c8e2788",
   "metadata": {},
   "outputs": [],
   "source": [
    "!pip show ctranslate2\n"
   ]
  }
 ],
 "metadata": {
  "kernelspec": {
   "display_name": "Python 3 (ipykernel)",
   "language": "python",
   "name": "python3"
  },
  "language_info": {
   "codemirror_mode": {
    "name": "ipython",
    "version": 3
   },
   "file_extension": ".py",
   "mimetype": "text/x-python",
   "name": "python",
   "nbconvert_exporter": "python",
   "pygments_lexer": "ipython3",
   "version": "3.11.4"
  }
 },
 "nbformat": 4,
 "nbformat_minor": 5
}
